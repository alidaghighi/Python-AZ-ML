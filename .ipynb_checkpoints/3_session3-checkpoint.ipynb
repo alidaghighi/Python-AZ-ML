{
 "cells": [
  {
   "cell_type": "markdown",
   "metadata": {
    "id": "rXOKDuuCJnF3"
   },
   "source": [
    "# Revision"
   ]
  },
  {
   "cell_type": "code",
   "execution_count": 1,
   "metadata": {
    "colab": {
     "base_uri": "https://localhost:8080/"
    },
    "id": "qUSn8x3O5Fee",
    "outputId": "40190eaf-db4c-426f-f30b-87857130d815"
   },
   "outputs": [
    {
     "name": "stdout",
     "output_type": "stream",
     "text": [
      "0.006052970886230469\n"
     ]
    }
   ],
   "source": [
    "import time\n",
    "# List Comperhensions\n",
    "current = time.time()\n",
    "my_list = [i for i in range(100000)]\n",
    "finish = time.time()\n",
    "print(finish - current)\n",
    "# print(my_list)"
   ]
  },
  {
   "cell_type": "code",
   "execution_count": 2,
   "metadata": {
    "colab": {
     "base_uri": "https://localhost:8080/",
     "height": 263
    },
    "id": "vbliPKEU5IA-",
    "outputId": "b968bac5-66d1-4e75-8571-4b2188a67e78"
   },
   "outputs": [
    {
     "name": "stdout",
     "output_type": "stream",
     "text": [
      "range(0, 5)\n",
      "[0, 1, 2, 3, 4]\n",
      "h\n",
      "i\n"
     ]
    },
    {
     "ename": "StopIteration",
     "evalue": "",
     "output_type": "error",
     "traceback": [
      "\u001b[0;31m---------------------------------------------------------------------------\u001b[0m",
      "\u001b[0;31mStopIteration\u001b[0m                             Traceback (most recent call last)",
      "\u001b[0;32m<ipython-input-2-e422e0a0c213>\u001b[0m in \u001b[0;36m<cell line: 7>\u001b[0;34m()\u001b[0m\n\u001b[1;32m      5\u001b[0m \u001b[0mprint\u001b[0m\u001b[0;34m(\u001b[0m\u001b[0mnext\u001b[0m\u001b[0;34m(\u001b[0m\u001b[0miterator\u001b[0m\u001b[0;34m)\u001b[0m\u001b[0;34m)\u001b[0m\u001b[0;34m\u001b[0m\u001b[0;34m\u001b[0m\u001b[0m\n\u001b[1;32m      6\u001b[0m \u001b[0mprint\u001b[0m\u001b[0;34m(\u001b[0m\u001b[0mnext\u001b[0m\u001b[0;34m(\u001b[0m\u001b[0miterator\u001b[0m\u001b[0;34m)\u001b[0m\u001b[0;34m)\u001b[0m\u001b[0;34m\u001b[0m\u001b[0;34m\u001b[0m\u001b[0m\n\u001b[0;32m----> 7\u001b[0;31m \u001b[0mprint\u001b[0m\u001b[0;34m(\u001b[0m\u001b[0mnext\u001b[0m\u001b[0;34m(\u001b[0m\u001b[0miterator\u001b[0m\u001b[0;34m)\u001b[0m\u001b[0;34m)\u001b[0m\u001b[0;34m\u001b[0m\u001b[0;34m\u001b[0m\u001b[0m\n\u001b[0m\u001b[1;32m      8\u001b[0m \u001b[0;31m####\u001b[0m\u001b[0;34m\u001b[0m\u001b[0;34m\u001b[0m\u001b[0m\n",
      "\u001b[0;31mStopIteration\u001b[0m: "
     ]
    }
   ],
   "source": [
    "# Generators and iterators and range\n",
    "print(range(5))\n",
    "print(list(range(5)))\n",
    "iterator = iter('hi')\n",
    "print(next(iterator))\n",
    "print(next(iterator))\n",
    "print(next(iterator))\n",
    "####\n"
   ]
  },
  {
   "cell_type": "code",
   "execution_count": null,
   "metadata": {
    "id": "2WP-U6nGF7C_"
   },
   "outputs": [],
   "source": []
  },
  {
   "cell_type": "code",
   "execution_count": null,
   "metadata": {
    "colab": {
     "base_uri": "https://localhost:8080/"
    },
    "id": "JQdOIzVErD5W",
    "outputId": "811899f0-06d0-4e2f-8e4b-235021ceb227"
   },
   "outputs": [
    {
     "name": "stdout",
     "output_type": "stream",
     "text": [
      "1\n",
      "2\n",
      "3\n"
     ]
    }
   ],
   "source": [
    "def my_generator():\n",
    "    yield 1\n",
    "    yield 2\n",
    "    yield 3\n",
    "\n",
    "# Using the generator\n",
    "gen = my_generator()\n",
    "print(next(gen))  # Output: 1\n",
    "print(next(gen))  # Output: 2\n",
    "print(next(gen))  # Output: 3\n",
    "# print(next(gen))  # Raises StopIteration"
   ]
  },
  {
   "cell_type": "code",
   "execution_count": 8,
   "metadata": {
    "colab": {
     "base_uri": "https://localhost:8080/",
     "height": 211
    },
    "id": "1YPFCGSXHZJT",
    "outputId": "2f1e6994-014f-466f-bda8-5abdb1e0c9e2"
   },
   "outputs": [
    {
     "ename": "KeyboardInterrupt",
     "evalue": "",
     "output_type": "error",
     "traceback": [
      "\u001b[0;31m---------------------------------------------------------------------------\u001b[0m",
      "\u001b[0;31mKeyboardInterrupt\u001b[0m                         Traceback (most recent call last)",
      "\u001b[0;32m<ipython-input-8-2dbfacfe35a5>\u001b[0m in \u001b[0;36m<cell line: 1>\u001b[0;34m()\u001b[0m\n\u001b[1;32m      1\u001b[0m \u001b[0;32mwith\u001b[0m \u001b[0mopen\u001b[0m\u001b[0;34m(\u001b[0m\u001b[0;34m'SERVER.LOG'\u001b[0m\u001b[0;34m,\u001b[0m \u001b[0;34m'w'\u001b[0m\u001b[0;34m)\u001b[0m \u001b[0;32mas\u001b[0m \u001b[0mfile\u001b[0m\u001b[0;34m:\u001b[0m\u001b[0;34m\u001b[0m\u001b[0;34m\u001b[0m\u001b[0m\n\u001b[1;32m      2\u001b[0m   \u001b[0;32mfor\u001b[0m \u001b[0mi\u001b[0m \u001b[0;32min\u001b[0m \u001b[0mrange\u001b[0m\u001b[0;34m(\u001b[0m\u001b[0;36m204008600\u001b[0m\u001b[0;34m)\u001b[0m\u001b[0;34m:\u001b[0m\u001b[0;34m\u001b[0m\u001b[0;34m\u001b[0m\u001b[0m\n\u001b[0;32m----> 3\u001b[0;31m     \u001b[0mfile\u001b[0m\u001b[0;34m.\u001b[0m\u001b[0mwrite\u001b[0m\u001b[0;34m(\u001b[0m\u001b[0;34m'IFON :'\u001b[0m \u001b[0;34m+\u001b[0m \u001b[0mstr\u001b[0m\u001b[0;34m(\u001b[0m\u001b[0mi\u001b[0m\u001b[0;34m)\u001b[0m \u001b[0;34m+\u001b[0m \u001b[0;34m'\\n'\u001b[0m\u001b[0;34m)\u001b[0m\u001b[0;34m\u001b[0m\u001b[0;34m\u001b[0m\u001b[0m\n\u001b[0m\u001b[1;32m      4\u001b[0m     \u001b[0;32mif\u001b[0m \u001b[0mi\u001b[0m \u001b[0;34m%\u001b[0m \u001b[0;36m100000\u001b[0m \u001b[0;34m==\u001b[0m \u001b[0;36m0\u001b[0m\u001b[0;34m:\u001b[0m\u001b[0;34m\u001b[0m\u001b[0;34m\u001b[0m\u001b[0m\n\u001b[1;32m      5\u001b[0m       \u001b[0mfile\u001b[0m\u001b[0;34m.\u001b[0m\u001b[0mwrite\u001b[0m\u001b[0;34m(\u001b[0m\u001b[0;34m'ERROR :'\u001b[0m \u001b[0;34m+\u001b[0m \u001b[0mstr\u001b[0m\u001b[0;34m(\u001b[0m\u001b[0mi\u001b[0m\u001b[0;34m)\u001b[0m \u001b[0;34m+\u001b[0m \u001b[0;34m'\\n'\u001b[0m\u001b[0;34m)\u001b[0m\u001b[0;34m\u001b[0m\u001b[0;34m\u001b[0m\u001b[0m\n",
      "\u001b[0;31mKeyboardInterrupt\u001b[0m: "
     ]
    }
   ],
   "source": [
    "with open('SERVER.LOG', 'w') as file:\n",
    "  for i in range(204008600):\n",
    "    file.write('IFON :' + str(i) + '\\n')\n",
    "    if i % 100000 == 0:\n",
    "      file.write('ERROR :' + str(i) + '\\n')"
   ]
  },
  {
   "cell_type": "code",
   "execution_count": 9,
   "metadata": {
    "id": "wb3iXKndII7u"
   },
   "outputs": [],
   "source": [
    "file.close()"
   ]
  },
  {
   "cell_type": "code",
   "execution_count": 10,
   "metadata": {
    "id": "QRin0majGdrC"
   },
   "outputs": [],
   "source": [
    "def read_large_file(file_path):\n",
    "    with open(file_path, 'r') as file:\n",
    "        for line in file:\n",
    "            yield line\n",
    "def filter_error(file_path):\n",
    "    for line in read_large_file(file_path):\n",
    "        if 'ERROR' in line:\n",
    "            yield line.strip()\n",
    "# Using the generator\n",
    "file_path = 'SERVER.LOG'\n",
    "generator = filter_error(file_path)"
   ]
  },
  {
   "cell_type": "code",
   "execution_count": 11,
   "metadata": {
    "colab": {
     "base_uri": "https://localhost:8080/"
    },
    "id": "LjreQdguG_Jj",
    "outputId": "5b186cbf-efcf-4a8b-935b-03c91479225e"
   },
   "outputs": [
    {
     "name": "stdout",
     "output_type": "stream",
     "text": [
      "950\n"
     ]
    }
   ],
   "source": [
    "i = 0\n",
    "for error_line in generator:\n",
    "    i+=1\n",
    "print(i)"
   ]
  },
  {
   "cell_type": "code",
   "execution_count": 15,
   "metadata": {
    "colab": {
     "base_uri": "https://localhost:8080/"
    },
    "id": "8N_KtezIJ8rc",
    "outputId": "ebceb845-18eb-4fc3-988c-ef2e511903da"
   },
   "outputs": [
    {
     "data": {
      "text/plain": [
       "False"
      ]
     },
     "execution_count": 15,
     "metadata": {},
     "output_type": "execute_result"
    }
   ],
   "source": [
    "# Lambda\n",
    "my_check = lambda x: 'x' in x\n",
    "\n",
    "my_check('Hello')"
   ]
  },
  {
   "cell_type": "code",
   "execution_count": 22,
   "metadata": {
    "id": "7uskNkt5uyXN"
   },
   "outputs": [],
   "source": [
    "# Map\n",
    "def power2(x):\n",
    "  return x ** 2\n",
    "\n",
    "l1 = [1, 2, 3, 4]\n",
    "l2 = [1, 2, 3, 4]\n",
    "l3 = [1, 2, 3, 4]\n",
    "# for i in l1:\n",
    "#     print(power2(i))\n",
    "\n",
    "m1 =map(power2, l1)\n",
    "m2 =map(lambda x, y, z: (x**2, y**2, z**2), l1, l2, l3)\n",
    "\n",
    "# print(next(m1))\n",
    "# print(next(m2))\n"
   ]
  },
  {
   "cell_type": "code",
   "execution_count": 20,
   "metadata": {
    "id": "vJ2a5tf6KrZx"
   },
   "outputs": [],
   "source": [
    "# Adding reduce"
   ]
  },
  {
   "cell_type": "code",
   "execution_count": 23,
   "metadata": {
    "colab": {
     "base_uri": "https://localhost:8080/"
    },
    "id": "r9XrKmzWJrPL",
    "outputId": "59515996-ae82-47ee-b7ed-d32ff8c2a0b2"
   },
   "outputs": [
    {
     "name": "stdout",
     "output_type": "stream",
     "text": [
      "1 1 1\n",
      "4 4 4\n",
      "9 9 9\n",
      "16 16 16\n"
     ]
    }
   ],
   "source": [
    "for i, j, k in m2:\n",
    "  print(i, j, k)"
   ]
  },
  {
   "cell_type": "code",
   "execution_count": null,
   "metadata": {
    "colab": {
     "base_uri": "https://localhost:8080/",
     "height": 311
    },
    "id": "qDeAhTjBKI3Z",
    "outputId": "5d314375-fad7-453f-8fa6-b8cc32a75be0"
   },
   "outputs": [
    {
     "name": "stdout",
     "output_type": "stream",
     "text": [
      "(1, '1')\n",
      "(2, '2')\n",
      "(3, '3')\n",
      "(4, '4')\n",
      "(5, '5')\n"
     ]
    },
    {
     "ename": "IndexError",
     "evalue": "list index out of range",
     "output_type": "error",
     "traceback": [
      "\u001b[0;31m---------------------------------------------------------------------------\u001b[0m",
      "\u001b[0;31mIndexError\u001b[0m                                Traceback (most recent call last)",
      "\u001b[0;32m<ipython-input-8-ddf193feac00>\u001b[0m in \u001b[0;36m<cell line: 5>\u001b[0;34m()\u001b[0m\n\u001b[1;32m      4\u001b[0m \u001b[0ml2\u001b[0m \u001b[0;34m=\u001b[0m \u001b[0;34m[\u001b[0m\u001b[0;34m'1'\u001b[0m\u001b[0;34m,\u001b[0m \u001b[0;34m'2'\u001b[0m\u001b[0;34m,\u001b[0m \u001b[0;34m'3'\u001b[0m\u001b[0;34m,\u001b[0m \u001b[0;34m'4'\u001b[0m\u001b[0;34m,\u001b[0m \u001b[0;34m'5'\u001b[0m\u001b[0;34m,\u001b[0m \u001b[0;34m'6'\u001b[0m\u001b[0;34m]\u001b[0m\u001b[0;34m\u001b[0m\u001b[0;34m\u001b[0m\u001b[0m\n\u001b[1;32m      5\u001b[0m \u001b[0;32mfor\u001b[0m \u001b[0mi\u001b[0m \u001b[0;32min\u001b[0m \u001b[0mrange\u001b[0m\u001b[0;34m(\u001b[0m\u001b[0mlen\u001b[0m\u001b[0;34m(\u001b[0m\u001b[0ml2\u001b[0m\u001b[0;34m)\u001b[0m\u001b[0;34m)\u001b[0m\u001b[0;34m:\u001b[0m\u001b[0;34m\u001b[0m\u001b[0;34m\u001b[0m\u001b[0m\n\u001b[0;32m----> 6\u001b[0;31m     \u001b[0mprint\u001b[0m\u001b[0;34m(\u001b[0m\u001b[0;34m(\u001b[0m\u001b[0ml1\u001b[0m\u001b[0;34m[\u001b[0m\u001b[0mi\u001b[0m\u001b[0;34m]\u001b[0m\u001b[0;34m,\u001b[0m \u001b[0ml2\u001b[0m\u001b[0;34m[\u001b[0m\u001b[0mi\u001b[0m\u001b[0;34m]\u001b[0m\u001b[0;34m)\u001b[0m\u001b[0;34m)\u001b[0m\u001b[0;34m\u001b[0m\u001b[0;34m\u001b[0m\u001b[0m\n\u001b[0m\u001b[1;32m      7\u001b[0m \u001b[0ml1\u001b[0m \u001b[0;34m=\u001b[0m \u001b[0;34m[\u001b[0m\u001b[0;36m1\u001b[0m\u001b[0;34m,\u001b[0m \u001b[0;36m2\u001b[0m\u001b[0;34m,\u001b[0m \u001b[0;36m3\u001b[0m\u001b[0;34m,\u001b[0m \u001b[0;36m4\u001b[0m\u001b[0;34m,\u001b[0m \u001b[0;36m5\u001b[0m\u001b[0;34m]\u001b[0m\u001b[0;34m\u001b[0m\u001b[0;34m\u001b[0m\u001b[0m\n\u001b[1;32m      8\u001b[0m \u001b[0ml2\u001b[0m \u001b[0;34m=\u001b[0m \u001b[0;34m[\u001b[0m\u001b[0;34m'1'\u001b[0m\u001b[0;34m,\u001b[0m \u001b[0;34m'2'\u001b[0m\u001b[0;34m,\u001b[0m \u001b[0;34m'3'\u001b[0m\u001b[0;34m,\u001b[0m \u001b[0;34m'4'\u001b[0m\u001b[0;34m]\u001b[0m\u001b[0;34m\u001b[0m\u001b[0;34m\u001b[0m\u001b[0m\n",
      "\u001b[0;31mIndexError\u001b[0m: list index out of range"
     ]
    }
   ],
   "source": [
    "# Zip\n",
    "\n",
    "l1 = [1, 2, 3, 4, 5]\n",
    "l2 = ['1', '2', '3', '4', '5', '6']\n",
    "for i in range(len(l2)):\n",
    "    print((l1[i], l2[i]))\n"
   ]
  },
  {
   "cell_type": "code",
   "execution_count": null,
   "metadata": {
    "colab": {
     "base_uri": "https://localhost:8080/"
    },
    "id": "8Dau-Lo1rLRg",
    "outputId": "28ea9153-b814-4191-c852-877d0992d749"
   },
   "outputs": [
    {
     "name": "stdout",
     "output_type": "stream",
     "text": [
      "i:  1 , j:  1\n",
      "i:  2 , j:  2\n",
      "i:  3 , j:  3\n",
      "i:  4 , j:  4\n"
     ]
    }
   ],
   "source": [
    "l1 = [1, 2, 3, 4, 5]\n",
    "l2 = ['1', '2', '3', '4']\n",
    "\n",
    "# zipped = list(zip(l1, l2))\n",
    "# print(zipped)\n",
    "\n",
    "for i, j in zip(l1, l2):\n",
    "    print('i: ', i, ', j: ', j)"
   ]
  },
  {
   "cell_type": "code",
   "execution_count": 24,
   "metadata": {
    "colab": {
     "base_uri": "https://localhost:8080/",
     "height": 367
    },
    "id": "udIkalxIKSHs",
    "outputId": "838a4ca2-8386-4213-9690-1f733121c6af"
   },
   "outputs": [
    {
     "name": "stdout",
     "output_type": "stream",
     "text": [
      "0 1\n",
      "1 2\n",
      "2 3\n",
      "3 4\n",
      "4 5\n",
      "0 1\n",
      "1 2\n",
      "2 3\n",
      "3 4\n",
      "4 5\n"
     ]
    },
    {
     "ename": "TypeError",
     "evalue": "'set' object is not subscriptable",
     "output_type": "error",
     "traceback": [
      "\u001b[0;31m---------------------------------------------------------------------------\u001b[0m",
      "\u001b[0;31mTypeError\u001b[0m                                 Traceback (most recent call last)",
      "\u001b[0;32m<ipython-input-24-e5ec770050ca>\u001b[0m in \u001b[0;36m<cell line: 11>\u001b[0;34m()\u001b[0m\n\u001b[1;32m     10\u001b[0m \u001b[0mmy_set\u001b[0m \u001b[0;34m=\u001b[0m \u001b[0;34m{\u001b[0m\u001b[0;36m1\u001b[0m\u001b[0;34m,\u001b[0m\u001b[0;36m2\u001b[0m\u001b[0;34m,\u001b[0m\u001b[0;36m3\u001b[0m\u001b[0;34m,\u001b[0m\u001b[0;36m4\u001b[0m\u001b[0;34m,\u001b[0m\u001b[0;36m5\u001b[0m\u001b[0;34m}\u001b[0m\u001b[0;34m\u001b[0m\u001b[0;34m\u001b[0m\u001b[0m\n\u001b[1;32m     11\u001b[0m \u001b[0;32mfor\u001b[0m \u001b[0mi\u001b[0m \u001b[0;32min\u001b[0m \u001b[0mrange\u001b[0m\u001b[0;34m(\u001b[0m\u001b[0mlen\u001b[0m\u001b[0;34m(\u001b[0m\u001b[0mmy_set\u001b[0m\u001b[0;34m)\u001b[0m\u001b[0;34m)\u001b[0m\u001b[0;34m:\u001b[0m\u001b[0;34m\u001b[0m\u001b[0;34m\u001b[0m\u001b[0m\n\u001b[0;32m---> 12\u001b[0;31m     \u001b[0mprint\u001b[0m\u001b[0;34m(\u001b[0m\u001b[0mi\u001b[0m\u001b[0;34m,\u001b[0m \u001b[0mmy_set\u001b[0m\u001b[0;34m[\u001b[0m\u001b[0mi\u001b[0m\u001b[0;34m]\u001b[0m\u001b[0;34m)\u001b[0m\u001b[0;34m\u001b[0m\u001b[0;34m\u001b[0m\u001b[0m\n\u001b[0m\u001b[1;32m     13\u001b[0m \u001b[0;34m\u001b[0m\u001b[0m\n",
      "\u001b[0;31mTypeError\u001b[0m: 'set' object is not subscriptable"
     ]
    }
   ],
   "source": [
    "# Enumerate\n",
    "\n",
    "l1 = [1, 2, 3, 4, 5]\n",
    "for i in range(len(l1)):\n",
    "    print(i, l1[i])\n",
    "\n",
    "for index, value in enumerate(l1):\n",
    "    print(index, value)\n",
    "\n",
    "my_set = {1,2,3,4,5}\n",
    "for i in range(len(my_set)):\n",
    "    print(i, my_set[i])\n",
    "\n"
   ]
  },
  {
   "cell_type": "code",
   "execution_count": 27,
   "metadata": {
    "colab": {
     "base_uri": "https://localhost:8080/"
    },
    "id": "mk3DUqXJMKda",
    "outputId": "24063315-d8a9-4b29-ec6b-8286f9df5e20"
   },
   "outputs": [
    {
     "name": "stdout",
     "output_type": "stream",
     "text": [
      "1\n"
     ]
    }
   ],
   "source": [
    "my_set2 = {1,1,1,1,1,1,1}\n",
    "for i in my_set2:\n",
    "    print(i)"
   ]
  },
  {
   "cell_type": "code",
   "execution_count": 28,
   "metadata": {
    "colab": {
     "base_uri": "https://localhost:8080/"
    },
    "id": "_y6Kkc4NMdvU",
    "outputId": "0aab9e15-3b6e-49c3-af7f-fc911b349c91"
   },
   "outputs": [
    {
     "name": "stdout",
     "output_type": "stream",
     "text": [
      "0 1\n"
     ]
    }
   ],
   "source": [
    "for index, value in enumerate(my_set2):\n",
    "    print(index, value)"
   ]
  },
  {
   "cell_type": "code",
   "execution_count": 26,
   "metadata": {
    "colab": {
     "base_uri": "https://localhost:8080/"
    },
    "id": "mCmPoGdmrN-p",
    "outputId": "1e7bf21c-2106-444f-d136-6d2b302eebb9"
   },
   "outputs": [
    {
     "name": "stdout",
     "output_type": "stream",
     "text": [
      "0 1\n",
      "1 2\n",
      "2 3\n",
      "3 4\n",
      "4 5\n"
     ]
    }
   ],
   "source": [
    "for index, value in enumerate(my_set):\n",
    "    print(index, value)"
   ]
  },
  {
   "cell_type": "code",
   "execution_count": null,
   "metadata": {
    "colab": {
     "base_uri": "https://localhost:8080/"
    },
    "id": "9g0FweZ3K_AP",
    "outputId": "eb04bd58-1ba2-42e9-9e82-90721c96bd0a"
   },
   "outputs": [
    {
     "name": "stdout",
     "output_type": "stream",
     "text": [
      "Enter a number: 3\n",
      "0.3333333333333333\n",
      "No error\n",
      "Finally\n"
     ]
    }
   ],
   "source": [
    "# Errors\n",
    "\n",
    "try:\n",
    "    a = int(input(\"Enter a number: \"))\n",
    "    print(1/a)\n",
    "except:\n",
    "    print(\"Invalid input\")\n",
    "else:\n",
    "    print(\"No error\")\n",
    "finally:\n",
    "    print(\"Finally\")"
   ]
  },
  {
   "cell_type": "code",
   "execution_count": 29,
   "metadata": {
    "colab": {
     "base_uri": "https://localhost:8080/"
    },
    "id": "Jzaunc7ILC1J",
    "outputId": "eb8a4f44-9c22-4d78-ad8c-6e101f4766a2"
   },
   "outputs": [
    {
     "name": "stdout",
     "output_type": "stream",
     "text": [
      "File not found\n",
      "File will be created\n"
     ]
    }
   ],
   "source": [
    "# Files\n",
    "try:\n",
    "\n",
    "  f = open(\"Q1.py\")    # open file in current directory\n",
    "  print(f.readline())      # read the entire file\n",
    "except:\n",
    "    print(\"File not found\")\n",
    "    print(\"File will be created\")\n",
    "    f = open(\"Q1.py\", \"w\")\n",
    "    f.write(\"print('Hello World')\")\n",
    "finally:\n",
    "  f.close()"
   ]
  },
  {
   "cell_type": "markdown",
   "metadata": {
    "id": "LDtKnUDRroiS"
   },
   "source": [
    "# Practice Time"
   ]
  },
  {
   "cell_type": "markdown",
   "metadata": {
    "id": "f2UJPsL9rrIf"
   },
   "source": [
    "## Question 1\n",
    "\n",
    "Cipher is a secret or disguised way of writing a text.\n",
    "In this question we have a cipher algorithm called **Nano Cipher**\n",
    "\n",
    "This algorithm encrypts the given text using a simple substitution cipher. It gets a plain text to encrypt and a single Integer which is the number of positions to shift each character.\n",
    "\n",
    "The mathematical formula for the encryption process is:\n",
    "\n",
    "$$\n",
    "E(x) = (x - \\text{offset} + \\text{shift}) \\mod 26 + \\text{offset}\n",
    "$$\n",
    "\n",
    "### Breakdown of the formula:\n",
    "1. **`x`**: The ASCII value of the current character (`ord(char)`).\n",
    "2. **`offset`**: A value to normalize the range for uppercase or lowercase letters:\n",
    "   - `65` for uppercase (`'A'` to `'Z'`).\n",
    "   - `97` for lowercase (`'a'` to `'z'`).\n",
    "3. **`shift`**: The number of positions to shift each character.\n",
    "4. **`% 26`**: Ensures the result wraps around the alphabet (e.g., `'Z'` shifted by 1 becomes `'A'`).\n",
    "5. **`+ offset`**: Converts the normalized value back to a valid ASCII code for the target case.\n",
    "\n",
    "The formula works only for alphabetic characters. Non-alphabetic characters are appended to the result unchanged.\n",
    "\n",
    "### Decryption Formula:\n",
    "For decryption, you reverse the shift:\n",
    "$$\n",
    "D(x) = (x - \\text{offset} - \\text{shift}) \\mod 26 + \\text{offset}\n",
    "$$\n",
    "\n",
    "This restores the original text.\n",
    "\n",
    "\n",
    "---\n",
    "***Example***\n",
    "Shift Value: 4\n",
    "\n",
    "Encrypted: Xibx\n",
    "\n",
    "Decrypted: Text"
   ]
  },
  {
   "cell_type": "code",
   "execution_count": 30,
   "metadata": {
    "id": "6gWbbcsoDymu"
   },
   "outputs": [],
   "source": [
    "def encrypt(text, shift):\n",
    "    \"\"\"\n",
    "    Args:\n",
    "    Text(str): The text to be encrypted.\n",
    "    Shift(int): The number of positions to shift each character.\n",
    "\n",
    "    Return:\n",
    "    str: The encrypted text.\n",
    "    \"\"\"\n",
    "    result = \"\"\n",
    "    for char in text:\n",
    "      if char.isalpha():\n",
    "        if char.isupper():\n",
    "          offset = 65\n",
    "        else:\n",
    "          offset = 97\n",
    "        result += chr((ord(char) - offset + shift) % 26 + offset)\n",
    "      else:\n",
    "        result += char\n",
    "    return result"
   ]
  },
  {
   "cell_type": "code",
   "execution_count": 32,
   "metadata": {
    "id": "4R1raU3bO4Y7"
   },
   "outputs": [],
   "source": [
    "def decrypt(text, shift):\n",
    "    \"\"\"\n",
    "    Args:\n",
    "    Text(str): The text to be decrypted.\n",
    "    Shift(int): The number of positions to shift each character.\n",
    "\n",
    "    Return:\n",
    "    str: The decrypted text.\n",
    "    \"\"\"\n",
    "    result = \"\"\n",
    "    for char in text:\n",
    "      if char.isalpha():\n",
    "        if char.isupper():\n",
    "          offset = 65\n",
    "        else:\n",
    "          offset = 97\n",
    "        result += chr((ord(char) - offset - shift) % 26 + offset)\n",
    "      else:\n",
    "        result += char\n",
    "    return result"
   ]
  },
  {
   "cell_type": "code",
   "execution_count": 33,
   "metadata": {
    "colab": {
     "base_uri": "https://localhost:8080/",
     "height": 35
    },
    "id": "XWoqnumlOxf1",
    "outputId": "a69f1b54-f204-41ae-9a82-5e9aca7301ee"
   },
   "outputs": [
    {
     "data": {
      "application/vnd.google.colaboratory.intrinsic+json": {
       "type": "string"
      },
      "text/plain": [
       "'Text'"
      ]
     },
     "execution_count": 33,
     "metadata": {},
     "output_type": "execute_result"
    }
   ],
   "source": [
    "encrypt('Text', 4)\n",
    "decrypt('Xibx', 4)"
   ]
  },
  {
   "cell_type": "markdown",
   "metadata": {
    "id": "QRK1amub6aND"
   },
   "source": [
    "# OOP"
   ]
  },
  {
   "cell_type": "markdown",
   "metadata": {
    "id": "8inoIg876cJF"
   },
   "source": [
    "Object-Oriented Programming (OOP) is a programming paradigm that organizes and models code based on real-world entities using objects.\n",
    "\n",
    "Python is an object-oriented language and provides tools to implement OOP concepts:\n",
    "- classes\n",
    "- objects\n",
    "- inheritance\n",
    "- encapsulation\n",
    "- polymorphism\n",
    "- abstraction"
   ]
  },
  {
   "cell_type": "markdown",
   "metadata": {
    "id": "EI9hLYZk6sIG"
   },
   "source": [
    "## Class:\n",
    "\n",
    "- A blueprint for creating objects. It defines properties (attributes) and behaviors (methods)."
   ]
  },
  {
   "cell_type": "code",
   "execution_count": null,
   "metadata": {
    "id": "gCiifWvU33Xg"
   },
   "outputs": [],
   "source": [
    "class Car:\n",
    "    # Constructor\n",
    "    def __init__(self, make, model, year,wheels, **kwargs):\n",
    "        self.make = make\n",
    "        self.model = model\n",
    "        self.year = year\n",
    "        self.wheels = wheels\n",
    "        self.other_properties = {}\n",
    "        for i in kwargs:\n",
    "          self.other_properties[i] = kwargs[i]\n",
    "\n",
    "    # Method\n",
    "    def print_car_info(self):\n",
    "        print(f\"Make: {self.make}\", end='\\n')\n",
    "        print(f\"Model: {self.model}\", end='\\n')\n",
    "        print(f\"Year: {self.year}\", end='\\n')\n",
    "        print(f\"Wheels: {self.wheels}\", end='\\n')\n",
    "        for i in self.other_properties:\n",
    "          print(f\"{i}: {self.other_properties[i]}\")"
   ]
  },
  {
   "cell_type": "markdown",
   "metadata": {
    "id": "cl80FqM67hcq"
   },
   "source": [
    "## Object:\n",
    "\n",
    "- An instance of a class. It contains data and methods defined in the class.\n"
   ]
  },
  {
   "cell_type": "code",
   "execution_count": 56,
   "metadata": {
    "id": "xxW4eGgg7lEl"
   },
   "outputs": [],
   "source": [
    "My_car = Car('Toyota', 'Camry', 2022, 4)\n",
    "My_car2 = Car('Toyota', 'Camry',2022,3,  color='Black', VID=225544)\n"
   ]
  },
  {
   "cell_type": "code",
   "execution_count": 57,
   "metadata": {
    "colab": {
     "base_uri": "https://localhost:8080/"
    },
    "id": "RuUIgfqPZtQS",
    "outputId": "456b1931-6af7-4074-f6b5-f305d1e4fd27"
   },
   "outputs": [
    {
     "name": "stdout",
     "output_type": "stream",
     "text": [
      "Make: Toyota\n",
      "Model: Camry\n",
      "Year: 2022\n",
      "Wheels: 4\n",
      "-------------------\n",
      "Make: Toyota\n",
      "Model: Camry\n",
      "Year: 2022\n",
      "Wheels: 3\n",
      "color: Black\n",
      "VID: 225544\n"
     ]
    }
   ],
   "source": [
    "My_car.print_car_info()\n",
    "print(\"-------------------\")\n",
    "My_car2.print_car_info()\n"
   ]
  },
  {
   "cell_type": "code",
   "execution_count": 47,
   "metadata": {
    "colab": {
     "base_uri": "https://localhost:8080/"
    },
    "id": "Fi6k027gatU1",
    "outputId": "35bc2e40-c11b-4586-b90e-5abadc3cc120"
   },
   "outputs": [
    {
     "data": {
      "text/plain": [
       "4"
      ]
     },
     "execution_count": 47,
     "metadata": {},
     "output_type": "execute_result"
    }
   ],
   "source": [
    "My_car2.wheels"
   ]
  },
  {
   "cell_type": "markdown",
   "metadata": {
    "id": "QohTba4x7pbr"
   },
   "source": [
    "## OOP Principles"
   ]
  },
  {
   "cell_type": "markdown",
   "metadata": {
    "id": "N2MV_YX_7vEn"
   },
   "source": [
    "### Encapsulation:\n",
    "\n",
    "- Bundling data (attributes) and methods that operate on the data into a single unit (class).\n",
    "\n",
    "- Access control is provided using access modifiers:\n",
    "\n",
    "  - Public: `self.attribute`\n",
    "  - Private: `self.__attribute` (name mangling)"
   ]
  },
  {
   "cell_type": "code",
   "execution_count": 2,
   "metadata": {
    "id": "QKoNf0l77rkx"
   },
   "outputs": [],
   "source": [
    "class Car:\n",
    "    # Constructor\n",
    "    def __init__(self, make, model, year,wheels, **kwargs):\n",
    "        self.make = make\n",
    "        self.model = model\n",
    "        self.year = year\n",
    "        self.wheels = wheels\n",
    "        self.other_properties = {}\n",
    "        for i in kwargs:\n",
    "          self.other_properties[i] = kwargs[i]\n",
    "\n",
    "    # Method\n",
    "    def print_car_info(self):\n",
    "        print(f\"Make: {self.make}\", end='\\n')\n",
    "        print(f\"Model: {self.model}\", end='\\n')\n",
    "        print(f\"Year: {self.year}\", end='\\n')\n",
    "        print(f\"Wheels: {self.wheels}\", end='\\n')\n",
    "        for i in self.other_properties:\n",
    "          print(f\"{i}: {self.other_properties[i]}\")\n",
    "\n",
    "\n",
    "\n",
    "class BankAccount:\n",
    "    def __init__(self, owner, account_number, balance, assets=Car('Toyota', 'Camry', 2022, 4)):\n",
    "        self.owner = owner\n",
    "        self.__account_number = account_number\n",
    "        self.__balance = balance\n",
    "        self.__debt = None\n",
    "        self.assets = assets\n",
    "\n",
    "    def deposit(self, amount):\n",
    "        self.__balance += amount\n",
    "\n",
    "    def withdraw(self, amount):\n",
    "        if amount <= self.__balance:\n",
    "            self.__balance -= amount\n",
    "        else:\n",
    "            print(\"Insufficient funds\")\n",
    "\n",
    "    def get_balance(self):\n",
    "        return self.__balance\n",
    "\n",
    "    def get_account_number(self):\n",
    "        return self.__account_number\n",
    "\n",
    "    def get_owner(self):\n",
    "        return self.owner\n",
    "\n",
    "    def set_debt(self, amount):\n",
    "        self.__debt = amount\n",
    "\n",
    "    def get_debt(self):\n",
    "        return self.__debt\n",
    "\n",
    "\n",
    "\n",
    "def MakeAccount(owner, account_number, balance):\n",
    "  return BankAccount(owner, account_number, balance)\n",
    "\n",
    "my_bank_account = MakeAccount('John Doe', '123456789', 1000)\n",
    "my_bank_account.deposit(500)\n",
    "my_bank_account.withdraw(200)"
   ]
  },
  {
   "cell_type": "code",
   "execution_count": 4,
   "metadata": {
    "colab": {
     "base_uri": "https://localhost:8080/"
    },
    "id": "odRo5RwRbzay",
    "outputId": "885c3e30-fca0-44e5-a91c-362374c08768"
   },
   "outputs": [
    {
     "data": {
      "text/plain": [
       "1300"
      ]
     },
     "execution_count": 4,
     "metadata": {},
     "output_type": "execute_result"
    }
   ],
   "source": [
    "my_bank_account.get_balance()"
   ]
  },
  {
   "cell_type": "code",
   "execution_count": 5,
   "metadata": {
    "colab": {
     "base_uri": "https://localhost:8080/",
     "height": 103
    },
    "id": "HYtSwzuAeFUu",
    "outputId": "40dc3ab7-f3f2-410d-c36d-14378c07050c"
   },
   "outputs": [
    {
     "data": {
      "text/html": [
       "<div style=\"max-width:800px; border: 1px solid var(--colab-border-color);\"><style>\n",
       "      pre.function-repr-contents {\n",
       "        overflow-x: auto;\n",
       "        padding: 8px 12px;\n",
       "        max-height: 500px;\n",
       "      }\n",
       "\n",
       "      pre.function-repr-contents.function-repr-contents-collapsed {\n",
       "        cursor: pointer;\n",
       "        max-height: 100px;\n",
       "      }\n",
       "    </style>\n",
       "    <pre style=\"white-space: initial; background:\n",
       "         var(--colab-secondary-surface-color); padding: 8px 12px;\n",
       "         border-bottom: 1px solid var(--colab-border-color);\"><b>BankAccount</b><br/>def __init__(owner, account_number, balance, assets=Car(&#x27;Toyota&#x27;, &#x27;Camry&#x27;, 2022, 4))</pre><pre class=\"function-repr-contents function-repr-contents-collapsed\" style=\"\"><a class=\"filepath\" style=\"display:none\" href=\"#\"></a>&lt;no docstring&gt;</pre></div>"
      ],
      "text/plain": [
       "__main__.BankAccount"
      ]
     },
     "execution_count": 5,
     "metadata": {},
     "output_type": "execute_result"
    }
   ],
   "source": [
    "type(my_bank_account)\n"
   ]
  },
  {
   "cell_type": "code",
   "execution_count": 6,
   "metadata": {
    "id": "c_x1MfUyeZKY"
   },
   "outputs": [],
   "source": [
    "MakeAccount('John Doe', '123456789', 1000).withdraw(200)"
   ]
  },
  {
   "cell_type": "markdown",
   "metadata": {
    "id": "NHhbBEvY79dK"
   },
   "source": [
    "### Inheritance:\n",
    "\n",
    "- Mechanism to create a new class (child class) based on an existing class (parent class). The child class inherits attributes and methods of the parent class."
   ]
  },
  {
   "cell_type": "code",
   "execution_count": 41,
   "metadata": {
    "id": "pb6N4tM18Ao9"
   },
   "outputs": [],
   "source": [
    "class Animal:\n",
    "  def __init__(self, name, age):\n",
    "     self.name = name\n",
    "     self._age = age\n",
    "\n",
    "\n",
    "  def speak(self):\n",
    "    return \"HI my name is \" + self.name + \" I am \" + str(self._age) + \" Years old\"\n",
    "\n",
    "  def get_age(self):\n",
    "    return self._age\n",
    "\n",
    "class Dog(Animal):\n",
    "\n",
    "  def __init__(self, name, age1, age2):\n",
    "    super().__init__(name, age1)\n",
    "    self._age = age2\n",
    "\n",
    "  def bark(self):\n",
    "    return \"Woof in a \" + self._age + \" Year old\"\n"
   ]
  },
  {
   "cell_type": "code",
   "execution_count": 42,
   "metadata": {
    "colab": {
     "base_uri": "https://localhost:8080/",
     "height": 35
    },
    "id": "mCrDseJpfkWo",
    "outputId": "f484bc59-2e41-4435-8050-de5b0b29afde"
   },
   "outputs": [
    {
     "data": {
      "application/vnd.google.colaboratory.intrinsic+json": {
       "type": "string"
      },
      "text/plain": [
       "'HI my name is Jessie I am 2 Years old'"
      ]
     },
     "execution_count": 42,
     "metadata": {},
     "output_type": "execute_result"
    }
   ],
   "source": [
    "dog1 = Dog(\"Jessie\", '1', '2')\n",
    "\n",
    "dog1.speak()"
   ]
  },
  {
   "cell_type": "code",
   "execution_count": 39,
   "metadata": {
    "colab": {
     "base_uri": "https://localhost:8080/",
     "height": 35
    },
    "id": "msERWSKHgBCM",
    "outputId": "f6a83bd9-ffa7-4d96-86b1-e86b927fc168"
   },
   "outputs": [
    {
     "data": {
      "application/vnd.google.colaboratory.intrinsic+json": {
       "type": "string"
      },
      "text/plain": [
       "'Woof in a 1 Year old'"
      ]
     },
     "execution_count": 39,
     "metadata": {},
     "output_type": "execute_result"
    }
   ],
   "source": [
    "dog1.bark()"
   ]
  },
  {
   "cell_type": "markdown",
   "metadata": {
    "id": "4tCbnJ-8iMAY"
   },
   "source": [
    "#### Multi Inheritance:"
   ]
  },
  {
   "cell_type": "code",
   "execution_count": 51,
   "metadata": {
    "colab": {
     "base_uri": "https://localhost:8080/"
    },
    "id": "1Q8bZ00niF4C",
    "outputId": "8e5bd06f-1e99-4f50-d074-dc28ef28cab8"
   },
   "outputs": [
    {
     "name": "stdout",
     "output_type": "stream",
     "text": [
      "1 2 3\n"
     ]
    }
   ],
   "source": [
    "class A:\n",
    "  def __init__(self, a):\n",
    "    self.a = a\n",
    "class B:\n",
    "  def __init__(self, b):\n",
    "    self.b = b\n",
    "class C(A, B):\n",
    "  def __init__(self, a, b, c):\n",
    "    self.c = c\n",
    "    A.__init__(self, a)\n",
    "    B.__init__(self, b)\n",
    "\n",
    "c1 = C(1, 2, 3)\n",
    "print(c1.a, c1.b, c1.c)"
   ]
  },
  {
   "cell_type": "markdown",
   "metadata": {
    "id": "mXo7f4ud8BHI"
   },
   "source": [
    "### Polymorphism:\n",
    "\n",
    "- The ability of different objects to respond differently to the same method or function call.\n",
    "  - i.e. Method Overriding"
   ]
  },
  {
   "cell_type": "code",
   "execution_count": 69,
   "metadata": {
    "colab": {
     "base_uri": "https://localhost:8080/"
    },
    "id": "bcq90qhg8KCI",
    "outputId": "56e571af-7a64-4b45-ddda-b20d04d66f9a"
   },
   "outputs": [
    {
     "name": "stdout",
     "output_type": "stream",
     "text": [
      "6\n",
      "0\n",
      "Rectangle with length 2 and width 3\n"
     ]
    }
   ],
   "source": [
    "class shape:\n",
    "  def __init__(self):\n",
    "    pass\n",
    "\n",
    "  def area(self):\n",
    "    return 0\n",
    "\n",
    "  def perimeter(self):\n",
    "    return 0\n",
    "\n",
    "  def print_info(self):\n",
    "    print(\"This is a shape\")\n",
    "\n",
    "class Rectangle(shape):\n",
    "  def __init__(self, length, width):\n",
    "    self.length = length\n",
    "    self.width = width\n",
    "\n",
    "  def area(self):\n",
    "    return self.length * self.width\n",
    "\n",
    "  def perimeter(self):\n",
    "    return 2 * (self.length + self.width)\n",
    "\n",
    "  def __str__(self):\n",
    "     return \"Rectangle with length \" + str(self.length) + \" and width \" + str(self.width)\n",
    "\n",
    "shape1 = shape()\n",
    "r1 = Rectangle(2, 3)\n",
    "print(r1.area())\n",
    "print(shape1.area())\n",
    "print(r1)"
   ]
  },
  {
   "cell_type": "code",
   "execution_count": null,
   "metadata": {
    "id": "-YhU1FAtlox-"
   },
   "outputs": [],
   "source": []
  },
  {
   "cell_type": "markdown",
   "metadata": {
    "id": "Ehi1ZXxM8K16"
   },
   "source": [
    "### Abstraction:\n",
    "\n",
    "- Hiding implementation details and showing only essential features of an object. Python achieves abstraction using abstract classes and the `abc` module."
   ]
  },
  {
   "cell_type": "code",
   "execution_count": null,
   "metadata": {
    "colab": {
     "base_uri": "https://localhost:8080/"
    },
    "id": "wK6ahgGH8Rfj",
    "outputId": "326f086c-6b58-4ea6-eb91-c567d1080a11"
   },
   "outputs": [
    {
     "name": "stdout",
     "output_type": "stream",
     "text": [
      "Jessie says Woof!\n",
      "Rebeca says Meow!\n"
     ]
    }
   ],
   "source": [
    "from abc import ABC, abstractmethod\n",
    "\n",
    "class Animal(ABC):\n",
    "    @abstractmethod\n",
    "    def speak(self):\n",
    "        pass\n",
    "\n",
    "class Dog(Animal):\n",
    "    def __init__(self, name):\n",
    "        self.name = name\n",
    "\n",
    "    def speak(self):\n",
    "        return f\"{self.name} says Woof!\"\n",
    "\n",
    "class Cat(Animal):\n",
    "    def __init__(self, name):\n",
    "        self.name = name\n",
    "\n",
    "    def speak(self):\n",
    "        return f\"{self.name} says Meow!\"\n",
    "d1 = Dog('Jessie')\n",
    "print(d1.speak())\n",
    "c1 = Cat('Rebeca')\n",
    "print(c1.speak())"
   ]
  },
  {
   "cell_type": "code",
   "execution_count": 3,
   "metadata": {},
   "outputs": [],
   "source": [
    "class A:\n",
    "    def __init__(self, a):\n",
    "        self.a = a\n",
    "\n",
    "    def add10(b):\n",
    "        return 10 + b"
   ]
  },
  {
   "cell_type": "code",
   "execution_count": 4,
   "metadata": {},
   "outputs": [
    {
     "name": "stdout",
     "output_type": "stream",
     "text": [
      "30\n"
     ]
    }
   ],
   "source": [
    "a1 = A(10)\n",
    "print(A.add10(20))"
   ]
  },
  {
   "cell_type": "markdown",
   "metadata": {
    "id": "29dEbM4n8VP3"
   },
   "source": [
    "## Why OOP?\n",
    "\n",
    "Advantages of OOP:\n",
    "\n",
    "- Reusability: Code can be reused via inheritance, reducing redundancy.\n",
    "\n",
    "- Scalability: Easy to manage and scale code by encapsulating logic in classes.\n",
    "\n",
    "- Modularity: Classes and objects make it easier to organize code into smaller, logical components.\n",
    "\n",
    "- Security: Encapsulation allows you to restrict access to sensitive data."
   ]
  }
 ],
 "metadata": {
  "colab": {
   "provenance": []
  },
  "kernelspec": {
   "display_name": "Python 3 (ipykernel)",
   "language": "python",
   "name": "python3"
  },
  "language_info": {
   "codemirror_mode": {
    "name": "ipython",
    "version": 3
   },
   "file_extension": ".py",
   "mimetype": "text/x-python",
   "name": "python",
   "nbconvert_exporter": "python",
   "pygments_lexer": "ipython3",
   "version": "3.11.7"
  }
 },
 "nbformat": 4,
 "nbformat_minor": 1
}
