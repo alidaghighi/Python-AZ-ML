{
 "cells": [
  {
   "attachments": {},
   "cell_type": "markdown",
   "metadata": {},
   "source": [
    "\n",
    "# This notebook is to show you some of the most useful features of Jupyter notebooks. \n",
    "\n"
   ]
  },
  {
   "attachments": {},
   "cell_type": "markdown",
   "metadata": {},
   "source": [
    "*Important*: Always try to use these keyboard shortcuts to navigate around the notebook. It will save you a lot of time and effort.\n",
    "\n",
    "* `Shift + Enter` to run a cell\n",
    "* `Esc` to enter command mode\n",
    "* `Enter` to enter edit mode\n",
    "* `A` to insert a cell above the current cell\n",
    "* `B` to insert a cell below the current cell\n",
    "* `M` to change the current cell to Markdown\n",
    "* `Y` to change the current cell to Code\n",
    "* `D + D` to delete the current cell\n",
    "* `Z` to undo the last change in the cell\n",
    "* `C` to copy the current cell\n",
    "* `X` to cut the current cell\n",
    "* `V` to paste the current cell"
   ]
  },
  {
   "attachments": {},
   "cell_type": "markdown",
   "metadata": {},
   "source": [
    "## Table of Contents\n",
    "1. [Notebook Tips](#notebook-tips)\n",
    "   1. [Magic Commands](#magic-commands)\n",
    "   2. [Kernel](#kernel)\n",
    "   3. [Command mode](#command-mode)\n",
    "2. [Coding Best-Practices in Jupyter](#coding-in-jupyter)\n",
    "3. [Reproducibility](#reproducibility)"
   ]
  },
  {
   "attachments": {},
   "cell_type": "markdown",
   "metadata": {},
   "source": [
    "## Notebook Tips <a class=\"anchor\" id=\"notebook-tips\"></a>"
   ]
  },
  {
   "attachments": {},
   "cell_type": "markdown",
   "metadata": {},
   "source": [
    "### [Magic Commands](https://ipython.readthedocs.io/en/stable/interactive/magics.html) <a id='magic-commands'></a>"
   ]
  },
  {
   "cell_type": "code",
   "execution_count": 9,
   "metadata": {},
   "outputs": [],
   "source": [
    "# %%timeit -n 10 -r 3\n",
    "# import time\n",
    "# time.sleep(1)"
   ]
  },
  {
   "cell_type": "code",
   "execution_count": 10,
   "metadata": {},
   "outputs": [
    {
     "data": {
      "text/markdown": [
       "1. Use `%%time` to measure the execution time of a cell\n",
       "2. Use `%%timeit` to measure the execution time of a cell multiple times\n",
       "\n",
       "For more magic commands, see [here](https://ipython.readthedocs.io/en/stable/interactive/magics.html).\n"
      ],
      "text/plain": [
       "<IPython.core.display.Markdown object>"
      ]
     },
     "metadata": {},
     "output_type": "display_data"
    }
   ],
   "source": [
    "%%markdown\n",
    "1. Use `%%time` to measure the execution time of a cell\n",
    "2. Use `%%timeit` to measure the execution time of a cell multiple times\n",
    "\n",
    "For more magic commands, see [here](https://ipython.readthedocs.io/en/stable/interactive/magics.html)."
   ]
  },
  {
   "attachments": {},
   "cell_type": "markdown",
   "metadata": {},
   "source": [
    "### [Kernel](#kernel)\n",
    "\n",
    "Apart from the markdown or similar content cells, you need a kernel to run any code cells. The kernel is the computational engine that runs the code in the notebook. You can change the kernel to Python 2 or 3, or even MATLAB, R, Julia, or Scala. We will go through the Python 3 kernel in this notebook."
   ]
  },
  {
   "attachments": {},
   "cell_type": "markdown",
   "metadata": {},
   "source": [
    "The kernel should have at least the following packages installed:\n",
    "`ipykernel` and `ipython`\n",
    "\n",
    "You can install them by running the following command in the terminal (when the correct kernel is activated):\n",
    "\n",
    "`python -m pip install ipykernel ipython`"
   ]
  },
  {
   "attachments": {},
   "cell_type": "markdown",
   "metadata": {},
   "source": [
    "### Command mode <a class=\"anchor\" id=\"command-mode\"></a>\n",
    "\n",
    "You can start any code cell with `!` to run it as a shell command. For example, you can use `!ls` to list the files in the current directory.\n",
    "If `!` did not work, try to use `%` magic command.\n",
    "\n",
    "We mostly use this feature to install packages. For example, we can install the `numpy` package by running the following code cell.\n",
    "\n",
    "    !pip install numpy"
   ]
  },
  {
   "cell_type": "code",
   "execution_count": 6,
   "metadata": {},
   "outputs": [
    {
     "name": "stdout",
     "output_type": "stream",
     "text": [
      "1_notebook.ipynb                       5_numpy.ipynb\n",
      "2_notebook.ipynb                       screenshot.png\n",
      "3_numpy.ipynb                          setting_twitter.py\n",
      "4_numpy.ipynb                          weather_forecasts_as_of_2023-03-15.png\n"
     ]
    }
   ],
   "source": [
    "!ls"
   ]
  },
  {
   "cell_type": "code",
   "execution_count": 7,
   "metadata": {},
   "outputs": [
    {
     "name": "stdout",
     "output_type": "stream",
     "text": [
      "Requirement already satisfied: numpy in /opt/homebrew/anaconda3/envs/ds201/lib/python3.10/site-packages (1.24.2)\n"
     ]
    }
   ],
   "source": [
    "! pip install numpy"
   ]
  },
  {
   "attachments": {},
   "cell_type": "markdown",
   "metadata": {},
   "source": [
    "## Coding Best-Practices in Jupyter <a class=\"anchor\" id=\"coding-in-jupyter\"></a>"
   ]
  },
  {
   "cell_type": "markdown",
   "metadata": {},
   "source": [
    "\n",
    "1. Always keep in mind that the notebook is a document for your fellow scientists. It's not a script for your computer. Thus, have your author attitude and aim for readability.\n",
    "2. Divide your task into submodules and create a separate notebook for each submodule, if other wise the notebook will be too long and complex.\n",
    "3. Use markdown cells to explain your code. \n",
    "4. Keep your notebook clean and organized.\n",
    "5. Try to keep your code cells short and simple. It's easier to debug and understand.\n",
    "6. Use meaningful variable names. It's always easier to understand the code and debug.\n",
    "7. Import all the packages at the beginning of the notebook or their respective titles. It's easier for your audience to see what packages you are using and prepare the kernel before running the notebook.\n",
    "8. Once finished, restart the kernel and run the notebook from top to bottom to make sure everything works as expected.\n",
    "9. It's always a good idea to add a table of contents to your notebook."
   ]
  },
  {
   "attachments": {},
   "cell_type": "markdown",
   "metadata": {},
   "source": [
    "## Reproducibility <a class=\"anchor\" id=\"reproducibility\"></a>\n",
    "\n",
    "This is a very important topic in science for reducing the bias in the results and let your peers investigate/use your work. It's also very important in data science. You can read more about it [here](https://www.nature.com/articles/d41586-018-07196-1).\n",
    "\n",
    "It can even be hard for yourselves to reproduce your work after a few months. Making any claim that you cannot reproduce is a big red flag for your audience. Be extremely careful about this."
   ]
  },
  {
   "attachments": {},
   "cell_type": "markdown",
   "metadata": {},
   "source": [
    "* [Go Top!](#top)"
   ]
  },
  {
   "cell_type": "markdown",
   "metadata": {},
   "source": []
  }
 ],
 "metadata": {
  "kernelspec": {
   "display_name": "ds201",
   "language": "python",
   "name": "python3"
  },
  "language_info": {
   "codemirror_mode": {
    "name": "ipython",
    "version": 3
   },
   "file_extension": ".py",
   "mimetype": "text/x-python",
   "name": "python",
   "nbconvert_exporter": "python",
   "pygments_lexer": "ipython3",
   "version": "3.10.9"
  },
  "orig_nbformat": 4
 },
 "nbformat": 4,
 "nbformat_minor": 2
}
