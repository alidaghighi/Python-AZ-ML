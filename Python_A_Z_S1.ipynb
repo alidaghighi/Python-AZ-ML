{
  "nbformat": 4,
  "nbformat_minor": 0,
  "metadata": {
    "colab": {
      "provenance": []
    },
    "kernelspec": {
      "name": "python3",
      "display_name": "Python 3"
    },
    "language_info": {
      "name": "python"
    }
  },
  "cells": [
    {
      "cell_type": "markdown",
      "source": [
        "# Sesion 1"
      ],
      "metadata": {
        "id": "thgPojLzujD5"
      }
    },
    {
      "cell_type": "code",
      "execution_count": 1,
      "metadata": {
        "colab": {
          "base_uri": "https://localhost:8080/"
        },
        "id": "J52Z29e4ualw",
        "outputId": "3c7c517d-8ccb-4542-dd37-d4cf537c9731"
      },
      "outputs": [
        {
          "output_type": "stream",
          "name": "stdout",
          "text": [
            "Hello World!\n"
          ]
        }
      ],
      "source": [
        "print(\"Hello World!\")"
      ]
    },
    {
      "cell_type": "code",
      "source": [
        "Var1 = \"Variable 1\"\n",
        "print(Var1)"
      ],
      "metadata": {
        "colab": {
          "base_uri": "https://localhost:8080/"
        },
        "id": "UXDDNkq7uz-o",
        "outputId": "480dc29f-a703-4d92-e70f-702ff143f274"
      },
      "execution_count": 3,
      "outputs": [
        {
          "output_type": "stream",
          "name": "stdout",
          "text": [
            "Variable 1\n"
          ]
        }
      ]
    },
    {
      "cell_type": "code",
      "source": [
        "Var1 = 10\n",
        "print(Var1)"
      ],
      "metadata": {
        "colab": {
          "base_uri": "https://localhost:8080/"
        },
        "id": "MWMpDcdbvU1-",
        "outputId": "75daefef-c5fa-4ea8-8d28-65f245698f3d"
      },
      "execution_count": 4,
      "outputs": [
        {
          "output_type": "stream",
          "name": "stdout",
          "text": [
            "10\n"
          ]
        }
      ]
    },
    {
      "cell_type": "code",
      "source": [
        "Var1 = 10.1"
      ],
      "metadata": {
        "id": "ajiZRGndvXmE"
      },
      "execution_count": 5,
      "outputs": []
    },
    {
      "cell_type": "code",
      "source": [
        "print(Var1)"
      ],
      "metadata": {
        "colab": {
          "base_uri": "https://localhost:8080/"
        },
        "id": "-zZr0aTYvZR7",
        "outputId": "1017b7f5-2ad1-4448-d7c1-28010cb22a04"
      },
      "execution_count": 6,
      "outputs": [
        {
          "output_type": "stream",
          "name": "stdout",
          "text": [
            "10.1\n"
          ]
        }
      ]
    },
    {
      "cell_type": "markdown",
      "source": [
        "# Primitive Types\n",
        "  - Integers = 10\n",
        "  - Strings = \"Text\"\n",
        "  - Floating-Point Numbers = 10.1\n",
        "  - Booleans = True"
      ],
      "metadata": {
        "id": "NplAYO9AvgOs"
      }
    },
    {
      "cell_type": "code",
      "source": [
        "print(10 / 5)\n",
        "print( 10 + 5)\n",
        "print( 10 * 5 )\n",
        "print( 2 ** 5)"
      ],
      "metadata": {
        "colab": {
          "base_uri": "https://localhost:8080/"
        },
        "id": "no9b7G5qvbjW",
        "outputId": "71b40fc2-15e9-4fc8-e7f8-2f4ec07d23ab"
      },
      "execution_count": 7,
      "outputs": [
        {
          "output_type": "stream",
          "name": "stdout",
          "text": [
            "2.0\n",
            "15\n",
            "50\n",
            "32\n"
          ]
        }
      ]
    },
    {
      "cell_type": "code",
      "source": [
        "print(10 // 5)"
      ],
      "metadata": {
        "colab": {
          "base_uri": "https://localhost:8080/"
        },
        "id": "3wuBiK0ywB8B",
        "outputId": "3d888a60-ee0c-49c4-bd85-c4856c1d5927"
      },
      "execution_count": 8,
      "outputs": [
        {
          "output_type": "stream",
          "name": "stdout",
          "text": [
            "2\n"
          ]
        }
      ]
    },
    {
      "cell_type": "code",
      "source": [
        "print(10.0/0)"
      ],
      "metadata": {
        "colab": {
          "base_uri": "https://localhost:8080/",
          "height": 141
        },
        "id": "ybnsl2i_wK1R",
        "outputId": "7a84b462-d289-4924-d6a5-366a34385f7a"
      },
      "execution_count": 10,
      "outputs": [
        {
          "output_type": "error",
          "ename": "ZeroDivisionError",
          "evalue": "float division by zero",
          "traceback": [
            "\u001b[0;31m---------------------------------------------------------------------------\u001b[0m",
            "\u001b[0;31mZeroDivisionError\u001b[0m                         Traceback (most recent call last)",
            "\u001b[0;32m<ipython-input-10-ee86b52377d2>\u001b[0m in \u001b[0;36m<cell line: 1>\u001b[0;34m()\u001b[0m\n\u001b[0;32m----> 1\u001b[0;31m \u001b[0mprint\u001b[0m\u001b[0;34m(\u001b[0m\u001b[0;36m10.0\u001b[0m\u001b[0;34m/\u001b[0m\u001b[0;36m0\u001b[0m\u001b[0;34m)\u001b[0m\u001b[0;34m\u001b[0m\u001b[0;34m\u001b[0m\u001b[0m\n\u001b[0m",
            "\u001b[0;31mZeroDivisionError\u001b[0m: float division by zero"
          ]
        }
      ]
    },
    {
      "cell_type": "code",
      "source": [
        "print(\"0.1 + 0.2 = 0.3\")"
      ],
      "metadata": {
        "colab": {
          "base_uri": "https://localhost:8080/"
        },
        "id": "oAj5tnDxwS_c",
        "outputId": "a910eb13-a69e-4a9d-aad3-ba7d07100443"
      },
      "execution_count": 12,
      "outputs": [
        {
          "output_type": "stream",
          "name": "stdout",
          "text": [
            "0.1 + 0.2 = 0.3\n"
          ]
        }
      ]
    },
    {
      "cell_type": "code",
      "source": [
        "print(\"0.1 + 0.2 = \" , 0.1+0.2)"
      ],
      "metadata": {
        "colab": {
          "base_uri": "https://localhost:8080/"
        },
        "id": "9tjLCzPYwiSa",
        "outputId": "0cc02f47-4acc-471b-b62a-66d00c723ebe"
      },
      "execution_count": 13,
      "outputs": [
        {
          "output_type": "stream",
          "name": "stdout",
          "text": [
            "0.1 + 0.2 =  0.30000000000000004\n"
          ]
        }
      ]
    },
    {
      "cell_type": "code",
      "source": [
        "My_str = \"Ali Daghighi\"\n",
        "My_str[0]"
      ],
      "metadata": {
        "colab": {
          "base_uri": "https://localhost:8080/",
          "height": 35
        },
        "id": "z-_CvSEnwquV",
        "outputId": "67300150-4b0f-433e-9e58-c1d8578c1391"
      },
      "execution_count": 14,
      "outputs": [
        {
          "output_type": "execute_result",
          "data": {
            "text/plain": [
              "'A'"
            ],
            "application/vnd.google.colaboratory.intrinsic+json": {
              "type": "string"
            }
          },
          "metadata": {},
          "execution_count": 14
        }
      ]
    },
    {
      "cell_type": "code",
      "source": [
        "list()"
      ],
      "metadata": {
        "colab": {
          "base_uri": "https://localhost:8080/"
        },
        "id": "1SJTMGtUxKJQ",
        "outputId": "f31704e5-8255-4341-9ad8-dd82983a23d5"
      },
      "execution_count": 15,
      "outputs": [
        {
          "output_type": "execute_result",
          "data": {
            "text/plain": [
              "[]"
            ]
          },
          "metadata": {},
          "execution_count": 15
        }
      ]
    },
    {
      "cell_type": "code",
      "source": [
        "My_list = []\n",
        "my_list = list()"
      ],
      "metadata": {
        "id": "SOQG0UefxR3j"
      },
      "execution_count": 16,
      "outputs": []
    },
    {
      "cell_type": "code",
      "source": [
        "my_list.append(1)\n"
      ],
      "metadata": {
        "id": "sasjDQs2xfq9"
      },
      "execution_count": 17,
      "outputs": []
    },
    {
      "cell_type": "code",
      "source": [
        "my_list.append(\"1\")\n",
        "my_list.append(True)\n",
        "print(my_list)\n"
      ],
      "metadata": {
        "colab": {
          "base_uri": "https://localhost:8080/"
        },
        "id": "LsWLTmiXxnJx",
        "outputId": "ce432020-dc55-4141-98ea-fcea5e46e80b"
      },
      "execution_count": 18,
      "outputs": [
        {
          "output_type": "stream",
          "name": "stdout",
          "text": [
            "[1, '1', True]\n"
          ]
        }
      ]
    },
    {
      "cell_type": "code",
      "source": [
        "print(\"This is a very long text\")\n",
        "\n",
        "print(\"\"\"\n",
        "asasasasas\n",
        "as\n",
        "a\n",
        "s\n",
        "as\n",
        "a\n",
        "s\n",
        "as\n",
        "\n",
        "as\n",
        "\n",
        "as\n",
        "\n",
        "as\n",
        "a\n",
        "s\n",
        "as\n",
        "\n",
        "\n",
        "\"\"\")\n"
      ],
      "metadata": {
        "colab": {
          "base_uri": "https://localhost:8080/"
        },
        "id": "eB7_hE9bxtwp",
        "outputId": "821d5aeb-11d0-45db-c0f4-cab08f8f684f"
      },
      "execution_count": 19,
      "outputs": [
        {
          "output_type": "stream",
          "name": "stdout",
          "text": [
            "This is a very long text\n",
            "\n",
            "asasasasas\n",
            "as\n",
            "a\n",
            "s\n",
            "as\n",
            "a\n",
            "s\n",
            "as\n",
            "\n",
            "as\n",
            "\n",
            "as\n",
            "\n",
            "as\n",
            "a\n",
            "s\n",
            "as\n",
            "\n",
            "\n",
            "\n"
          ]
        }
      ]
    },
    {
      "cell_type": "code",
      "source": [
        "print('1+1',\"is\" , '=' , 1+1)\n",
        "print(\"This\"+\"That\")"
      ],
      "metadata": {
        "colab": {
          "base_uri": "https://localhost:8080/"
        },
        "id": "lEGsDV3qyE3C",
        "outputId": "a5e266ed-c492-4f93-afe7-a5f1e95e4507"
      },
      "execution_count": 21,
      "outputs": [
        {
          "output_type": "stream",
          "name": "stdout",
          "text": [
            "1+1 is = 2\n",
            "ThisThat\n"
          ]
        }
      ]
    },
    {
      "cell_type": "code",
      "source": [
        "my_var = 10\n",
        "another_var = 20\n",
        "print(f\"Myvar =  {my_var}\")"
      ],
      "metadata": {
        "colab": {
          "base_uri": "https://localhost:8080/"
        },
        "id": "tn5l246xyPLv",
        "outputId": "655d3ef3-ae8b-4fc9-f189-b5adbba990a1"
      },
      "execution_count": 22,
      "outputs": [
        {
          "output_type": "stream",
          "name": "stdout",
          "text": [
            "Myvar =  10\n"
          ]
        }
      ]
    },
    {
      "cell_type": "code",
      "source": [
        "print(\"anothervar = {d}\".format(d = my_list))"
      ],
      "metadata": {
        "colab": {
          "base_uri": "https://localhost:8080/"
        },
        "id": "9P0MdXbjynns",
        "outputId": "065cee09-ec5d-4b41-a689-f6772db85c7a"
      },
      "execution_count": 28,
      "outputs": [
        {
          "output_type": "stream",
          "name": "stdout",
          "text": [
            "anothervar = [1, '1', True]\n"
          ]
        }
      ]
    },
    {
      "cell_type": "code",
      "source": [
        "my_list = [1,2,3,4,5]\n",
        "my_list[3:1:-1]"
      ],
      "metadata": {
        "colab": {
          "base_uri": "https://localhost:8080/"
        },
        "id": "b_RaVmZKywPk",
        "outputId": "9c4562c3-ae77-44b3-e230-54a212b33c4a"
      },
      "execution_count": 49,
      "outputs": [
        {
          "output_type": "execute_result",
          "data": {
            "text/plain": [
              "[4, 3]"
            ]
          },
          "metadata": {},
          "execution_count": 49
        }
      ]
    },
    {
      "cell_type": "code",
      "source": [
        "my_list.pop(0)"
      ],
      "metadata": {
        "colab": {
          "base_uri": "https://localhost:8080/"
        },
        "id": "ZrLkeKTmzKym",
        "outputId": "92259b3f-5279-4b06-cb82-0f755ed35e98"
      },
      "execution_count": 47,
      "outputs": [
        {
          "output_type": "execute_result",
          "data": {
            "text/plain": [
              "1"
            ]
          },
          "metadata": {},
          "execution_count": 47
        }
      ]
    },
    {
      "cell_type": "code",
      "source": [
        "print(my_list)"
      ],
      "metadata": {
        "colab": {
          "base_uri": "https://localhost:8080/"
        },
        "id": "4IVA_bpj1NLA",
        "outputId": "b057fbe2-137b-4476-86d7-d3d20100fbb0"
      },
      "execution_count": 50,
      "outputs": [
        {
          "output_type": "stream",
          "name": "stdout",
          "text": [
            "[1, 2, 3, 4, 5]\n"
          ]
        }
      ]
    },
    {
      "cell_type": "code",
      "source": [
        "my_list.clear()\n",
        "print(my_list)"
      ],
      "metadata": {
        "colab": {
          "base_uri": "https://localhost:8080/"
        },
        "id": "-RXktWsI1U6E",
        "outputId": "45a47971-2bf3-4325-9f9f-9184ab17c5b6"
      },
      "execution_count": 51,
      "outputs": [
        {
          "output_type": "stream",
          "name": "stdout",
          "text": [
            "[]\n"
          ]
        }
      ]
    },
    {
      "cell_type": "code",
      "source": [
        "my_list_2 = [[1,2,3],[4,5],[6]]"
      ],
      "metadata": {
        "id": "wlhUr8xS1qMk"
      },
      "execution_count": 52,
      "outputs": []
    },
    {
      "cell_type": "code",
      "source": [
        "my_Tuple = tuple()\n",
        "\n",
        "my_Tuple = (1,2,3)"
      ],
      "metadata": {
        "id": "3TGvXEev12Oc"
      },
      "execution_count": 53,
      "outputs": []
    },
    {
      "cell_type": "code",
      "source": [
        "print(my_Tuple[0])"
      ],
      "metadata": {
        "colab": {
          "base_uri": "https://localhost:8080/"
        },
        "id": "HiiT6QPK2QSJ",
        "outputId": "6d46a388-72b7-4956-bd48-eab57a649f5d"
      },
      "execution_count": 55,
      "outputs": [
        {
          "output_type": "stream",
          "name": "stdout",
          "text": [
            "1\n"
          ]
        }
      ]
    },
    {
      "cell_type": "code",
      "source": [
        "my_Tuple[0]"
      ],
      "metadata": {
        "colab": {
          "base_uri": "https://localhost:8080/",
          "height": 141
        },
        "id": "mxxksb_F2RXg",
        "outputId": "f7d543b1-5631-448a-9180-03a1d6d8bead"
      },
      "execution_count": 56,
      "outputs": [
        {
          "output_type": "error",
          "ename": "TypeError",
          "evalue": "'tuple' object does not support item assignment",
          "traceback": [
            "\u001b[0;31m---------------------------------------------------------------------------\u001b[0m",
            "\u001b[0;31mTypeError\u001b[0m                                 Traceback (most recent call last)",
            "\u001b[0;32m<ipython-input-56-91b431ac99d9>\u001b[0m in \u001b[0;36m<cell line: 1>\u001b[0;34m()\u001b[0m\n\u001b[0;32m----> 1\u001b[0;31m \u001b[0mmy_Tuple\u001b[0m\u001b[0;34m[\u001b[0m\u001b[0;36m0\u001b[0m\u001b[0;34m]\u001b[0m \u001b[0;34m=\u001b[0m \u001b[0;36m10\u001b[0m\u001b[0;34m\u001b[0m\u001b[0;34m\u001b[0m\u001b[0m\n\u001b[0m",
            "\u001b[0;31mTypeError\u001b[0m: 'tuple' object does not support item assignment"
          ]
        }
      ]
    },
    {
      "cell_type": "code",
      "source": [
        "my_Tuple = (1,)"
      ],
      "metadata": {
        "id": "a3_hboS62Vkx"
      },
      "execution_count": 59,
      "outputs": []
    },
    {
      "cell_type": "code",
      "source": [
        "print(my_Tuple)"
      ],
      "metadata": {
        "colab": {
          "base_uri": "https://localhost:8080/"
        },
        "id": "ci3hYDqk2lrb",
        "outputId": "ed1dee27-aa5d-404f-c0d1-03c8e2456f9e"
      },
      "execution_count": 60,
      "outputs": [
        {
          "output_type": "stream",
          "name": "stdout",
          "text": [
            "(1,)\n"
          ]
        }
      ]
    },
    {
      "cell_type": "code",
      "source": [
        "my_set = {1 , 2 , 1 , 2}"
      ],
      "metadata": {
        "id": "0LvSxIaZ2nHP"
      },
      "execution_count": 61,
      "outputs": []
    },
    {
      "cell_type": "code",
      "source": [
        "print(my_set)"
      ],
      "metadata": {
        "colab": {
          "base_uri": "https://localhost:8080/"
        },
        "id": "-Bq7hmjb3EPM",
        "outputId": "aeb3a6b4-9b05-4df3-b85f-ea304eccef72"
      },
      "execution_count": 62,
      "outputs": [
        {
          "output_type": "stream",
          "name": "stdout",
          "text": [
            "{1, 2}\n"
          ]
        }
      ]
    },
    {
      "cell_type": "code",
      "source": [
        "my_set = {10, 1 , 0 , True , False}"
      ],
      "metadata": {
        "id": "YQrAuYda3FUN"
      },
      "execution_count": 72,
      "outputs": []
    },
    {
      "cell_type": "code",
      "source": [
        "my_set.add(5)"
      ],
      "metadata": {
        "id": "xJe2lz_x3sto"
      },
      "execution_count": 73,
      "outputs": []
    },
    {
      "cell_type": "code",
      "source": [
        "print(my_set.pop())"
      ],
      "metadata": {
        "colab": {
          "base_uri": "https://localhost:8080/"
        },
        "id": "z0QjFPdA3Kvc",
        "outputId": "ee57b2c7-88c0-4256-b0de-54db66458044"
      },
      "execution_count": 74,
      "outputs": [
        {
          "output_type": "stream",
          "name": "stdout",
          "text": [
            "0\n"
          ]
        }
      ]
    },
    {
      "cell_type": "code",
      "source": [
        "print(my_set)"
      ],
      "metadata": {
        "colab": {
          "base_uri": "https://localhost:8080/"
        },
        "id": "NqlvQM2U3MBL",
        "outputId": "e50d256b-76e5-46e2-c6ae-ce40bdc9274a"
      },
      "execution_count": 75,
      "outputs": [
        {
          "output_type": "stream",
          "name": "stdout",
          "text": [
            "{1, 10, 5}\n"
          ]
        }
      ]
    },
    {
      "cell_type": "code",
      "source": [
        "my_dict = dict()\n",
        "\n",
        "# {Key:Value}\n",
        "\n",
        "my_dict.update({\"Key\" : \"Value\"})\n",
        "my_dict[\"Key\"] = 1\n",
        "my_dict[\"Key1\"] = 2\n",
        "my_dict.popitem()\n",
        "my_dict.pop(\"Key\")\n"
      ],
      "metadata": {
        "colab": {
          "base_uri": "https://localhost:8080/"
        },
        "id": "xD9YRCF530sa",
        "outputId": "934a94d5-7d35-4795-ea9f-06f0da44805c"
      },
      "execution_count": 90,
      "outputs": [
        {
          "output_type": "execute_result",
          "data": {
            "text/plain": [
              "1"
            ]
          },
          "metadata": {},
          "execution_count": 90
        }
      ]
    },
    {
      "cell_type": "code",
      "source": [
        "print(my_dict)"
      ],
      "metadata": {
        "colab": {
          "base_uri": "https://localhost:8080/"
        },
        "id": "T9dKAFUB4JTe",
        "outputId": "a738db5e-c7a8-48c8-9381-64636177e976"
      },
      "execution_count": 89,
      "outputs": [
        {
          "output_type": "stream",
          "name": "stdout",
          "text": [
            "{}\n"
          ]
        }
      ]
    },
    {
      "cell_type": "markdown",
      "source": [],
      "metadata": {
        "id": "_DE7xdls9yRk"
      }
    },
    {
      "cell_type": "code",
      "source": [
        "var = 1\n",
        "var2 = 2\n",
        "\n",
        "var == var2"
      ],
      "metadata": {
        "colab": {
          "base_uri": "https://localhost:8080/"
        },
        "id": "wPPGregD4LEh",
        "outputId": "fde20101-c71e-4be2-b5a8-2bf0bd689ad1"
      },
      "execution_count": 91,
      "outputs": [
        {
          "output_type": "execute_result",
          "data": {
            "text/plain": [
              "False"
            ]
          },
          "metadata": {},
          "execution_count": 91
        }
      ]
    },
    {
      "cell_type": "code",
      "source": [
        "var != var2"
      ],
      "metadata": {
        "colab": {
          "base_uri": "https://localhost:8080/"
        },
        "id": "OoXYV1fN-uve",
        "outputId": "b0abc15e-920b-4879-a42d-a07a438bfffc"
      },
      "execution_count": 92,
      "outputs": [
        {
          "output_type": "execute_result",
          "data": {
            "text/plain": [
              "True"
            ]
          },
          "metadata": {},
          "execution_count": 92
        }
      ]
    },
    {
      "cell_type": "code",
      "source": [
        "print(var > var2)\n",
        "print(var < var2)\n",
        "print(var >= var2)\n",
        "print(var <= var2)"
      ],
      "metadata": {
        "colab": {
          "base_uri": "https://localhost:8080/"
        },
        "id": "7S7iUn6X-x1d",
        "outputId": "a52d9246-efc8-4e93-a477-eb7f32b2431d"
      },
      "execution_count": 93,
      "outputs": [
        {
          "output_type": "stream",
          "name": "stdout",
          "text": [
            "False\n",
            "True\n",
            "False\n",
            "True\n"
          ]
        }
      ]
    },
    {
      "cell_type": "code",
      "source": [
        "a = 10\n",
        "b = 20\n",
        "c = 30\n",
        "\n",
        "print(a < b > c)"
      ],
      "metadata": {
        "colab": {
          "base_uri": "https://localhost:8080/"
        },
        "id": "wF3om-Jd-5rf",
        "outputId": "c80b020f-8224-4dc5-b818-7c48450e402b"
      },
      "execution_count": 95,
      "outputs": [
        {
          "output_type": "stream",
          "name": "stdout",
          "text": [
            "False\n"
          ]
        }
      ]
    },
    {
      "cell_type": "code",
      "source": [
        "if a < b < c:\n",
        "    print(\"True\")\n",
        "    print(\"Sommething\")\n",
        "elif a > b:\n",
        "    print(\"False\")\n",
        "else:\n",
        "    print(\"false\")"
      ],
      "metadata": {
        "colab": {
          "base_uri": "https://localhost:8080/"
        },
        "id": "udzjP3t7_DlT",
        "outputId": "9b11bf57-e193-4cb8-93eb-968392fa46e9"
      },
      "execution_count": 99,
      "outputs": [
        {
          "output_type": "stream",
          "name": "stdout",
          "text": [
            "True\n",
            "Sommething\n"
          ]
        }
      ]
    },
    {
      "cell_type": "code",
      "source": [
        "var = 10\n",
        "\n",
        "match var:\n",
        "    case 1: print(\"One\")\n",
        "    case 2:\n",
        "\n",
        "        print(\"Two\")\n",
        "    case 3:\n",
        "        print(\"Three\")\n",
        "    case _:\n",
        "        print(\"Default\")\n"
      ],
      "metadata": {
        "colab": {
          "base_uri": "https://localhost:8080/"
        },
        "id": "TzMADgvU_lAF",
        "outputId": "9bc72115-af51-4e66-ec69-80b82f130489"
      },
      "execution_count": 102,
      "outputs": [
        {
          "output_type": "stream",
          "name": "stdout",
          "text": [
            "Default\n"
          ]
        }
      ]
    },
    {
      "cell_type": "code",
      "source": [
        "i = 0\n",
        "while i < 10:\n",
        "    print(i)\n",
        "    i += 1"
      ],
      "metadata": {
        "colab": {
          "base_uri": "https://localhost:8080/"
        },
        "id": "sy3iZZSRALgr",
        "outputId": "ab019981-c6f6-4b4b-c014-04ea978731a2"
      },
      "execution_count": 104,
      "outputs": [
        {
          "output_type": "stream",
          "name": "stdout",
          "text": [
            "0\n",
            "1\n",
            "2\n",
            "3\n",
            "4\n",
            "5\n",
            "6\n",
            "7\n",
            "8\n",
            "9\n"
          ]
        }
      ]
    },
    {
      "cell_type": "code",
      "source": [
        "\"\"\"\n",
        "for (int i ; Int[]) {\n",
        "\n",
        "}\n",
        "\"\"\"\n",
        "for i in \"String\":\n",
        "    print(i)"
      ],
      "metadata": {
        "colab": {
          "base_uri": "https://localhost:8080/"
        },
        "id": "rh6R4Q7AAlVT",
        "outputId": "8e0529ef-beb7-45a7-dce0-166f35eddfe2"
      },
      "execution_count": 110,
      "outputs": [
        {
          "output_type": "stream",
          "name": "stdout",
          "text": [
            "S\n",
            "t\n",
            "r\n",
            "i\n",
            "n\n",
            "g\n"
          ]
        }
      ]
    },
    {
      "cell_type": "code",
      "source": [
        "range(0,10)"
      ],
      "metadata": {
        "colab": {
          "base_uri": "https://localhost:8080/"
        },
        "id": "gPNdXpXUA_BR",
        "outputId": "d5ff746b-cda6-46c7-dd3b-496fb13d14b1"
      },
      "execution_count": 105,
      "outputs": [
        {
          "output_type": "execute_result",
          "data": {
            "text/plain": [
              "range(0, 10)"
            ]
          },
          "metadata": {},
          "execution_count": 105
        }
      ]
    },
    {
      "cell_type": "code",
      "source": [
        "list(range(0,10))"
      ],
      "metadata": {
        "colab": {
          "base_uri": "https://localhost:8080/"
        },
        "id": "lQvuyl77BBfl",
        "outputId": "a1ef40ef-f1db-4fea-fba8-e5e2334fe478"
      },
      "execution_count": 108,
      "outputs": [
        {
          "output_type": "execute_result",
          "data": {
            "text/plain": [
              "[0, 1, 2, 3, 4, 5, 6, 7, 8, 9]"
            ]
          },
          "metadata": {},
          "execution_count": 108
        }
      ]
    },
    {
      "cell_type": "code",
      "source": [
        "my_string = \"\"\"\n",
        "     *\n",
        "    ***\n",
        "  *******\n",
        " *********\n",
        "    ||\n",
        "\"\"\"\n",
        "\n",
        "for i in range(1, 6):\n",
        "  print(\" \"*(6-i)+ '*' * (2*i - 1))\n",
        "print(\" \"*4 + \"||\")\n",
        "print(\"Happy Christmass\")\n"
      ],
      "metadata": {
        "colab": {
          "base_uri": "https://localhost:8080/"
        },
        "id": "NoqZLDhQBE9D",
        "outputId": "11e68238-b78b-48e4-a507-d03141dda455"
      },
      "execution_count": 125,
      "outputs": [
        {
          "output_type": "stream",
          "name": "stdout",
          "text": [
            "     *\n",
            "    ***\n",
            "   *****\n",
            "  *******\n",
            " *********\n",
            "    ||\n",
            "Happy Christmass\n"
          ]
        }
      ]
    },
    {
      "cell_type": "code",
      "source": [
        "my_dict = {\n",
        "    'Key1' : 'Value1',\n",
        "    'Key2' : 'Value2'\n",
        "}\n",
        "for i in my_dict:\n",
        "    print(my_dict[i])"
      ],
      "metadata": {
        "colab": {
          "base_uri": "https://localhost:8080/"
        },
        "id": "o8iib7boDnKz",
        "outputId": "6ab1a4fd-d8bf-4c26-96fd-c18b285420a5"
      },
      "execution_count": 131,
      "outputs": [
        {
          "output_type": "stream",
          "name": "stdout",
          "text": [
            "Value1\n",
            "Value2\n"
          ]
        }
      ]
    },
    {
      "cell_type": "code",
      "source": [
        "my_dict = {\n",
        "    'x': [10,20,30,40],\n",
        "    'y': [1,2,3,4]\n",
        "}\n",
        "\n",
        "for i in my_dict:\n",
        "    training_data = my_dict[i]\n",
        "    for j in training_data:\n",
        "        print(j)"
      ],
      "metadata": {
        "colab": {
          "base_uri": "https://localhost:8080/"
        },
        "id": "mpDuOtXDEyff",
        "outputId": "d79636d2-df1b-47ed-954e-f9d2635be92a"
      },
      "execution_count": 134,
      "outputs": [
        {
          "output_type": "stream",
          "name": "stdout",
          "text": [
            "10\n",
            "20\n",
            "30\n",
            "40\n",
            "1\n",
            "2\n",
            "3\n",
            "4\n"
          ]
        }
      ]
    },
    {
      "cell_type": "code",
      "source": [
        "my_list =  [3,2,1,4,5]\n",
        "for i in range(len(my_list)-2):\n",
        "    print(my_list[i:i+2])\n"
      ],
      "metadata": {
        "colab": {
          "base_uri": "https://localhost:8080/"
        },
        "id": "SaesWDDmFk4R",
        "outputId": "ec055ab1-830a-4807-9790-dde3de231397"
      },
      "execution_count": 138,
      "outputs": [
        {
          "output_type": "stream",
          "name": "stdout",
          "text": [
            "[3, 2]\n",
            "[2, 1]\n",
            "[1, 4]\n"
          ]
        }
      ]
    },
    {
      "cell_type": "code",
      "source": [
        "def my_function(a=\"\", b=\"\", c=\"\"):\n",
        "    return \"Hi \" + a + b + c, b + c"
      ],
      "metadata": {
        "id": "Y0VQ6gm5GDYX"
      },
      "execution_count": 154,
      "outputs": []
    },
    {
      "cell_type": "code",
      "source": [
        "_, second = my_function(\"asdasdasd\", b='This is b ', c='This is c ')"
      ],
      "metadata": {
        "id": "ju-3hP74Giqf"
      },
      "execution_count": 158,
      "outputs": []
    },
    {
      "cell_type": "code",
      "source": [
        "second"
      ],
      "metadata": {
        "colab": {
          "base_uri": "https://localhost:8080/",
          "height": 35
        },
        "id": "Vace8uRxGjx5",
        "outputId": "98079941-d986-4591-b32d-9195d265ccf3"
      },
      "execution_count": 159,
      "outputs": [
        {
          "output_type": "execute_result",
          "data": {
            "text/plain": [
              "'This is b This is c '"
            ],
            "application/vnd.google.colaboratory.intrinsic+json": {
              "type": "string"
            }
          },
          "metadata": {},
          "execution_count": 159
        }
      ]
    },
    {
      "cell_type": "code",
      "source": [
        "a = [1,2]\n",
        "first , second = a\n",
        "print(first, second)"
      ],
      "metadata": {
        "colab": {
          "base_uri": "https://localhost:8080/"
        },
        "id": "nEnFlLDWHvZx",
        "outputId": "4e57f26f-8ac2-4486-ee18-f2a73a61f81a"
      },
      "execution_count": 161,
      "outputs": [
        {
          "output_type": "stream",
          "name": "stdout",
          "text": [
            "1 2\n"
          ]
        }
      ]
    },
    {
      "cell_type": "code",
      "source": [
        "def sum(*args):\n",
        "  res = 0\n",
        "  for item in args:\n",
        "    res += item\n",
        "  return res\n",
        ""
      ],
      "metadata": {
        "id": "7BTIYDpRIEEX"
      },
      "execution_count": 164,
      "outputs": []
    },
    {
      "cell_type": "code",
      "source": [
        "sum(1,2,3,4,5,6,7,8,9)"
      ],
      "metadata": {
        "colab": {
          "base_uri": "https://localhost:8080/"
        },
        "id": "IyYgyBS-IXR9",
        "outputId": "8344cf84-d6f3-4a07-a528-b7930b7fdbda"
      },
      "execution_count": 165,
      "outputs": [
        {
          "output_type": "execute_result",
          "data": {
            "text/plain": [
              "45"
            ]
          },
          "metadata": {},
          "execution_count": 165
        }
      ]
    },
    {
      "cell_type": "code",
      "source": [
        "def sum(args):\n",
        "  Total = 0\n",
        "  for item in args:\n",
        "    Total += item\n",
        "  return Total"
      ],
      "metadata": {
        "id": "Q2VzZ0DYIZTi"
      },
      "execution_count": 199,
      "outputs": []
    },
    {
      "cell_type": "code",
      "source": [
        "sum(1,2,3,4,5,6,7,8,9)"
      ],
      "metadata": {
        "colab": {
          "base_uri": "https://localhost:8080/"
        },
        "id": "7S0he8cjMOIo",
        "outputId": "d94c5bac-2e44-4e9d-be1d-0826cbd503e7"
      },
      "execution_count": 169,
      "outputs": [
        {
          "output_type": "execute_result",
          "data": {
            "text/plain": [
              "45"
            ]
          },
          "metadata": {},
          "execution_count": 169
        }
      ]
    },
    {
      "cell_type": "code",
      "source": [
        "\"\"\"\n",
        "56208   95668\n",
        "52621   74203\n",
        "95252   33335\n",
        "79799   26047\n",
        "88005   37435\n",
        "61887   93836\n",
        "48454   95821\n",
        "62543   40154\n",
        "\"\"\""
      ],
      "metadata": {
        "colab": {
          "base_uri": "https://localhost:8080/",
          "height": 35
        },
        "id": "pcog7OeHMRYC",
        "outputId": "5b27e553-7f4a-4aea-f331-13b6d2fef83d"
      },
      "execution_count": 171,
      "outputs": [
        {
          "output_type": "execute_result",
          "data": {
            "text/plain": [
              "'\\n56208   95668\\n52621   74203\\n95252   33335\\n79799   26047\\n88005   37435\\n61887   93836\\n48454   95821\\n62543   40154\\n'"
            ],
            "application/vnd.google.colaboratory.intrinsic+json": {
              "type": "string"
            }
          },
          "metadata": {},
          "execution_count": 171
        }
      ]
    },
    {
      "cell_type": "code",
      "source": [
        "line = input()"
      ],
      "metadata": {
        "colab": {
          "base_uri": "https://localhost:8080/"
        },
        "id": "d0yrVIToNKub",
        "outputId": "473a2b73-da2a-43d6-9499-d45f6edd9a2d"
      },
      "execution_count": 173,
      "outputs": [
        {
          "name": "stdout",
          "output_type": "stream",
          "text": [
            "56208   95668\n"
          ]
        }
      ]
    },
    {
      "cell_type": "code",
      "source": [
        "\"1,2,3,4,5\".split(\",\")"
      ],
      "metadata": {
        "colab": {
          "base_uri": "https://localhost:8080/"
        },
        "id": "4v736XhPNsmI",
        "outputId": "faa3768f-dfbe-49c2-b434-0b66b8780502"
      },
      "execution_count": 176,
      "outputs": [
        {
          "output_type": "execute_result",
          "data": {
            "text/plain": [
              "['1', '2', '3', '4', '5']"
            ]
          },
          "metadata": {},
          "execution_count": 176
        }
      ]
    },
    {
      "cell_type": "code",
      "source": [
        "line_list = line.split()"
      ],
      "metadata": {
        "id": "eXDu_H7TNQZP"
      },
      "execution_count": 177,
      "outputs": []
    },
    {
      "cell_type": "code",
      "source": [
        "for item in range(len(line_list)):\n",
        "  line_list[item] = int(line_list[item])"
      ],
      "metadata": {
        "id": "ZT2Fnd9aNfn7"
      },
      "execution_count": 180,
      "outputs": []
    },
    {
      "cell_type": "code",
      "source": [
        "line_list"
      ],
      "metadata": {
        "colab": {
          "base_uri": "https://localhost:8080/"
        },
        "id": "B9jeklhrN4ut",
        "outputId": "55308e3e-3758-46ec-97ca-c4f4d9397eb5"
      },
      "execution_count": 181,
      "outputs": [
        {
          "output_type": "execute_result",
          "data": {
            "text/plain": [
              "[56208, 95668]"
            ]
          },
          "metadata": {},
          "execution_count": 181
        }
      ]
    },
    {
      "cell_type": "code",
      "source": [
        "firs_list = []\n",
        "second_list = []\n",
        "third_list = []\n",
        "for i in range(8):\n",
        "  line_list = input().split()\n",
        "  first, second = line_list\n",
        "  firs_list.append(int(first))\n",
        "  second_list.append(int(second))\n"
      ],
      "metadata": {
        "colab": {
          "base_uri": "https://localhost:8080/"
        },
        "id": "R9H1p-6AOOAp",
        "outputId": "d9f0c9c8-efd1-47ae-d229-aa9763d0e204"
      },
      "execution_count": 183,
      "outputs": [
        {
          "name": "stdout",
          "output_type": "stream",
          "text": [
            "56208   95668\n",
            " 52621   74203\n",
            " 95252   33335\n",
            " 79799   26047\n",
            "88005   37435\n",
            " 61887   93836\n",
            " 48454   95821\n",
            "62543   40154\n"
          ]
        }
      ]
    },
    {
      "cell_type": "code",
      "source": [
        "firs_list"
      ],
      "metadata": {
        "colab": {
          "base_uri": "https://localhost:8080/"
        },
        "id": "mYSfcb2GOl5o",
        "outputId": "ba777b9e-e499-4a1c-e4d5-324e1596b6be"
      },
      "execution_count": 184,
      "outputs": [
        {
          "output_type": "execute_result",
          "data": {
            "text/plain": [
              "[56208, 52621, 95252, 79799, 88005, 61887, 48454, 62543]"
            ]
          },
          "metadata": {},
          "execution_count": 184
        }
      ]
    },
    {
      "cell_type": "code",
      "source": [
        "second_list"
      ],
      "metadata": {
        "colab": {
          "base_uri": "https://localhost:8080/"
        },
        "id": "RuNxUqr2O3hQ",
        "outputId": "4abcf6c4-a2da-47e0-b54b-ae194824abcd"
      },
      "execution_count": 185,
      "outputs": [
        {
          "output_type": "execute_result",
          "data": {
            "text/plain": [
              "[95668, 74203, 33335, 26047, 37435, 93836, 95821, 40154]"
            ]
          },
          "metadata": {},
          "execution_count": 185
        }
      ]
    },
    {
      "cell_type": "code",
      "source": [
        "firs_list.sort()\n",
        "second_list.sort()"
      ],
      "metadata": {
        "id": "asWFBZqrO4ol"
      },
      "execution_count": 186,
      "outputs": []
    },
    {
      "cell_type": "code",
      "source": [
        "firs_list"
      ],
      "metadata": {
        "colab": {
          "base_uri": "https://localhost:8080/"
        },
        "id": "jhgiK2xkO8OM",
        "outputId": "4c1f636d-3c1f-495f-ad55-e0fc5c2055dd"
      },
      "execution_count": 187,
      "outputs": [
        {
          "output_type": "execute_result",
          "data": {
            "text/plain": [
              "[48454, 52621, 56208, 61887, 62543, 79799, 88005, 95252]"
            ]
          },
          "metadata": {},
          "execution_count": 187
        }
      ]
    },
    {
      "cell_type": "code",
      "source": [
        "second_list"
      ],
      "metadata": {
        "colab": {
          "base_uri": "https://localhost:8080/"
        },
        "id": "ztxUjn6iO-Jo",
        "outputId": "41856685-56de-4ca1-8158-e1d0b5dd8271"
      },
      "execution_count": 188,
      "outputs": [
        {
          "output_type": "execute_result",
          "data": {
            "text/plain": [
              "[26047, 33335, 37435, 40154, 74203, 93836, 95668, 95821]"
            ]
          },
          "metadata": {},
          "execution_count": 188
        }
      ]
    },
    {
      "cell_type": "code",
      "source": [
        "for i in range(8):\n",
        "  third_list.append(firs_list[i] - second_list[i])"
      ],
      "metadata": {
        "id": "vm1rzCu0PA9m"
      },
      "execution_count": 189,
      "outputs": []
    },
    {
      "cell_type": "code",
      "source": [
        "third_list"
      ],
      "metadata": {
        "colab": {
          "base_uri": "https://localhost:8080/"
        },
        "id": "9ouLDciCPK7_",
        "outputId": "5303eb78-c973-41fc-ed12-2901662ff603"
      },
      "execution_count": 190,
      "outputs": [
        {
          "output_type": "execute_result",
          "data": {
            "text/plain": [
              "[22407, 19286, 18773, 21733, -11660, -14037, -7663, -569]"
            ]
          },
          "metadata": {},
          "execution_count": 190
        }
      ]
    },
    {
      "cell_type": "code",
      "source": [
        "toatl_value = sum(third_list)"
      ],
      "metadata": {
        "id": "WjLPiXBfPL-D"
      },
      "execution_count": 192,
      "outputs": []
    },
    {
      "cell_type": "code",
      "source": [
        "print(toatl_value)"
      ],
      "metadata": {
        "colab": {
          "base_uri": "https://localhost:8080/"
        },
        "id": "K7c4vVzuPbCl",
        "outputId": "0fc5227c-5d09-4645-b899-1e508ee6485d"
      },
      "execution_count": 193,
      "outputs": [
        {
          "output_type": "stream",
          "name": "stdout",
          "text": [
            "48270\n"
          ]
        }
      ]
    },
    {
      "cell_type": "code",
      "source": [
        "def answer(arg):\n",
        "  firs_list = []\n",
        "  second_list = []\n",
        "  third_list = []\n",
        "  for i in range(arg):\n",
        "    line_list = input().split()\n",
        "    first, second = line_list\n",
        "    firs_list.append(int(first))\n",
        "    second_list.append(int(second))\n",
        "  firs_list.sort()\n",
        "  second_list.sort()\n",
        "  for i in range(arg):\n",
        "    third_list.append(firs_list[i] - second_list[i])\n",
        "  toatl_value = sum(third_list)\n",
        "  return toatl_value"
      ],
      "metadata": {
        "id": "vk4rJMLSPckz"
      },
      "execution_count": 197,
      "outputs": []
    },
    {
      "cell_type": "code",
      "source": [
        "\"\"\"\n",
        "3   4\n",
        "4   3\n",
        "2   5\n",
        "1   3\n",
        "3   9\n",
        "3   3\n",
        "\"\"\"\n",
        "answer_to_Q1 = answer(6)\n"
      ],
      "metadata": {
        "colab": {
          "base_uri": "https://localhost:8080/"
        },
        "id": "D_U_eiljP0bo",
        "outputId": "ce295bc9-fc1e-47aa-9476-64617c8f02d5"
      },
      "execution_count": 200,
      "outputs": [
        {
          "output_type": "stream",
          "name": "stdout",
          "text": [
            "3 4\n",
            "4 3\n",
            "2 5\n",
            "1 3\n",
            "3 9\n",
            "3 3\n",
            "-11\n"
          ]
        }
      ]
    },
    {
      "cell_type": "code",
      "source": [
        "if answer_to_Q1 < 0:\n",
        "  answer_to_Q1 = -1*answer_to_Q1\n",
        "print(answer_to_Q1)"
      ],
      "metadata": {
        "colab": {
          "base_uri": "https://localhost:8080/"
        },
        "id": "_FLYIqLiQB2r",
        "outputId": "852a8129-3086-4822-f421-e89b7d144822"
      },
      "execution_count": 201,
      "outputs": [
        {
          "output_type": "stream",
          "name": "stdout",
          "text": [
            "11\n"
          ]
        }
      ]
    },
    {
      "cell_type": "code",
      "source": [],
      "metadata": {
        "id": "FQN_eTk8QjTk"
      },
      "execution_count": null,
      "outputs": []
    }
  ]
}