{
  "nbformat": 4,
  "nbformat_minor": 0,
  "metadata": {
    "colab": {
      "provenance": []
    },
    "kernelspec": {
      "name": "python3",
      "display_name": "Python 3"
    },
    "language_info": {
      "name": "python"
    }
  },
  "cells": [
    {
      "cell_type": "markdown",
      "source": [
        "# First program"
      ],
      "metadata": {
        "id": "GZuIGkBFG-kf"
      }
    },
    {
      "cell_type": "code",
      "execution_count": 1,
      "metadata": {
        "colab": {
          "base_uri": "https://localhost:8080/"
        },
        "id": "agwbk8vKGuJo",
        "outputId": "de0c9d06-0daa-4be0-e02d-212abd4e2211"
      },
      "outputs": [
        {
          "output_type": "stream",
          "name": "stdout",
          "text": [
            "Hello World!\n"
          ]
        }
      ],
      "source": [
        "# First program in python!\n",
        "print(\"Hello World!\")"
      ]
    },
    {
      "cell_type": "markdown",
      "source": [
        "# Variables"
      ],
      "metadata": {
        "id": "Ljjxxz3fIAS_"
      }
    },
    {
      "cell_type": "code",
      "source": [
        "# There is no such thing as \"data type\".\n",
        "my_variable = 12 # int\n",
        "my_variable = 12.0 # float or double\n",
        "my_variable = True # boolean\n",
        "my_variable = \"This is a 'string' \"  # string\n",
        "my_variable = 'This is also a \"string\" '\n",
        "# '' and \"\" are pretty much the same thing"
      ],
      "metadata": {
        "id": "xFfCzb8YH515"
      },
      "execution_count": 2,
      "outputs": []
    },
    {
      "cell_type": "code",
      "source": [
        "print(\"\"\"\n",
        "    This is a string\n",
        "    So\n",
        "    I can\n",
        "    Print it!\n",
        "    :)\n",
        "\"\"\")"
      ],
      "metadata": {
        "colab": {
          "base_uri": "https://localhost:8080/"
        },
        "id": "8nCQvXfXIg-v",
        "outputId": "abe87390-4081-4ce6-8091-612fa062331a"
      },
      "execution_count": 3,
      "outputs": [
        {
          "output_type": "stream",
          "name": "stdout",
          "text": [
            "\n",
            "    This is a string\n",
            "    So\n",
            "    I can\n",
            "    Print it!\n",
            "    :)\n",
            "\n"
          ]
        }
      ]
    },
    {
      "cell_type": "markdown",
      "source": [
        "# Arithmetic"
      ],
      "metadata": {
        "id": "AGIgipAeIvuc"
      }
    },
    {
      "cell_type": "code",
      "source": [
        "# Normal arithmetic operators like '+', '-', '*', '/' are similar to other programing languages\n",
        "print('1 + 2 = ', 1 + 2)\n",
        "print('2 * 4.5 = ', 2 * 4.5)\n",
        "print('10 - 2.5 = ', 10 - 2.5)\n",
        "print('1 / 2 = ', 1/2) # '/' operator returns float numbers.\n",
        "print('5 // 2 = ', 5//2) # '//' operator returns just the integer part of the number.\n",
        "print('2 ** 3 = ', 2**3) # You can also use '**' operator as power"
      ],
      "metadata": {
        "colab": {
          "base_uri": "https://localhost:8080/"
        },
        "id": "cVoYnhXpIvOV",
        "outputId": "8ea0dded-ca68-4d96-d404-0f1b29cc267c"
      },
      "execution_count": 4,
      "outputs": [
        {
          "output_type": "stream",
          "name": "stdout",
          "text": [
            "1 + 2 =  3\n",
            "2 * 4.5 =  9.0\n",
            "10 - 2.5 =  7.5\n",
            "1 / 2 =  0.5\n",
            "5 // 2 =  2\n",
            "2 ** 3 =  8\n"
          ]
        }
      ]
    },
    {
      "cell_type": "code",
      "source": [
        "# Division by Zero (int/0)\n",
        "print(1/0)"
      ],
      "metadata": {
        "colab": {
          "base_uri": "https://localhost:8080/",
          "height": 158
        },
        "id": "s0OirESbJSZB",
        "outputId": "4c63d828-1427-4ce4-ffe7-6ff077f3b0aa"
      },
      "execution_count": 5,
      "outputs": [
        {
          "output_type": "error",
          "ename": "ZeroDivisionError",
          "evalue": "division by zero",
          "traceback": [
            "\u001b[0;31m---------------------------------------------------------------------------\u001b[0m",
            "\u001b[0;31mZeroDivisionError\u001b[0m                         Traceback (most recent call last)",
            "\u001b[0;32m<ipython-input-5-3b8655569a12>\u001b[0m in \u001b[0;36m<cell line: 2>\u001b[0;34m()\u001b[0m\n\u001b[1;32m      1\u001b[0m \u001b[0;31m# Division by Zero (int/0)\u001b[0m\u001b[0;34m\u001b[0m\u001b[0;34m\u001b[0m\u001b[0m\n\u001b[0;32m----> 2\u001b[0;31m \u001b[0mprint\u001b[0m\u001b[0;34m(\u001b[0m\u001b[0;36m1\u001b[0m\u001b[0;34m/\u001b[0m\u001b[0;36m0\u001b[0m\u001b[0;34m)\u001b[0m\u001b[0;34m\u001b[0m\u001b[0;34m\u001b[0m\u001b[0m\n\u001b[0m",
            "\u001b[0;31mZeroDivisionError\u001b[0m: division by zero"
          ]
        }
      ]
    },
    {
      "cell_type": "markdown",
      "source": [
        "In Java when `System.out.println(1.0/0)` runs it will display `Infinity`\n",
        "But Python doesn't  allown anything like this"
      ],
      "metadata": {
        "id": "-1gb7tgyKUIn"
      }
    },
    {
      "cell_type": "code",
      "source": [
        "# Division by Zero (float/0)\n",
        "print(1.0/0)"
      ],
      "metadata": {
        "colab": {
          "base_uri": "https://localhost:8080/",
          "height": 158
        },
        "id": "r7iPalv9KKV_",
        "outputId": "f5101130-f2e1-4f27-b448-77a3f269eeca"
      },
      "execution_count": 6,
      "outputs": [
        {
          "output_type": "error",
          "ename": "ZeroDivisionError",
          "evalue": "float division by zero",
          "traceback": [
            "\u001b[0;31m---------------------------------------------------------------------------\u001b[0m",
            "\u001b[0;31mZeroDivisionError\u001b[0m                         Traceback (most recent call last)",
            "\u001b[0;32m<ipython-input-6-8e83d96674c8>\u001b[0m in \u001b[0;36m<cell line: 2>\u001b[0;34m()\u001b[0m\n\u001b[1;32m      1\u001b[0m \u001b[0;31m# Division by Zero (float/0)\u001b[0m\u001b[0;34m\u001b[0m\u001b[0;34m\u001b[0m\u001b[0m\n\u001b[0;32m----> 2\u001b[0;31m \u001b[0mprint\u001b[0m\u001b[0;34m(\u001b[0m\u001b[0;36m1.0\u001b[0m\u001b[0;34m/\u001b[0m\u001b[0;36m0\u001b[0m\u001b[0;34m)\u001b[0m\u001b[0;34m\u001b[0m\u001b[0;34m\u001b[0m\u001b[0m\n\u001b[0m",
            "\u001b[0;31mZeroDivisionError\u001b[0m: float division by zero"
          ]
        }
      ]
    },
    {
      "cell_type": "markdown",
      "source": [
        "# IEEE 754\n",
        "\n",
        "For more information you can visit [HERE](https://builtin.com/articles/0-1-0-2) and read more detail about the IEE754 [HERE](https://en.wikipedia.org/wiki/IEEE_754)."
      ],
      "metadata": {
        "id": "BQSX1lNmK9wn"
      }
    },
    {
      "cell_type": "code",
      "source": [
        "print(\"0.1 + 0.2 = 0.3 ?\")\n",
        "print(\"0.1 + 0.2 =\", 0.1 + 0.2)"
      ],
      "metadata": {
        "colab": {
          "base_uri": "https://localhost:8080/"
        },
        "id": "XkCqaXkRKOZ2",
        "outputId": "6ab957ca-6433-4866-fc5a-cdd65cfb385e"
      },
      "execution_count": 7,
      "outputs": [
        {
          "output_type": "stream",
          "name": "stdout",
          "text": [
            "0.1 + 0.2 = 0.3 ?\n",
            "0.1 + 0.2 = 0.30000000000000004\n"
          ]
        }
      ]
    },
    {
      "cell_type": "markdown",
      "source": [
        "# Index\n",
        "In short indexing refers to the process of accessing a specific element in a sequence, such as a string or list or etc. , using its position or index number.\n",
        "In python indexing start from 0"
      ],
      "metadata": {
        "id": "GpRamhoCNR3s"
      }
    },
    {
      "cell_type": "code",
      "source": [
        "my_string = \"Python is easy\"\n",
        "# in python for getting access to the i-th element in the sequence we use []\n",
        "print(\"First element(index of 0) in the string is = \", my_string[0])\n",
        "print(\"Second element(index of 1) in the string is = \", my_string[1])\n",
        "print(\"Third element(index of 2) in the string is = \", my_string[2])"
      ],
      "metadata": {
        "colab": {
          "base_uri": "https://localhost:8080/"
        },
        "id": "L8ENEbr2Mz2s",
        "outputId": "0ec78792-b6fa-4541-defc-47390313223e"
      },
      "execution_count": 8,
      "outputs": [
        {
          "output_type": "stream",
          "name": "stdout",
          "text": [
            "First element(index of 0) in the string is =  P\n",
            "Second element(index of 1) in the string is =  y\n",
            "Third element(index of 2) in the string is =  t\n"
          ]
        }
      ]
    },
    {
      "cell_type": "markdown",
      "source": [
        "# Basic Data Structure"
      ],
      "metadata": {
        "id": "yX3srLZzSM5y"
      }
    },
    {
      "cell_type": "markdown",
      "source": [
        "# List\n",
        "In python we do not have built-in support for Arrays, but Python Lists can be used instead. however, to work with arrays in Python you will have to import a library, like the NumPy library."
      ],
      "metadata": {
        "id": "Zj82t09qcyLx"
      }
    },
    {
      "cell_type": "markdown",
      "source": [
        "### Defining a list"
      ],
      "metadata": {
        "id": "Nd_BTcGhbOfy"
      }
    },
    {
      "cell_type": "code",
      "source": [
        "my_list = list()\n",
        "# You can also define a list this way\n",
        "my_list = []"
      ],
      "metadata": {
        "id": "Ccxm9zuOOhJq"
      },
      "execution_count": 9,
      "outputs": []
    },
    {
      "cell_type": "code",
      "source": [
        "# Since we don't have types in python you can initialize a list with different\n",
        "# types\n",
        "my_list = [1, 2, 12.0, 'Falan Filan', True]"
      ],
      "metadata": {
        "id": "oO11Zzj4TRd7"
      },
      "execution_count": 10,
      "outputs": []
    },
    {
      "cell_type": "markdown",
      "source": [
        "### Append"
      ],
      "metadata": {
        "id": "HOsHcuU3bTZK"
      }
    },
    {
      "cell_type": "code",
      "source": [
        "# To add an item at the end of the list we use append()\n",
        "my_list.append(13)\n",
        "print(my_list)"
      ],
      "metadata": {
        "colab": {
          "base_uri": "https://localhost:8080/"
        },
        "id": "9_D_AQM4UFqw",
        "outputId": "409cf127-ea62-48ac-ca5d-63178007bd27"
      },
      "execution_count": 11,
      "outputs": [
        {
          "output_type": "stream",
          "name": "stdout",
          "text": [
            "[1, 2, 12.0, 'Falan Filan', True, 13]\n"
          ]
        }
      ]
    },
    {
      "cell_type": "markdown",
      "source": [
        "### Insert"
      ],
      "metadata": {
        "id": "FvTI0f-xbWR_"
      }
    },
    {
      "cell_type": "code",
      "source": [
        "# To add an item in a specific index we will use insert()\n",
        "# The first argument is the index and the second is the item\n",
        "my_list.insert(1, 24)\n",
        "print(my_list)"
      ],
      "metadata": {
        "colab": {
          "base_uri": "https://localhost:8080/"
        },
        "id": "9HgObD-tUOot",
        "outputId": "27851c55-d65a-499e-afe5-e0032e4137bf"
      },
      "execution_count": 12,
      "outputs": [
        {
          "output_type": "stream",
          "name": "stdout",
          "text": [
            "[1, 24, 2, 12.0, 'Falan Filan', True, 13]\n"
          ]
        }
      ]
    },
    {
      "cell_type": "markdown",
      "source": [
        "### Pop"
      ],
      "metadata": {
        "id": "JftOQ0wEbYEw"
      }
    },
    {
      "cell_type": "code",
      "source": [
        "# To remove an from the list we use pop(), it will return the item.\n",
        "poped_item = my_list.pop()\n",
        "print(poped_item)\n",
        "print(my_list)"
      ],
      "metadata": {
        "colab": {
          "base_uri": "https://localhost:8080/"
        },
        "id": "QGjxDCF4UpW6",
        "outputId": "98f379ac-760c-4015-d66b-118960e53eb2"
      },
      "execution_count": 13,
      "outputs": [
        {
          "output_type": "stream",
          "name": "stdout",
          "text": [
            "13\n",
            "[1, 24, 2, 12.0, 'Falan Filan', True]\n"
          ]
        }
      ]
    },
    {
      "cell_type": "code",
      "source": [
        "# pop() also gets an argument, in that case it will remove the the item from that index.\n",
        "poped_item = my_list.pop(0)\n",
        "print(poped_item)\n",
        "print(my_list)"
      ],
      "metadata": {
        "colab": {
          "base_uri": "https://localhost:8080/"
        },
        "id": "6fSSAgrxVNgA",
        "outputId": "a517f47d-baa5-4db8-d092-4667de613385"
      },
      "execution_count": 14,
      "outputs": [
        {
          "output_type": "stream",
          "name": "stdout",
          "text": [
            "1\n",
            "[24, 2, 12.0, 'Falan Filan', True]\n"
          ]
        }
      ]
    },
    {
      "cell_type": "markdown",
      "source": [
        "### Remove"
      ],
      "metadata": {
        "id": "3iAPRs-qba5L"
      }
    },
    {
      "cell_type": "code",
      "source": [
        "# To delete an item we use remove()\n",
        "# we try to remove 12, is it even possible?\n",
        "my_list.remove(12)\n",
        "print(my_list)"
      ],
      "metadata": {
        "colab": {
          "base_uri": "https://localhost:8080/"
        },
        "id": "cZ-h6FO5Vczf",
        "outputId": "de8b2790-8725-4745-80e2-989aeebd8bc8"
      },
      "execution_count": 15,
      "outputs": [
        {
          "output_type": "stream",
          "name": "stdout",
          "text": [
            "[24, 2, 'Falan Filan', True]\n"
          ]
        }
      ]
    },
    {
      "cell_type": "markdown",
      "source": [
        "wanted to delete 12 not 12.0!\n",
        "\n",
        "**So in Python, 12 and 12.0 are equal!**\n",
        "\n",
        "But in general `remove()` method starts iterating on the list and checks if the item is what we want to remove or not.\n",
        "\n",
        "And if we have similar items in our list, \"remove\" method will delete the item that has the **lowest index**."
      ],
      "metadata": {
        "id": "FAQYVbD6WgRN"
      }
    },
    {
      "cell_type": "code",
      "source": [
        "tmp = [1, 2, 10, 20, 10.0]\n",
        "tmp.remove(10.0)\n",
        "print(tmp)"
      ],
      "metadata": {
        "colab": {
          "base_uri": "https://localhost:8080/"
        },
        "id": "oYfmE7sfWSuO",
        "outputId": "726e65ab-49cf-4fa1-aada-7f46b258881e"
      },
      "execution_count": 16,
      "outputs": [
        {
          "output_type": "stream",
          "name": "stdout",
          "text": [
            "[1, 2, 20, 10.0]\n"
          ]
        }
      ]
    },
    {
      "cell_type": "markdown",
      "source": [
        "### Index access"
      ],
      "metadata": {
        "id": "WMxCJXnNbd6i"
      }
    },
    {
      "cell_type": "code",
      "source": [
        "# As we explained in the index section we can get access to them via []\n",
        "print(my_list)\n",
        "print(my_list[0])"
      ],
      "metadata": {
        "colab": {
          "base_uri": "https://localhost:8080/"
        },
        "id": "LDt-I06qXUhh",
        "outputId": "ff6c18e3-4953-486b-b392-2add8d2e7447"
      },
      "execution_count": 17,
      "outputs": [
        {
          "output_type": "stream",
          "name": "stdout",
          "text": [
            "[24, 2, 'Falan Filan', True]\n",
            "24\n"
          ]
        }
      ]
    },
    {
      "cell_type": "markdown",
      "source": [
        "### Length"
      ],
      "metadata": {
        "id": "u75tMO14bhO7"
      }
    },
    {
      "cell_type": "code",
      "source": [
        "# To get the size of object we will use len()\n",
        "print(len(my_list))"
      ],
      "metadata": {
        "colab": {
          "base_uri": "https://localhost:8080/"
        },
        "id": "UEopJV7cYS_w",
        "outputId": "8c2b515a-af3c-45ed-b601-ad683fdeec26"
      },
      "execution_count": 18,
      "outputs": [
        {
          "output_type": "stream",
          "name": "stdout",
          "text": [
            "4\n"
          ]
        }
      ]
    },
    {
      "cell_type": "code",
      "source": [
        "# To get the last item?\n",
        "print(my_list[len(my_list) - 1])"
      ],
      "metadata": {
        "colab": {
          "base_uri": "https://localhost:8080/"
        },
        "id": "3BKVM2Z6ZKbN",
        "outputId": "10c2fa61-aa0a-4b0c-a2cc-4865491e8358"
      },
      "execution_count": 19,
      "outputs": [
        {
          "output_type": "stream",
          "name": "stdout",
          "text": [
            "True\n"
          ]
        }
      ]
    },
    {
      "cell_type": "code",
      "source": [
        "# But there is an easy way to do that\n",
        "print(my_list[-1])"
      ],
      "metadata": {
        "colab": {
          "base_uri": "https://localhost:8080/"
        },
        "id": "kFufRqzeZYBn",
        "outputId": "0e300034-7186-4b9a-e2f0-de7f93ece033"
      },
      "execution_count": 20,
      "outputs": [
        {
          "output_type": "stream",
          "name": "stdout",
          "text": [
            "True\n"
          ]
        }
      ]
    },
    {
      "cell_type": "code",
      "source": [
        "print(my_list[-4])"
      ],
      "metadata": {
        "colab": {
          "base_uri": "https://localhost:8080/"
        },
        "id": "iMe9ea_fZz06",
        "outputId": "92bc1331-df03-4fd4-aee7-8a57f2fa6f3c"
      },
      "execution_count": 21,
      "outputs": [
        {
          "output_type": "stream",
          "name": "stdout",
          "text": [
            "24\n"
          ]
        }
      ]
    },
    {
      "cell_type": "code",
      "source": [
        "# But you should be careful with that.\n",
        "# For example:\n",
        "print(my_list[-5])"
      ],
      "metadata": {
        "colab": {
          "base_uri": "https://localhost:8080/",
          "height": 176
        },
        "id": "QXZ-nwl7ZftO",
        "outputId": "0589ca29-d42c-4f53-d9b2-ea649a2e79e4"
      },
      "execution_count": 22,
      "outputs": [
        {
          "output_type": "error",
          "ename": "IndexError",
          "evalue": "list index out of range",
          "traceback": [
            "\u001b[0;31m---------------------------------------------------------------------------\u001b[0m",
            "\u001b[0;31mIndexError\u001b[0m                                Traceback (most recent call last)",
            "\u001b[0;32m<ipython-input-22-1a276a109262>\u001b[0m in \u001b[0;36m<cell line: 3>\u001b[0;34m()\u001b[0m\n\u001b[1;32m      1\u001b[0m \u001b[0;31m# But you should be careful with that.\u001b[0m\u001b[0;34m\u001b[0m\u001b[0;34m\u001b[0m\u001b[0m\n\u001b[1;32m      2\u001b[0m \u001b[0;31m# For example:\u001b[0m\u001b[0;34m\u001b[0m\u001b[0;34m\u001b[0m\u001b[0m\n\u001b[0;32m----> 3\u001b[0;31m \u001b[0mprint\u001b[0m\u001b[0;34m(\u001b[0m\u001b[0mmy_list\u001b[0m\u001b[0;34m[\u001b[0m\u001b[0;34m-\u001b[0m\u001b[0;36m5\u001b[0m\u001b[0;34m]\u001b[0m\u001b[0;34m)\u001b[0m\u001b[0;34m\u001b[0m\u001b[0;34m\u001b[0m\u001b[0m\n\u001b[0m",
            "\u001b[0;31mIndexError\u001b[0m: list index out of range"
          ]
        }
      ]
    },
    {
      "cell_type": "markdown",
      "source": [
        "### List slicing\n",
        "We have a list like this:\n",
        "```python\n",
        "my_list = [1, 2, 4, 4, 3, 6, 8, 5,9]\n",
        "```\n",
        "And I want some part of it! for example from index 2 up to index 5.\n",
        "In other programming languages like C we do something like this:\n",
        "``` Java\n",
        "for(int i=2; i < 6; i++){\n",
        "   new_List[i-2] = my_list[i];\n",
        "}\n",
        "```\n",
        "But in python it is easier"
      ],
      "metadata": {
        "id": "XHPhW8qQZ5mt"
      }
    },
    {
      "cell_type": "code",
      "source": [
        "my_list = [1, 2, 4, 4, 3, 6, 8, 5,9]\n",
        "print(my_list[2:6])\n",
        "# From index \"i\" till index \"j-1\"(in this case i=2 and j=6)\n",
        "# We call this \"slicing\"!"
      ],
      "metadata": {
        "id": "mr4zb5aMZt97",
        "colab": {
          "base_uri": "https://localhost:8080/"
        },
        "outputId": "d724cffc-2144-4f4e-8fa9-c6efd33ab1e8"
      },
      "execution_count": 23,
      "outputs": [
        {
          "output_type": "stream",
          "name": "stdout",
          "text": [
            "[4, 4, 3, 6]\n"
          ]
        }
      ]
    },
    {
      "cell_type": "code",
      "source": [
        "# There is also a third argument that defines step\n",
        "# For example I want to go from index 1 up to index 5 with step=2: [2, 4, 6]\n",
        "my_list[1:6:2]"
      ],
      "metadata": {
        "id": "9so2yPgYa54O",
        "colab": {
          "base_uri": "https://localhost:8080/"
        },
        "outputId": "533c64b2-9f46-429a-e06a-2893569f50a6"
      },
      "execution_count": 24,
      "outputs": [
        {
          "output_type": "execute_result",
          "data": {
            "text/plain": [
              "[2, 4, 6]"
            ]
          },
          "metadata": {},
          "execution_count": 24
        }
      ]
    },
    {
      "cell_type": "markdown",
      "source": [
        "### Sort"
      ],
      "metadata": {
        "id": "xQEbMdV3b9hu"
      }
    },
    {
      "cell_type": "code",
      "source": [
        "print('Not sorted list: ',my_list)\n",
        "my_list.sort()\n",
        "print('Sorted list: ', my_list)"
      ],
      "metadata": {
        "colab": {
          "base_uri": "https://localhost:8080/"
        },
        "id": "JxiYAx8Ma_NS",
        "outputId": "b301c6e1-5ddb-4bde-f9b5-3951243ddaed"
      },
      "execution_count": 25,
      "outputs": [
        {
          "output_type": "stream",
          "name": "stdout",
          "text": [
            "Not sorted list:  [1, 2, 4, 4, 3, 6, 8, 5, 9]\n",
            "Sorted list:  [1, 2, 3, 4, 4, 5, 6, 8, 9]\n"
          ]
        }
      ]
    },
    {
      "cell_type": "markdown",
      "source": [
        "### Reverse"
      ],
      "metadata": {
        "id": "qPP5HRXncRKx"
      }
    },
    {
      "cell_type": "code",
      "source": [
        "print('Not reversed list: ',my_list)\n",
        "my_list.reverse()\n",
        "print('Reversed list: ', my_list)"
      ],
      "metadata": {
        "id": "aoa1g_vdcDIx",
        "colab": {
          "base_uri": "https://localhost:8080/"
        },
        "outputId": "2923b10a-51e4-4c52-9a82-7474cb13eae8"
      },
      "execution_count": 26,
      "outputs": [
        {
          "output_type": "stream",
          "name": "stdout",
          "text": [
            "Not reversed list:  [1, 2, 3, 4, 4, 5, 6, 8, 9]\n",
            "Reversed list:  [9, 8, 6, 5, 4, 4, 3, 2, 1]\n"
          ]
        }
      ]
    },
    {
      "cell_type": "code",
      "source": [
        "# There is another way if you don't like to use that method\n",
        "'''\n",
        "Remember the slicing part?\n",
        "We can pass a step arg to list, right?\n",
        "What if I pass -1 for step?\n",
        "'''\n",
        "my_list = [1, 2, 3, 4, 4, 5, 6, 8, 9] # This is my_list before the reverse method, right?\n",
        "print(my_list[::-1]) # [9, 8, 6, 5, 4, 4, 3, 2, 1]"
      ],
      "metadata": {
        "id": "4lPB0yu9cTj_",
        "colab": {
          "base_uri": "https://localhost:8080/"
        },
        "outputId": "424d427f-a8ad-4b4d-db15-c0bc9549f942"
      },
      "execution_count": 27,
      "outputs": [
        {
          "output_type": "stream",
          "name": "stdout",
          "text": [
            "[9, 8, 6, 5, 4, 4, 3, 2, 1]\n"
          ]
        }
      ]
    },
    {
      "cell_type": "markdown",
      "source": [
        "### Multidimensional lists"
      ],
      "metadata": {
        "id": "wPpwOipYdNiE"
      }
    },
    {
      "cell_type": "code",
      "source": [
        "# It can have different type  or length\n",
        "multidimenional_list = [[1,2,3],[4,5],[6]]\n",
        "print(multidimenional_list[0])\n",
        "print(multidimenional_list[0][2])"
      ],
      "metadata": {
        "colab": {
          "base_uri": "https://localhost:8080/"
        },
        "id": "KJ16RmD1dUrL",
        "outputId": "cf3e90cb-69fa-4c8f-86b8-3f5ed554e720"
      },
      "execution_count": 28,
      "outputs": [
        {
          "output_type": "stream",
          "name": "stdout",
          "text": [
            "[1, 2, 3]\n",
            "3\n"
          ]
        }
      ]
    },
    {
      "cell_type": "markdown",
      "source": [
        "# Tuples"
      ],
      "metadata": {
        "id": "7ZY9Ar1Gc-ci"
      }
    },
    {
      "cell_type": "markdown",
      "source": [
        "Tuples are very similar to lists.\n",
        "You can use everything that we talked about in list, for tuples EXCEPT ONE THING!\n",
        "\n",
        "tuples are **immutable**!\n",
        "\n",
        "\n",
        "What does it mean?\n",
        "\n",
        "\n",
        "It means you **CAN NOT** change the data stored in tuples!"
      ],
      "metadata": {
        "id": "neejh8pSdw4A"
      }
    },
    {
      "cell_type": "code",
      "source": [
        "# You can define a tuple like a list\n",
        "my_tuple = tuple()\n",
        "# or\n",
        "my_tuple = (1, 2, 12.0, 'SOMETHING', True, [], ())\n",
        "print(my_tuple[0])\n",
        "print(my_tuple[::-1])"
      ],
      "metadata": {
        "colab": {
          "base_uri": "https://localhost:8080/"
        },
        "id": "zyrrYZ5KcsUl",
        "outputId": "cb56b7af-4029-4dd9-ea68-db86ca80c1d8"
      },
      "execution_count": 29,
      "outputs": [
        {
          "output_type": "stream",
          "name": "stdout",
          "text": [
            "1\n",
            "((), [], True, 'SOMETHING', 12.0, 2, 1)\n"
          ]
        }
      ]
    },
    {
      "cell_type": "code",
      "source": [
        "my_tuple[0] = 2"
      ],
      "metadata": {
        "colab": {
          "base_uri": "https://localhost:8080/",
          "height": 141
        },
        "id": "MmnHFQh3eS6Z",
        "outputId": "5b0c7d9b-20c2-48eb-e9d4-4d2ec4026793"
      },
      "execution_count": 30,
      "outputs": [
        {
          "output_type": "error",
          "ename": "TypeError",
          "evalue": "'tuple' object does not support item assignment",
          "traceback": [
            "\u001b[0;31m---------------------------------------------------------------------------\u001b[0m",
            "\u001b[0;31mTypeError\u001b[0m                                 Traceback (most recent call last)",
            "\u001b[0;32m<ipython-input-30-f9a0f5b18919>\u001b[0m in \u001b[0;36m<cell line: 1>\u001b[0;34m()\u001b[0m\n\u001b[0;32m----> 1\u001b[0;31m \u001b[0mmy_tuple\u001b[0m\u001b[0;34m[\u001b[0m\u001b[0;36m0\u001b[0m\u001b[0;34m]\u001b[0m \u001b[0;34m=\u001b[0m \u001b[0;36m2\u001b[0m\u001b[0;34m\u001b[0m\u001b[0;34m\u001b[0m\u001b[0m\n\u001b[0m",
            "\u001b[0;31mTypeError\u001b[0m: 'tuple' object does not support item assignment"
          ]
        }
      ]
    },
    {
      "cell_type": "markdown",
      "source": [
        "Since they are immutable we can not append any new data so we need to change the whole tuple."
      ],
      "metadata": {
        "id": "7xKSehvP5o9a"
      }
    },
    {
      "cell_type": "code",
      "source": [
        "# Tuple with one item\n",
        "# Using the keyword\n",
        "my_tuple_with_one_item = tuple([1])\n",
        "# tuple() has one optional argument and it has to be an iterable object\n",
        "# Also I can get the same result:\n",
        "my_tuple_with_one_item = (1, )\n",
        "# What is that comma?\n",
        "# it has to be there for python to understand that this is a tuple, otherwise the python interpreter recognizes\n",
        "# this is a normal number and the perentesis as the operators\n",
        "print(my_tuple_with_one_item)"
      ],
      "metadata": {
        "id": "wJ23v5tneZ45",
        "colab": {
          "base_uri": "https://localhost:8080/"
        },
        "outputId": "3bdabfde-bffa-49f1-a1e6-8618ad76edd9"
      },
      "execution_count": 31,
      "outputs": [
        {
          "output_type": "stream",
          "name": "stdout",
          "text": [
            "(1,)\n"
          ]
        }
      ]
    },
    {
      "cell_type": "markdown",
      "source": [
        "# Set"
      ],
      "metadata": {
        "id": "7Xp5XJ_5e3y3"
      }
    },
    {
      "cell_type": "markdown",
      "source": [
        "Sets are collections which they are unordered, unchangeable, and unindexed.\n",
        "\n",
        "By unchangeable I mean we can add or remove but we can't change the item!"
      ],
      "metadata": {
        "id": "nnqV0k-3fIPW"
      }
    },
    {
      "cell_type": "code",
      "source": [
        "# Definition\n",
        "my_set = {} #Empty\n",
        "\n",
        "my_set = {1,2,3,4,5} # With intial value\n",
        "\n",
        "my_set.add(6)\n",
        "\n",
        "print(my_set)\n",
        "\n",
        "my_set.remove(1)\n",
        "\n",
        "print(my_set)"
      ],
      "metadata": {
        "colab": {
          "base_uri": "https://localhost:8080/"
        },
        "id": "Y3QWf0bUenuL",
        "outputId": "ae37261b-798d-4a13-b091-40cd385156ef"
      },
      "execution_count": 32,
      "outputs": [
        {
          "output_type": "stream",
          "name": "stdout",
          "text": [
            "{1, 2, 3, 4, 5, 6}\n",
            "{2, 3, 4, 5, 6}\n"
          ]
        }
      ]
    },
    {
      "cell_type": "code",
      "source": [
        "# As you know sets can't have duplicates. It is valid also here\n",
        "my_set = {1, 1, \"taxi\", \"some random data\"}\n",
        "print(my_set)"
      ],
      "metadata": {
        "colab": {
          "base_uri": "https://localhost:8080/"
        },
        "id": "KWVqpVO_fV4P",
        "outputId": "550812c9-35bb-4191-cb99-359af37f8649"
      },
      "execution_count": 33,
      "outputs": [
        {
          "output_type": "stream",
          "name": "stdout",
          "text": [
            "{'taxi', 'some random data', 1}\n"
          ]
        }
      ]
    },
    {
      "cell_type": "code",
      "source": [
        "# In sets 1 and True are the same and counts as a duplicate\n",
        "my_set = {1, 1, True, \"some random data\"}\n",
        "print(my_set)"
      ],
      "metadata": {
        "colab": {
          "base_uri": "https://localhost:8080/"
        },
        "id": "1guU2bmMfYUj",
        "outputId": "22e37613-cb36-4fb4-b683-669fad0ec3e2"
      },
      "execution_count": 34,
      "outputs": [
        {
          "output_type": "stream",
          "name": "stdout",
          "text": [
            "{1, 'some random data'}\n"
          ]
        }
      ]
    },
    {
      "cell_type": "code",
      "source": [
        "# with this logic we can say that the 0 and False are counting as a duplicate as well.\n",
        "my_set = {1, 0, False, 1, 0}\n",
        "print(my_set)"
      ],
      "metadata": {
        "colab": {
          "base_uri": "https://localhost:8080/"
        },
        "id": "_vF9u0aNfbL0",
        "outputId": "fbd46131-020c-4ea4-b7ed-e159aa893077"
      },
      "execution_count": 35,
      "outputs": [
        {
          "output_type": "stream",
          "name": "stdout",
          "text": [
            "{0, 1}\n"
          ]
        }
      ]
    },
    {
      "cell_type": "markdown",
      "source": [
        "# Dictionary"
      ],
      "metadata": {
        "id": "cSBQQCOpfulu"
      }
    },
    {
      "cell_type": "markdown",
      "source": [
        "Dictionary is a non sequence datastructure with a \"key, value\" system.\n",
        "\n",
        "It means that you define a key and add a value for that specific key."
      ],
      "metadata": {
        "id": "8IQLsH3FfxX-"
      }
    },
    {
      "cell_type": "code",
      "source": [
        "# You can define an empty dictionary with the 'dict()' method.\n",
        "my_dict = dict()\n",
        "print(my_dict)"
      ],
      "metadata": {
        "colab": {
          "base_uri": "https://localhost:8080/"
        },
        "id": "QgZ_RhtCfoax",
        "outputId": "765ab640-f9f8-4a11-88f9-25983a45015a"
      },
      "execution_count": 36,
      "outputs": [
        {
          "output_type": "stream",
          "name": "stdout",
          "text": [
            "{}\n"
          ]
        }
      ]
    },
    {
      "cell_type": "code",
      "source": [
        "# key, and \":\" , value.\n",
        "my_dict = {\n",
        "    'key': 'value',\n",
        "    'key1': 'value1',\n",
        "    'key2': 'value2',\n",
        "}\n",
        "# There is no data type, so your key and value can be anything you want.\n",
        "# But keys are uniqe! Just try to keep your code clean xD\n",
        "print(my_dict)"
      ],
      "metadata": {
        "colab": {
          "base_uri": "https://localhost:8080/"
        },
        "id": "x2ULpQ68f1Zl",
        "outputId": "b2c62022-a201-454b-9dbf-f07ec8b1fbd7"
      },
      "execution_count": 37,
      "outputs": [
        {
          "output_type": "stream",
          "name": "stdout",
          "text": [
            "{'key': 'value', 'key1': 'value1', 'key2': 'value2'}\n"
          ]
        }
      ]
    },
    {
      "cell_type": "code",
      "source": [
        "# call a key and it will return the expected value.\n",
        "print(my_dict['key']) # Should be 'value'"
      ],
      "metadata": {
        "colab": {
          "base_uri": "https://localhost:8080/"
        },
        "id": "WPKJxJ30f6Qa",
        "outputId": "69e5319c-8305-4058-a878-b58c5011a20b"
      },
      "execution_count": 38,
      "outputs": [
        {
          "output_type": "stream",
          "name": "stdout",
          "text": [
            "value\n"
          ]
        }
      ]
    },
    {
      "cell_type": "markdown",
      "source": [
        "### Add a pair"
      ],
      "metadata": {
        "id": "wpjx8llRgCIA"
      }
    },
    {
      "cell_type": "code",
      "source": [
        "# If you want to add a pair of <key, value> you can do this:\n",
        "# my_dict[<key>] = <value>\n",
        "# For example\n",
        "my_dict['key3'] = 'value3'\n",
        "print( my_dict)\n",
        "print(my_dict['key3'])"
      ],
      "metadata": {
        "colab": {
          "base_uri": "https://localhost:8080/"
        },
        "id": "7XOidYjwf_Yr",
        "outputId": "8dd3a1d7-1b3f-496d-b80a-65c9467788e9"
      },
      "execution_count": 39,
      "outputs": [
        {
          "output_type": "stream",
          "name": "stdout",
          "text": [
            "{'key': 'value', 'key1': 'value1', 'key2': 'value2', 'key3': 'value3'}\n",
            "value3\n"
          ]
        }
      ]
    },
    {
      "cell_type": "markdown",
      "source": [
        "### Popitem"
      ],
      "metadata": {
        "id": "Je8vOYE5gMmn"
      }
    },
    {
      "cell_type": "code",
      "source": [
        "# Dictionary has a \"popitem()\" method.\n",
        "# It'll delete and return the last added \"key, value\".\n",
        "my_dict.popitem()"
      ],
      "metadata": {
        "colab": {
          "base_uri": "https://localhost:8080/"
        },
        "id": "O-KIyGX-gICH",
        "outputId": "a970e248-9468-4403-936f-075bdd0e2595"
      },
      "execution_count": 40,
      "outputs": [
        {
          "output_type": "execute_result",
          "data": {
            "text/plain": [
              "('key3', 'value3')"
            ]
          },
          "metadata": {},
          "execution_count": 40
        }
      ]
    },
    {
      "cell_type": "code",
      "source": [
        "# It also has an optional argument that using which you can pass a key and it'll delete the expected value and return it.\n",
        "my_dict.pop(\"key\")\n",
        "print(my_dict)"
      ],
      "metadata": {
        "colab": {
          "base_uri": "https://localhost:8080/"
        },
        "id": "_ETonlT-gOPJ",
        "outputId": "263ee47d-430e-4dcb-dc40-eb90b8c39d93"
      },
      "execution_count": 41,
      "outputs": [
        {
          "output_type": "stream",
          "name": "stdout",
          "text": [
            "{'key1': 'value1', 'key2': 'value2'}\n"
          ]
        }
      ]
    },
    {
      "cell_type": "markdown",
      "source": [
        "---\n",
        "# Check point\n",
        "So as of now we saw 4 data collection types:\n",
        "- List is a collection which is ordered and changeable. Allows duplicate members.\n",
        "- Tuple is a collection which is ordered and unchangeable. Allows duplicate members.\n",
        "- Set is a collection which is unordered, unchangeable*, and unindexed. No duplicate members.\n",
        "- Dictionary is a collection which is ordered** and changeable. No duplicate members.\n",
        "\n",
        "*Set items are unchangeable, but you can remove items and add new items.\n",
        "\n",
        "**As of Python version 3.7, dictionaries are ordered. In Python 3.6 and earlier, dictionaries are unordered.\n",
        "\n",
        "---"
      ],
      "metadata": {
        "id": "YaxLAXL1gtFa"
      }
    },
    {
      "cell_type": "markdown",
      "source": [
        "# Comparison"
      ],
      "metadata": {
        "id": "J3llQ0l1h_pY"
      }
    },
    {
      "cell_type": "code",
      "source": [
        "# There are a few operators like '==', '!=', '>=', '<=' using which you can compare two objects.\n",
        "print(1 == 2)\n",
        "print(1 >= 2)\n",
        "print(1 <= 2)\n",
        "print(1 != 2)\n",
        "# You can also do chain operators\n",
        "print(1 < 2 < 3 < 10 > 5)\n",
        "# If one of them is false, the whole statement is false.\n",
        "print(1 < 2 < 3 > 10 > 5)"
      ],
      "metadata": {
        "colab": {
          "base_uri": "https://localhost:8080/"
        },
        "id": "eHAkHH4TgQao",
        "outputId": "16dcc0d5-955f-4696-8fb8-b20703824dd1"
      },
      "execution_count": 42,
      "outputs": [
        {
          "output_type": "stream",
          "name": "stdout",
          "text": [
            "False\n",
            "False\n",
            "True\n",
            "True\n",
            "True\n",
            "False\n"
          ]
        }
      ]
    },
    {
      "cell_type": "markdown",
      "source": [
        "There are few other keywords in python we can use for comparison\n",
        "As of English language when we want to say \"A is B\", in python we can simply use that in python as well, and for negation we can use keyword \"not\" just like in English"
      ],
      "metadata": {
        "id": "TQJrr2Vb6Ydc"
      }
    },
    {
      "cell_type": "code",
      "source": [
        "a = True\n",
        "b = True\n",
        "print(a is b)\n",
        "print(a is not b)"
      ],
      "metadata": {
        "colab": {
          "base_uri": "https://localhost:8080/"
        },
        "id": "yvkP1GZJ6Gmk",
        "outputId": "e810683a-2741-465e-e6be-16edbc445ce9"
      },
      "execution_count": 74,
      "outputs": [
        {
          "output_type": "stream",
          "name": "stdout",
          "text": [
            "True\n",
            "False\n"
          ]
        }
      ]
    },
    {
      "cell_type": "markdown",
      "source": [
        "# If-Else"
      ],
      "metadata": {
        "id": "R1f9GEFXiHvT"
      }
    },
    {
      "cell_type": "code",
      "source": [
        "# For 'if' we do this:\n",
        "if 1 == 2:\n",
        "    print('blah blah blah')\n",
        "else:\n",
        "    print('blah blah blah 2')\n",
        "\n",
        "# There is also nested if.\n",
        "if 1 == 2:\n",
        "    print('1 == 2')\n",
        "else:\n",
        "    if 2 == 2:\n",
        "        print('2 == 2')\n",
        "    else:\n",
        "        print('blah blah blah 3')\n",
        "\n",
        "# 'elif' is else then if!\n",
        "if 1 == 2:\n",
        "    print('1 == 2')\n",
        "elif 2 == 2:\n",
        "    print('2 == 2')\n",
        "else:\n",
        "    print('blah blah blah 3')"
      ],
      "metadata": {
        "colab": {
          "base_uri": "https://localhost:8080/"
        },
        "id": "IQqp4TW6iF6R",
        "outputId": "eb7c01e4-2a53-4736-b025-65e6c08dc922"
      },
      "execution_count": 43,
      "outputs": [
        {
          "output_type": "stream",
          "name": "stdout",
          "text": [
            "blah blah blah 2\n",
            "2 == 2\n",
            "2 == 2\n"
          ]
        }
      ]
    },
    {
      "cell_type": "markdown",
      "source": [
        "in python a code block is shown with identation.\n",
        "\n",
        "```python\n",
        "something:\n",
        "→ → statement\n",
        "→ → statement\n",
        "→ → statement\n",
        "```\n",
        "In that code snippet each → is equal with 2 spaces\n",
        "\n",
        "you can have it in any format but it is important that all of the statements have the samme identation.\n",
        "\n",
        "For example this code will give you error\n",
        "\n",
        "```python\n",
        "if 1==2:\n",
        "  print(\"Something\")\n",
        "    print(\"something else\")\n",
        "else:\n",
        "  print(\"another thing\")\n",
        "```\n",
        "\n",
        "But this code will work\n",
        "```python\n",
        "if 1==2:\n",
        "    print(\"Something\")\n",
        "    print(\"something else\")\n",
        "else:\n",
        "  print(\"another thing\")\n",
        "  print(\"Also another thing\")\n",
        "```\n",
        "even tho the identation from `if` section and `else` section is different with eachother but each section is a different code block.\n",
        "\n",
        "So identation is matters!"
      ],
      "metadata": {
        "id": "cX6tRsnvmxkF"
      }
    },
    {
      "cell_type": "markdown",
      "source": [
        "# Match-Case"
      ],
      "metadata": {
        "id": "lNd2xSxXiUkp"
      }
    },
    {
      "cell_type": "markdown",
      "source": [
        "in the c/c++ we use switch case\n",
        "The switch case statement in a C/C++ program would look something like this\n",
        "``` C++\n",
        "switch (variable to be evaluated):\n",
        "{\n",
        "     case value1 : //statement 1\n",
        "                   break;\n",
        "\n",
        "     case value2 : //statement 2\n",
        "                   break;\n",
        "\n",
        "     case value_n : //statement n\n",
        "                    break;\n",
        "\n",
        "     default:  //default statement\n",
        "}\n",
        "```\n",
        "In Python 3.10 (2021) introduced the match-case statement\n",
        "Which provides a first-class implementation of a \"switch\" for Python\n",
        "The syntax looks something like this\n",
        "``` python\n",
        "match variable_name:\n",
        "            case ‘pattern1’ : //statement1\n",
        "            case ‘pattern2’ : //statement2\n",
        "            …            \n",
        "            case ‘pattern n’ : //statement n\n",
        "```"
      ],
      "metadata": {
        "id": "E4gdP8caigbs"
      }
    },
    {
      "cell_type": "code",
      "source": [
        "var = 2\n",
        "\n",
        "match var:\n",
        "    case 1: print(\"One\")\n",
        "    case 2:\n",
        "        print(\"another statement\")\n",
        "        print(\"Two\")\n",
        "    case 3:\n",
        "        print(\"Three\")\n",
        "    case _:\n",
        "        print(\"Default\")"
      ],
      "metadata": {
        "colab": {
          "base_uri": "https://localhost:8080/"
        },
        "id": "a5Y1F8RxkSUM",
        "outputId": "9cd5874c-57c0-465c-a68b-4f71059f6669"
      },
      "execution_count": 44,
      "outputs": [
        {
          "output_type": "stream",
          "name": "stdout",
          "text": [
            "another statement\n",
            "Two\n"
          ]
        }
      ]
    },
    {
      "cell_type": "markdown",
      "source": [
        "If there is ony one statement you can write it right in front of the case, but if you have multiple statements for each case you need a code block and you have to go next line and make the necessary identation."
      ],
      "metadata": {
        "id": "WfYjLJTinisX"
      }
    },
    {
      "cell_type": "markdown",
      "source": [
        "# Loops"
      ],
      "metadata": {
        "id": "ZXcHuIZ0n79B"
      }
    },
    {
      "cell_type": "markdown",
      "source": [
        "## While"
      ],
      "metadata": {
        "id": "Lf80_SWIqG9J"
      }
    },
    {
      "cell_type": "markdown",
      "source": [
        "```python\n",
        "while condition:\n",
        "    statement1\n",
        "    statement2\n",
        "    statement3\n",
        "    ...\n",
        "```"
      ],
      "metadata": {
        "id": "n7rzAch2oEIH"
      }
    },
    {
      "cell_type": "code",
      "source": [
        "# Example:\n",
        "i = 0\n",
        "while i < 10:\n",
        "    print('I is: ', i)\n",
        "    i += 1"
      ],
      "metadata": {
        "colab": {
          "base_uri": "https://localhost:8080/"
        },
        "id": "TcTN6KQ-nh5Y",
        "outputId": "44084c28-be67-42a3-b8ce-6594c3329f3d"
      },
      "execution_count": 45,
      "outputs": [
        {
          "output_type": "stream",
          "name": "stdout",
          "text": [
            "I is:  0\n",
            "I is:  1\n",
            "I is:  2\n",
            "I is:  3\n",
            "I is:  4\n",
            "I is:  5\n",
            "I is:  6\n",
            "I is:  7\n",
            "I is:  8\n",
            "I is:  9\n"
          ]
        }
      ]
    },
    {
      "cell_type": "markdown",
      "source": [
        "### Break"
      ],
      "metadata": {
        "id": "LBfJgiM5oYzS"
      }
    },
    {
      "cell_type": "code",
      "source": [
        "i = 0\n",
        "while True:\n",
        "    i += 1\n",
        "    if i > 15:\n",
        "        break\n",
        "    print('I is: ', i)\n",
        "# 'break' will stop the while and moves on to the rest of the code"
      ],
      "metadata": {
        "colab": {
          "base_uri": "https://localhost:8080/"
        },
        "id": "LAAs42vIoUdu",
        "outputId": "cd669a3a-a024-4718-e103-837f5bb9d987"
      },
      "execution_count": 46,
      "outputs": [
        {
          "output_type": "stream",
          "name": "stdout",
          "text": [
            "I is:  1\n",
            "I is:  2\n",
            "I is:  3\n",
            "I is:  4\n",
            "I is:  5\n",
            "I is:  6\n",
            "I is:  7\n",
            "I is:  8\n",
            "I is:  9\n",
            "I is:  10\n",
            "I is:  11\n",
            "I is:  12\n",
            "I is:  13\n",
            "I is:  14\n",
            "I is:  15\n"
          ]
        }
      ]
    },
    {
      "cell_type": "markdown",
      "source": [
        "### Continue"
      ],
      "metadata": {
        "id": "hWiTU0D6o1VN"
      }
    },
    {
      "cell_type": "code",
      "source": [
        "i = 0\n",
        "while i < 15:\n",
        "    i += 1\n",
        "    if i % 2 == 0:\n",
        "        continue\n",
        "    print('I is: ', i)\n",
        "# 'continue' will ignore the rest of the while and goes for the next iteration"
      ],
      "metadata": {
        "colab": {
          "base_uri": "https://localhost:8080/"
        },
        "id": "1aWAJz0hoa9R",
        "outputId": "07e8660a-98ef-4ed6-dd19-636bae56ead1"
      },
      "execution_count": 47,
      "outputs": [
        {
          "output_type": "stream",
          "name": "stdout",
          "text": [
            "I is:  1\n",
            "I is:  3\n",
            "I is:  5\n",
            "I is:  7\n",
            "I is:  9\n",
            "I is:  11\n",
            "I is:  13\n",
            "I is:  15\n"
          ]
        }
      ]
    },
    {
      "cell_type": "markdown",
      "source": [
        "### Range"
      ],
      "metadata": {
        "id": "EzFUF8DTrAqR"
      }
    },
    {
      "cell_type": "markdown",
      "source": [
        "The range() function returns a sequence of numbers, starting from 0 by default, and increments by 1 (by default), and stops before a specified number"
      ],
      "metadata": {
        "id": "TWWuEe4jrWrV"
      }
    },
    {
      "cell_type": "code",
      "source": [
        "range(10)"
      ],
      "metadata": {
        "colab": {
          "base_uri": "https://localhost:8080/"
        },
        "id": "_qbrxmcZq-JJ",
        "outputId": "a3f32f44-84b6-4bba-e6c6-d839444a282e"
      },
      "execution_count": 48,
      "outputs": [
        {
          "output_type": "execute_result",
          "data": {
            "text/plain": [
              "range(0, 10)"
            ]
          },
          "metadata": {},
          "execution_count": 48
        }
      ]
    },
    {
      "cell_type": "code",
      "source": [
        "print(list(range(10)))"
      ],
      "metadata": {
        "colab": {
          "base_uri": "https://localhost:8080/"
        },
        "id": "sTroBPpsr0Bq",
        "outputId": "41cd3fd3-5045-4f32-fd3b-4640b7414771"
      },
      "execution_count": 49,
      "outputs": [
        {
          "output_type": "stream",
          "name": "stdout",
          "text": [
            "[0, 1, 2, 3, 4, 5, 6, 7, 8, 9]\n"
          ]
        }
      ]
    },
    {
      "cell_type": "code",
      "source": [
        "# range(start, stop, step)\n",
        "print(list(range(1, 10, 2)))"
      ],
      "metadata": {
        "colab": {
          "base_uri": "https://localhost:8080/"
        },
        "id": "Uf3C1HeOr3_c",
        "outputId": "193a5c5c-b2f1-402b-a22b-e845c65a6ddf"
      },
      "execution_count": 50,
      "outputs": [
        {
          "output_type": "stream",
          "name": "stdout",
          "text": [
            "[1, 3, 5, 7, 9]\n"
          ]
        }
      ]
    },
    {
      "cell_type": "markdown",
      "source": [
        "## For"
      ],
      "metadata": {
        "id": "Vb6SyHi_qAn-"
      }
    },
    {
      "cell_type": "markdown",
      "source": [
        "`for` In python is like `for each` in java\n",
        "\n",
        "In java we have:\n",
        "```java\n",
        "for (int i : int[]) {\n",
        "\n",
        "}\n",
        "```\n",
        "In python the foramt is like:\n",
        "```python\n",
        "for variable in itterable:\n",
        "  statement\n",
        "  statement\n",
        "  statement\n",
        "```"
      ],
      "metadata": {
        "id": "ZGUymYrdqKLX"
      }
    },
    {
      "cell_type": "code",
      "source": [
        "my_list = [1, 2, 3, 4]\n",
        "for item in my_list:\n",
        "    print('item is: ', item)"
      ],
      "metadata": {
        "colab": {
          "base_uri": "https://localhost:8080/"
        },
        "id": "kn783tWjp1Pl",
        "outputId": "474a1c64-0419-425e-8acc-039462b7720c"
      },
      "execution_count": 51,
      "outputs": [
        {
          "output_type": "stream",
          "name": "stdout",
          "text": [
            "item is:  1\n",
            "item is:  2\n",
            "item is:  3\n",
            "item is:  4\n"
          ]
        }
      ]
    },
    {
      "cell_type": "code",
      "source": [
        "for i in \"String\":\n",
        "    print(i)"
      ],
      "metadata": {
        "colab": {
          "base_uri": "https://localhost:8080/"
        },
        "id": "PjeRvxUAqrQF",
        "outputId": "05bef835-8edd-4854-e6a1-ed3fdfa9190c"
      },
      "execution_count": 52,
      "outputs": [
        {
          "output_type": "stream",
          "name": "stdout",
          "text": [
            "S\n",
            "t\n",
            "r\n",
            "i\n",
            "n\n",
            "g\n"
          ]
        }
      ]
    },
    {
      "cell_type": "code",
      "source": [
        "for i in range(10):\n",
        "    print(i)"
      ],
      "metadata": {
        "colab": {
          "base_uri": "https://localhost:8080/"
        },
        "id": "a9yiqxT5sHzL",
        "outputId": "69fc04bc-7346-4c36-b003-f07ef45e526d"
      },
      "execution_count": 53,
      "outputs": [
        {
          "output_type": "stream",
          "name": "stdout",
          "text": [
            "0\n",
            "1\n",
            "2\n",
            "3\n",
            "4\n",
            "5\n",
            "6\n",
            "7\n",
            "8\n",
            "9\n"
          ]
        }
      ]
    },
    {
      "cell_type": "markdown",
      "source": [
        "# Exercise\n",
        "\n",
        "Using loops print the following:\n",
        "```\n",
        "     *\n",
        "    ***\n",
        "  *******\n",
        " *********\n",
        "    ||\n",
        "```"
      ],
      "metadata": {
        "id": "YQWT6R3csNhB"
      }
    },
    {
      "cell_type": "code",
      "source": [
        "for i in range(1, 6):\n",
        "  print(\" \"*(6-i)+ '*' * (2*i - 1))\n",
        "print(\" \"*4 + \"||\")\n",
        "print(\"Happy Christmass\")"
      ],
      "metadata": {
        "colab": {
          "base_uri": "https://localhost:8080/"
        },
        "id": "MhX16p51sJdM",
        "outputId": "9558ffe5-f86b-47b6-cc69-a8ac05d87056"
      },
      "execution_count": 54,
      "outputs": [
        {
          "output_type": "stream",
          "name": "stdout",
          "text": [
            "     *\n",
            "    ***\n",
            "   *****\n",
            "  *******\n",
            " *********\n",
            "    ||\n",
            "Happy Christmass\n"
          ]
        }
      ]
    },
    {
      "cell_type": "markdown",
      "source": [
        "## For - continue"
      ],
      "metadata": {
        "id": "w-5UImj1smYM"
      }
    },
    {
      "cell_type": "code",
      "source": [
        "# You can put any iterable object after 'in' when using 'for':\n",
        "\n",
        "my_dict = {\n",
        "    'item 1': 'value 1',\n",
        "    'item 2': 'value 2',\n",
        "    'item 3': 'value 3',\n",
        "    'item 4': 'value 4'\n",
        "}\n",
        "for item in my_dict:\n",
        "    print(my_dict[item])"
      ],
      "metadata": {
        "colab": {
          "base_uri": "https://localhost:8080/"
        },
        "id": "crO5aRQXsiKh",
        "outputId": "06555e44-bb53-4c91-e375-058b625489f9"
      },
      "execution_count": 55,
      "outputs": [
        {
          "output_type": "stream",
          "name": "stdout",
          "text": [
            "value 1\n",
            "value 2\n",
            "value 3\n",
            "value 4\n"
          ]
        }
      ]
    },
    {
      "cell_type": "code",
      "source": [
        "my_dict = {\n",
        "    'x': [10,20,30,40],\n",
        "    'y': [1,2,3,4]\n",
        "}\n",
        "\n",
        "for i in my_dict:\n",
        "    training_data = my_dict[i]\n",
        "    for j in training_data:\n",
        "        print(j)"
      ],
      "metadata": {
        "colab": {
          "base_uri": "https://localhost:8080/"
        },
        "id": "WP9KL2I7svqB",
        "outputId": "9dc50c02-bf42-45ba-d063-4a0c6c918802"
      },
      "execution_count": 56,
      "outputs": [
        {
          "output_type": "stream",
          "name": "stdout",
          "text": [
            "10\n",
            "20\n",
            "30\n",
            "40\n",
            "1\n",
            "2\n",
            "3\n",
            "4\n"
          ]
        }
      ]
    },
    {
      "cell_type": "code",
      "source": [
        "my_list =  [3,2,1,4,5]\n",
        "for i in range(len(my_list)-2):\n",
        "    print(my_list[i:i+2])"
      ],
      "metadata": {
        "colab": {
          "base_uri": "https://localhost:8080/"
        },
        "id": "DwgD6cassyc3",
        "outputId": "dd22ae81-c509-4dfe-a03c-d863f61d263a"
      },
      "execution_count": 57,
      "outputs": [
        {
          "output_type": "stream",
          "name": "stdout",
          "text": [
            "[3, 2]\n",
            "[2, 1]\n",
            "[1, 4]\n"
          ]
        }
      ]
    },
    {
      "cell_type": "markdown",
      "source": [
        "# Functions"
      ],
      "metadata": {
        "id": "0JR6i6M3s795"
      }
    },
    {
      "cell_type": "markdown",
      "source": [
        "```python\n",
        "def <function name>(<arguments>):\n",
        "    statement\n",
        "    statement\n",
        "    statement\n",
        "```\n",
        "\n",
        "In python we don't define if the function will return something or not."
      ],
      "metadata": {
        "id": "2fuQ3wP6tAqH"
      }
    },
    {
      "cell_type": "code",
      "source": [
        "def my_func():\n",
        "    print('Hi')\n",
        "\n",
        "my_func()"
      ],
      "metadata": {
        "colab": {
          "base_uri": "https://localhost:8080/"
        },
        "id": "Fp7e65Avs119",
        "outputId": "140bbe7b-7f6d-42f1-c3fa-5c9e84aef68b"
      },
      "execution_count": 58,
      "outputs": [
        {
          "output_type": "stream",
          "name": "stdout",
          "text": [
            "Hi\n"
          ]
        }
      ]
    },
    {
      "cell_type": "markdown",
      "source": [
        "## arguments"
      ],
      "metadata": {
        "id": "Jr3TLCBytbJ5"
      }
    },
    {
      "cell_type": "code",
      "source": [
        "def my_func2(name, family, age):\n",
        "    print('Hi! my name is ' + name + ' ' + family + \". and I'm \" + age)\n",
        "\n",
        "my_func2('Ali', 'Daghighi', '27')"
      ],
      "metadata": {
        "colab": {
          "base_uri": "https://localhost:8080/"
        },
        "id": "re3arf09tWx3",
        "outputId": "912e4864-5681-451e-d003-447435fdf5aa"
      },
      "execution_count": 59,
      "outputs": [
        {
          "output_type": "stream",
          "name": "stdout",
          "text": [
            "Hi! my name is Ali Daghighi. and I'm 27\n"
          ]
        }
      ]
    },
    {
      "cell_type": "markdown",
      "source": [
        "### Default value"
      ],
      "metadata": {
        "id": "J0v4Bmj1tmVS"
      }
    },
    {
      "cell_type": "code",
      "source": [
        "def my_func3(name='Ali', family='Daghighi', age='27'):\n",
        "    print('Hi! my name is ' + name + ' ' + family + \". and I'm \" + age)\n",
        "\n",
        "my_func3()"
      ],
      "metadata": {
        "colab": {
          "base_uri": "https://localhost:8080/"
        },
        "id": "qRwfjwOftkJg",
        "outputId": "446e13c5-b898-4d98-a4a7-1a3ced48528c"
      },
      "execution_count": 60,
      "outputs": [
        {
          "output_type": "stream",
          "name": "stdout",
          "text": [
            "Hi! my name is Ali Daghighi. and I'm 27\n"
          ]
        }
      ]
    },
    {
      "cell_type": "markdown",
      "source": [
        "## Multiple args"
      ],
      "metadata": {
        "id": "ZJgXCJI7t6Wm"
      }
    },
    {
      "cell_type": "code",
      "source": [
        "def my_func4(name='Ali', *other_stuff):\n",
        "    print(\"Hi my name is \" + name + \" and some other stuff xD\")\n",
        "    for var in other_stuff:\n",
        "        print(var)\n",
        "\n",
        "my_func4('Ali', 'Some', 'Random', 'Other', 'Stuff')"
      ],
      "metadata": {
        "colab": {
          "base_uri": "https://localhost:8080/"
        },
        "id": "VzOJpXndtq5C",
        "outputId": "904f6961-8482-402d-d238-77c3d39fa6d9"
      },
      "execution_count": 61,
      "outputs": [
        {
          "output_type": "stream",
          "name": "stdout",
          "text": [
            "Hi my name is Ali and some other stuff xD\n",
            "Some\n",
            "Random\n",
            "Other\n",
            "Stuff\n"
          ]
        }
      ]
    },
    {
      "cell_type": "markdown",
      "source": [
        "## return"
      ],
      "metadata": {
        "id": "h8J0d_iGuBTh"
      }
    },
    {
      "cell_type": "code",
      "source": [
        "def my_func5(*args):\n",
        "    resault = 0\n",
        "    for arg in args:\n",
        "        resault += arg\n",
        "    return resault\n",
        "\n",
        "print(my_func5(1 ,2, 3, 4))"
      ],
      "metadata": {
        "colab": {
          "base_uri": "https://localhost:8080/"
        },
        "id": "ln0i1gSXt_QL",
        "outputId": "7251b7c0-bd26-4926-adbd-836ae4c9afa0"
      },
      "execution_count": 62,
      "outputs": [
        {
          "output_type": "stream",
          "name": "stdout",
          "text": [
            "10\n"
          ]
        }
      ]
    },
    {
      "cell_type": "markdown",
      "source": [
        "## return multiple"
      ],
      "metadata": {
        "id": "jukc_gSTuK09"
      }
    },
    {
      "cell_type": "code",
      "source": [
        "def my_function(a=\"\", b=\"\", c=\"\"):\n",
        "    return \"Hi \" + a + b + c, b + c\n",
        "\n",
        "output = my_function(\"asdasdasd\", b='This is b ', c='This is c ')\n",
        "\n",
        "print(output)\n",
        "print(len(output))\n",
        "print(output[1])\n"
      ],
      "metadata": {
        "colab": {
          "base_uri": "https://localhost:8080/"
        },
        "id": "kcJX8QPJuGIP",
        "outputId": "b4b98da3-fedd-47ee-80f0-52610e210742"
      },
      "execution_count": 63,
      "outputs": [
        {
          "output_type": "stream",
          "name": "stdout",
          "text": [
            "('Hi asdasdasdThis is b This is c ', 'This is b This is c ')\n",
            "2\n",
            "This is b This is c \n"
          ]
        }
      ]
    },
    {
      "cell_type": "markdown",
      "source": [
        "## Unpacking"
      ],
      "metadata": {
        "id": "0RAbNHw6undr"
      }
    },
    {
      "cell_type": "code",
      "source": [
        "mylist = [1,2]\n",
        "first , second = mylist\n",
        "print(first, second)"
      ],
      "metadata": {
        "colab": {
          "base_uri": "https://localhost:8080/"
        },
        "id": "mP2AqP0luPTL",
        "outputId": "893d12b5-4d00-45cc-b973-27900d02e2c4"
      },
      "execution_count": 64,
      "outputs": [
        {
          "output_type": "stream",
          "name": "stdout",
          "text": [
            "1 2\n"
          ]
        }
      ]
    },
    {
      "cell_type": "markdown",
      "source": [
        "The line `first, second = mylist` unpacks the elements of the list into the variables `first` and `second`\n",
        "\n",
        "This approach works with any iterable (like lists, tuples, sets, etc.) as long as the number of variables on the left matches the number of elements in the iterable. If the numbers don't match, Python will give error"
      ],
      "metadata": {
        "id": "NoVqJjI9vBYz"
      }
    },
    {
      "cell_type": "markdown",
      "source": [
        "# Scope of variables"
      ],
      "metadata": {
        "id": "LxD0W5CMvhII"
      }
    },
    {
      "cell_type": "markdown",
      "source": [
        "All variables in a program may not be accessible at all locations in that program.\n",
        "\n",
        "What does it mean?\n",
        "\n",
        "That means \"where have you declared a variable?\"\n",
        "\n",
        "let me elaborate:\n",
        "\n",
        "In python we have \"Global variables\" and \"Local variables\""
      ],
      "metadata": {
        "id": "Wh6-QVyQvlbb"
      }
    },
    {
      "cell_type": "code",
      "source": [
        "total = 0; # This is a global variable.\n",
        "# Now we have this function:\n",
        "def my_sum( arg1, arg2 ):\n",
        "    # Add both parameters and return them.\"\n",
        "    total = arg1 + arg2; # the total is a local variable.\n",
        "    print(\"Inside the function local total : \", total)\n",
        "    return total;\n",
        "\n",
        "# Now you can call the \"sum\" function\n",
        "my_sum( 10, 20 );\n",
        "print(\"Outside the function global total : \", total)"
      ],
      "metadata": {
        "colab": {
          "base_uri": "https://localhost:8080/"
        },
        "id": "HmHLFoB8vEsU",
        "outputId": "e83a6e26-bab9-4905-d96e-e5fb700ceefe"
      },
      "execution_count": 65,
      "outputs": [
        {
          "output_type": "stream",
          "name": "stdout",
          "text": [
            "Inside the function local total :  30\n",
            "Outside the function global total :  0\n"
          ]
        }
      ]
    },
    {
      "cell_type": "code",
      "source": [
        "# What if we needed access to the global variable?\n",
        "\n",
        "# Check this example:\n",
        "\n",
        "name = \"Bianca Peterson\"\n",
        "print(\"Before:\\t\", name)\n",
        "def setName():\n",
        "    global name\n",
        "    name = \"Bianca Lucinda Peterson\"\n",
        "\n",
        "setName()\n",
        "print(\"After:\\t\", name)\n",
        "\n",
        "# Using the keyword \"global\" you can access the outer scope"
      ],
      "metadata": {
        "colab": {
          "base_uri": "https://localhost:8080/"
        },
        "id": "rBMBDTmTvx_p",
        "outputId": "1036834e-cccd-4fb5-e7c5-2fc0a534260f"
      },
      "execution_count": 66,
      "outputs": [
        {
          "output_type": "stream",
          "name": "stdout",
          "text": [
            "Before:\t Bianca Peterson\n",
            "After:\t Bianca Lucinda Peterson\n"
          ]
        }
      ]
    },
    {
      "cell_type": "markdown",
      "source": [
        "# Advent of Code 2024 Question 1 Part 1\n"
      ],
      "metadata": {
        "id": "WZ566Qmbv92X"
      }
    },
    {
      "cell_type": "markdown",
      "source": [
        "## Long Version\n",
        "\n",
        "The Chief Historian is always present for the big Christmas sleigh launch, but nobody has seen him in months! Last anyone heard, he was visiting locations that are historically significant to the North Pole; a group of Senior Historians has asked you to accompany them as they check the places they think he was most likely to visit.\n",
        "\n",
        "As each location is checked, they will mark it on their list with a star. They figure the Chief Historian must be in one of the first fifty places they'll look, so in order to save Christmas, you need to help them get fifty stars on their list before Santa takes off on December 25th.\n",
        "\n",
        "Collect stars by solving puzzles. Two puzzles will be made available on each day in the Advent calendar; the second puzzle is unlocked when you complete the first. Each puzzle grants one star. Good luck!\n",
        "\n",
        "You haven't even left yet and the group of Elvish Senior Historians has already hit a problem: their list of locations to check is currently empty. Eventually, someone decides that the best place to check first would be the Chief Historian's office.\n",
        "\n",
        "Upon pouring into the office, everyone confirms that the Chief Historian is indeed nowhere to be found. Instead, the Elves discover an assortment of notes and lists of historically significant locations! This seems to be the planning the Chief Historian was doing before he left. Perhaps these notes can be used to determine which locations to search?\n",
        "\n",
        "Throughout the Chief's office, the historically significant locations are listed not by name but by a unique number called the location ID. To make sure they don't miss anything, The Historians split into two groups, each searching the office and trying to create their own complete list of location IDs.\n",
        "\n",
        "There's just one problem: by holding the two lists up side by side (your puzzle input), it quickly becomes clear that the lists aren't very similar. Maybe you can help The Historians reconcile their lists?\n",
        "\n",
        "For example:\n",
        "```\n",
        "3   4\n",
        "4   3\n",
        "2   5\n",
        "1   3\n",
        "3   9\n",
        "3   3\n",
        "```\n",
        "Maybe the lists are only off by a small amount! To find out, pair up the numbers and measure how far apart they are. Pair up the smallest number in the left list with the smallest number in the right list, then the second-smallest left number with the second-smallest right number, and so on.\n",
        "\n",
        "Within each pair, figure out how far apart the two numbers are; you'll need to add up all of those distances. For example, if you pair up a 3 from the left list with a 7 from the right list, the distance apart is 4; if you pair up a 9 with a 3, the distance apart is 6.\n",
        "\n",
        "In the example list above, the pairs and distances would be as follows:\n",
        "\n",
        "In the example list above, the pairs and distances would be as follows:\n",
        "\n",
        "- The smallest number in the left list is 1, and the smallest number in the right list is 3. The distance between them is 2.\n",
        "- The second-smallest number in the left list is 2, and the second-smallest number in the right list is another 3. The distance between them is 1.\n",
        "- The third-smallest number in both lists is 3, so the distance between them is 0.\n",
        "- The next numbers to pair up are 3 and 4, a distance of 1.\n",
        "- The fifth-smallest numbers in each list are 3 and 5, a distance of 2.\n",
        "- Finally, the largest number in the left list is 4, while the largest number in the right list is 9; these are a distance 5 apart.\n",
        "\n",
        "To find the total distance between the left list and the right list, add up the distances between all of the pairs you found. In the example above, this is 2 + 1 + 0 + 1 + 2 + 5, a total distance of 11!\n",
        "\n",
        "Your actual left and right lists contain many location IDs. What is the total distance between your lists?"
      ],
      "metadata": {
        "id": "VFMEMLREwKZj"
      }
    },
    {
      "cell_type": "markdown",
      "source": [
        "## TL;DR version\n",
        "\n",
        "Find the total distance between the two lists by pairing the numbers in sorted order and summing their differences.\n",
        "\n",
        "For example:\n",
        "```\n",
        "3   4\n",
        "4   3\n",
        "2   5\n",
        "1   3\n",
        "3   9\n",
        "3   3\n",
        "```\n",
        "In the example list above, the pairs and distances would be as follows:\n",
        "\n",
        "- The smallest number in the left list is 1, and the smallest number in the right list is 3. The distance between them is 2.\n",
        "- The second-smallest number in the left list is 2, and the second-smallest number in the right list is another 3. The distance between them is 1.\n",
        "- The third-smallest number in both lists is 3, so the distance between them is 0.\n",
        "- The next numbers to pair up are 3 and 4, a distance of 1.\n",
        "- The fifth-smallest numbers in each list are 3 and 5, a distance of 2.\n",
        "- Finally, the largest number in the left list is 4, while the largest number in the right list is 9; these are a distance 5 apart.\n",
        "\n",
        "To find the total distance between the left list and the right list, add up the distances between all of the pairs you found. In the example above, this is 2 + 1 + 0 + 1 + 2 + 5, a total distance of 11!\n",
        "\n",
        "Your actual left and right lists contain many location IDs. What is the total distance between your lists?"
      ],
      "metadata": {
        "id": "24-P60-Awl4B"
      }
    },
    {
      "cell_type": "code",
      "source": [
        "lines = \"\"\"3   4\n",
        "4   3\n",
        "2   5\n",
        "1   3\n",
        "3   9\n",
        "3   3\"\"\".split('\\n')"
      ],
      "metadata": {
        "id": "j--5orH1x9PU"
      },
      "execution_count": 67,
      "outputs": []
    },
    {
      "cell_type": "code",
      "source": [
        "print(lines)"
      ],
      "metadata": {
        "colab": {
          "base_uri": "https://localhost:8080/"
        },
        "id": "xkbjTsflyGUD",
        "outputId": "a425fcaf-ef7c-4f30-bbbd-aaef0904df9c"
      },
      "execution_count": 68,
      "outputs": [
        {
          "output_type": "stream",
          "name": "stdout",
          "text": [
            "['3   4', '4   3', '2   5', '1   3', '3   9', '3   3']\n"
          ]
        }
      ]
    },
    {
      "cell_type": "code",
      "source": [
        "def fix_line(line):\n",
        "  return line.split()"
      ],
      "metadata": {
        "id": "0BIII78hv3Ue"
      },
      "execution_count": 69,
      "outputs": []
    },
    {
      "cell_type": "code",
      "source": [
        "L1 = []\n",
        "L2 = []\n",
        "L3 = []\n",
        "for line in lines:\n",
        "  line = fix_line(line)\n",
        "  L1.append(int(line[0]))\n",
        "  L2.append(int(line[1]))"
      ],
      "metadata": {
        "id": "FCsieWGyxlrP"
      },
      "execution_count": 70,
      "outputs": []
    },
    {
      "cell_type": "code",
      "source": [
        "L1.sort()\n",
        "L2.sort()"
      ],
      "metadata": {
        "id": "dYpdAFKZxsh0"
      },
      "execution_count": 71,
      "outputs": []
    },
    {
      "cell_type": "code",
      "source": [
        "for index in range(len(L1)):\n",
        "  a = L1[index]\n",
        "  b = L2[index]\n",
        "  L3.append(abs(a - b))"
      ],
      "metadata": {
        "id": "1WHzmB4wxvnJ"
      },
      "execution_count": 72,
      "outputs": []
    },
    {
      "cell_type": "code",
      "source": [
        "print(sum(L3))"
      ],
      "metadata": {
        "colab": {
          "base_uri": "https://localhost:8080/"
        },
        "id": "N--FaQmHxxfT",
        "outputId": "e94742a5-2931-40f0-a1d8-397f829822aa"
      },
      "execution_count": 73,
      "outputs": [
        {
          "output_type": "stream",
          "name": "stdout",
          "text": [
            "11\n"
          ]
        }
      ]
    },
    {
      "cell_type": "markdown",
      "source": [
        "---\n",
        "\n",
        "# END OF SESSION 1"
      ],
      "metadata": {
        "id": "g64vX_5-zSnD"
      }
    }
  ]
}