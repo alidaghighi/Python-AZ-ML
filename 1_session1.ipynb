{
  "nbformat": 4,
  "nbformat_minor": 0,
  "metadata": {
    "colab": {
      "provenance": [],
      "collapsed_sections": [
        "GZuIGkBFG-kf",
        "Ljjxxz3fIAS_",
        "AGIgipAeIvuc",
        "BQSX1lNmK9wn",
        "GpRamhoCNR3s",
        "Zj82t09qcyLx",
        "Nd_BTcGhbOfy",
        "HOsHcuU3bTZK",
        "FvTI0f-xbWR_",
        "JftOQ0wEbYEw",
        "3iAPRs-qba5L",
        "WMxCJXnNbd6i",
        "u75tMO14bhO7",
        "XHPhW8qQZ5mt",
        "xQEbMdV3b9hu",
        "qPP5HRXncRKx",
        "wPpwOipYdNiE",
        "7ZY9Ar1Gc-ci",
        "7Xp5XJ_5e3y3",
        "cSBQQCOpfulu"
      ]
    },
    "kernelspec": {
      "name": "python3",
      "display_name": "Python 3"
    },
    "language_info": {
      "name": "python"
    }
  },
  "cells": [
    {
      "cell_type": "markdown",
      "source": [
        "# First program"
      ],
      "metadata": {
        "id": "GZuIGkBFG-kf"
      }
    },
    {
      "cell_type": "code",
      "execution_count": 1,
      "metadata": {
        "colab": {
          "base_uri": "https://localhost:8080/"
        },
        "id": "agwbk8vKGuJo",
        "outputId": "800c336f-f965-48be-ecb4-47d782a7d63d"
      },
      "outputs": [
        {
          "output_type": "stream",
          "name": "stdout",
          "text": [
            "Hello World!\n"
          ]
        }
      ],
      "source": [
        "# First program in python!\n",
        "print(\"Hello World!\")"
      ]
    },
    {
      "cell_type": "markdown",
      "source": [
        "# Variables"
      ],
      "metadata": {
        "id": "Ljjxxz3fIAS_"
      }
    },
    {
      "cell_type": "code",
      "source": [
        "# There is no such thing as \"data type\".\n",
        "my_variable = 12 # int\n",
        "my_variable = 12.0 # float or double\n",
        "my_variable = True # boolean\n",
        "my_variable = \"This is a 'string' \"  # string\n",
        "my_variable = 'This is also a \"string\" '\n",
        "# '' and \"\" are pretty much the same thing"
      ],
      "metadata": {
        "id": "xFfCzb8YH515"
      },
      "execution_count": 2,
      "outputs": []
    },
    {
      "cell_type": "code",
      "source": [
        "print(\"\"\"\n",
        "    This is a string\n",
        "    So\n",
        "    I can\n",
        "    Print it!\n",
        "    :)\n",
        "\"\"\")"
      ],
      "metadata": {
        "colab": {
          "base_uri": "https://localhost:8080/"
        },
        "id": "8nCQvXfXIg-v",
        "outputId": "59a31e2a-fe71-4b05-b0fd-678184fd85a5"
      },
      "execution_count": 3,
      "outputs": [
        {
          "output_type": "stream",
          "name": "stdout",
          "text": [
            "\n",
            "    This is a string\n",
            "    So\n",
            "    I can\n",
            "    Print it!\n",
            "    :)\n",
            "\n"
          ]
        }
      ]
    },
    {
      "cell_type": "markdown",
      "source": [
        "# Arithmetic"
      ],
      "metadata": {
        "id": "AGIgipAeIvuc"
      }
    },
    {
      "cell_type": "code",
      "source": [
        "# Normal arithmetic operators like '+', '-', '*', '/' are similar to other programing languages\n",
        "print('1 + 2 = ', 1 + 2)\n",
        "print('2 * 4.5 = ', 2 * 4.5)\n",
        "print('10 - 2.5 = ', 10 - 2.5)\n",
        "print('1 / 2 = ', 1/2) # '/' operator returns float numbers.\n",
        "print('5 // 2 = ', 5//2) # '//' operator returns just the integer part of the number.\n",
        "print('2 ** 3 = ', 2**3) # You can also use '**' operator as power"
      ],
      "metadata": {
        "colab": {
          "base_uri": "https://localhost:8080/"
        },
        "id": "cVoYnhXpIvOV",
        "outputId": "40f20e5e-ee24-4221-8ecf-53f517c44eef"
      },
      "execution_count": 4,
      "outputs": [
        {
          "output_type": "stream",
          "name": "stdout",
          "text": [
            "1 + 2 =  3\n",
            "2 * 4.5 =  9.0\n",
            "10 - 2.5 =  7.5\n",
            "1 / 2 =  0.5\n",
            "5 // 2 =  2\n",
            "2 ** 3 =  8\n"
          ]
        }
      ]
    },
    {
      "cell_type": "code",
      "source": [
        "# Division by Zero (int/0)\n",
        "print(1/0)"
      ],
      "metadata": {
        "colab": {
          "base_uri": "https://localhost:8080/",
          "height": 159
        },
        "id": "s0OirESbJSZB",
        "outputId": "1402eae2-7d00-4a8b-9cf2-da588b0b8b55"
      },
      "execution_count": 5,
      "outputs": [
        {
          "output_type": "error",
          "ename": "ZeroDivisionError",
          "evalue": "division by zero",
          "traceback": [
            "\u001b[0;31m---------------------------------------------------------------------------\u001b[0m",
            "\u001b[0;31mZeroDivisionError\u001b[0m                         Traceback (most recent call last)",
            "\u001b[0;32m<ipython-input-5-3b8655569a12>\u001b[0m in \u001b[0;36m<cell line: 2>\u001b[0;34m()\u001b[0m\n\u001b[1;32m      1\u001b[0m \u001b[0;31m# Division by Zero (int/0)\u001b[0m\u001b[0;34m\u001b[0m\u001b[0;34m\u001b[0m\u001b[0m\n\u001b[0;32m----> 2\u001b[0;31m \u001b[0mprint\u001b[0m\u001b[0;34m(\u001b[0m\u001b[0;36m1\u001b[0m\u001b[0;34m/\u001b[0m\u001b[0;36m0\u001b[0m\u001b[0;34m)\u001b[0m\u001b[0;34m\u001b[0m\u001b[0;34m\u001b[0m\u001b[0m\n\u001b[0m",
            "\u001b[0;31mZeroDivisionError\u001b[0m: division by zero"
          ]
        }
      ]
    },
    {
      "cell_type": "markdown",
      "source": [
        "In Java when `System.out.println(1.0/0)` runs it will display `Infinity`\n",
        "But Python doesn't  allown anything like this"
      ],
      "metadata": {
        "id": "-1gb7tgyKUIn"
      }
    },
    {
      "cell_type": "code",
      "source": [
        "# Division by Zero (float/0)\n",
        "print(1.0/0)"
      ],
      "metadata": {
        "colab": {
          "base_uri": "https://localhost:8080/",
          "height": 159
        },
        "id": "r7iPalv9KKV_",
        "outputId": "63444d19-99a6-4d6a-a419-27b99c2c6b37"
      },
      "execution_count": 6,
      "outputs": [
        {
          "output_type": "error",
          "ename": "ZeroDivisionError",
          "evalue": "float division by zero",
          "traceback": [
            "\u001b[0;31m---------------------------------------------------------------------------\u001b[0m",
            "\u001b[0;31mZeroDivisionError\u001b[0m                         Traceback (most recent call last)",
            "\u001b[0;32m<ipython-input-6-8e83d96674c8>\u001b[0m in \u001b[0;36m<cell line: 2>\u001b[0;34m()\u001b[0m\n\u001b[1;32m      1\u001b[0m \u001b[0;31m# Division by Zero (float/0)\u001b[0m\u001b[0;34m\u001b[0m\u001b[0;34m\u001b[0m\u001b[0m\n\u001b[0;32m----> 2\u001b[0;31m \u001b[0mprint\u001b[0m\u001b[0;34m(\u001b[0m\u001b[0;36m1.0\u001b[0m\u001b[0;34m/\u001b[0m\u001b[0;36m0\u001b[0m\u001b[0;34m)\u001b[0m\u001b[0;34m\u001b[0m\u001b[0;34m\u001b[0m\u001b[0m\n\u001b[0m",
            "\u001b[0;31mZeroDivisionError\u001b[0m: float division by zero"
          ]
        }
      ]
    },
    {
      "cell_type": "markdown",
      "source": [
        "# IEEE 754\n",
        "\n",
        "For more information you can visit [HERE](https://builtin.com/articles/0-1-0-2) and read more detail about the IEE754 [HERE](https://en.wikipedia.org/wiki/IEEE_754)."
      ],
      "metadata": {
        "id": "BQSX1lNmK9wn"
      }
    },
    {
      "cell_type": "code",
      "source": [
        "print(\"0.1 + 0.2 = 0.3 ?\")\n",
        "print(\"0.1 + 0.2 =\", 0.1 + 0.2)"
      ],
      "metadata": {
        "colab": {
          "base_uri": "https://localhost:8080/"
        },
        "id": "XkCqaXkRKOZ2",
        "outputId": "1be76e46-ed29-46a0-e624-3c0f79878556"
      },
      "execution_count": 7,
      "outputs": [
        {
          "output_type": "stream",
          "name": "stdout",
          "text": [
            "0.1 + 0.2 = 0.3 ?\n",
            "0.1 + 0.2 = 0.30000000000000004\n"
          ]
        }
      ]
    },
    {
      "cell_type": "markdown",
      "source": [
        "# Index\n",
        "In short indexing refers to the process of accessing a specific element in a sequence, such as a string or list or etc. , using its position or index number.\n",
        "In python indexing start from 0"
      ],
      "metadata": {
        "id": "GpRamhoCNR3s"
      }
    },
    {
      "cell_type": "code",
      "source": [
        "my_string = \"Python is easy\"\n",
        "# in python for getting access to the i-th element in the sequence we use []\n",
        "print(\"First element(index of 0) in the string is = \", my_string[0])\n",
        "print(\"Second element(index of 1) in the string is = \", my_string[1])\n",
        "print(\"Third element(index of 2) in the string is = \", my_string[2])"
      ],
      "metadata": {
        "colab": {
          "base_uri": "https://localhost:8080/"
        },
        "id": "L8ENEbr2Mz2s",
        "outputId": "415e0375-d57a-40f0-a472-cfa5b51f85f5"
      },
      "execution_count": 8,
      "outputs": [
        {
          "output_type": "stream",
          "name": "stdout",
          "text": [
            "First element(index of 0) in the string is =  P\n",
            "Second element(index of 1) in the string is =  y\n",
            "Third element(index of 2) in the string is =  t\n"
          ]
        }
      ]
    },
    {
      "cell_type": "markdown",
      "source": [
        "# Basic Data Structure"
      ],
      "metadata": {
        "id": "yX3srLZzSM5y"
      }
    },
    {
      "cell_type": "markdown",
      "source": [
        "# List\n",
        "In python we do not have built-in support for Arrays, but Python Lists can be used instead. however, to work with arrays in Python you will have to import a library, like the NumPy library."
      ],
      "metadata": {
        "id": "Zj82t09qcyLx"
      }
    },
    {
      "cell_type": "markdown",
      "source": [
        "### Defining a list"
      ],
      "metadata": {
        "id": "Nd_BTcGhbOfy"
      }
    },
    {
      "cell_type": "code",
      "source": [
        "my_list = list()\n",
        "# You can also define a list this way\n",
        "my_list = []"
      ],
      "metadata": {
        "id": "Ccxm9zuOOhJq"
      },
      "execution_count": 9,
      "outputs": []
    },
    {
      "cell_type": "code",
      "source": [
        "# Since we don't have types in python you can initialize a list with different\n",
        "# types\n",
        "my_list = [1, 2, 12.0, 'Falan Filan', True]"
      ],
      "metadata": {
        "id": "oO11Zzj4TRd7"
      },
      "execution_count": 10,
      "outputs": []
    },
    {
      "cell_type": "markdown",
      "source": [
        "### Append"
      ],
      "metadata": {
        "id": "HOsHcuU3bTZK"
      }
    },
    {
      "cell_type": "code",
      "source": [
        "# To add an item at the end of the list we use append()\n",
        "my_list.append(13)\n",
        "print(my_list)"
      ],
      "metadata": {
        "colab": {
          "base_uri": "https://localhost:8080/"
        },
        "id": "9_D_AQM4UFqw",
        "outputId": "5e88dd37-59d1-41a4-d4e8-73d2b50ea5f2"
      },
      "execution_count": 11,
      "outputs": [
        {
          "output_type": "stream",
          "name": "stdout",
          "text": [
            "[1, 2, 12.0, 'Falan Filan', True, 13]\n"
          ]
        }
      ]
    },
    {
      "cell_type": "markdown",
      "source": [
        "### Insert"
      ],
      "metadata": {
        "id": "FvTI0f-xbWR_"
      }
    },
    {
      "cell_type": "code",
      "source": [
        "# To add an item in a specific index we will use insert()\n",
        "# The first argument is the index and the second is the item\n",
        "my_list.insert(1, 24)\n",
        "print(my_list)"
      ],
      "metadata": {
        "colab": {
          "base_uri": "https://localhost:8080/"
        },
        "id": "9HgObD-tUOot",
        "outputId": "55ea137e-8c6e-4c3d-cc29-e36347bdd430"
      },
      "execution_count": 12,
      "outputs": [
        {
          "output_type": "stream",
          "name": "stdout",
          "text": [
            "[1, 24, 2, 12.0, 'Falan Filan', True, 13]\n"
          ]
        }
      ]
    },
    {
      "cell_type": "markdown",
      "source": [
        "### Pop"
      ],
      "metadata": {
        "id": "JftOQ0wEbYEw"
      }
    },
    {
      "cell_type": "code",
      "source": [
        "# To remove an from the list we use pop(), it will return the item.\n",
        "poped_item = my_list.pop()\n",
        "print(poped_item)\n",
        "print(my_list)"
      ],
      "metadata": {
        "colab": {
          "base_uri": "https://localhost:8080/"
        },
        "id": "QGjxDCF4UpW6",
        "outputId": "eb4c2306-3568-424a-cada-98896daed89a"
      },
      "execution_count": 13,
      "outputs": [
        {
          "output_type": "stream",
          "name": "stdout",
          "text": [
            "13\n",
            "[1, 24, 2, 12.0, 'Falan Filan', True]\n"
          ]
        }
      ]
    },
    {
      "cell_type": "code",
      "source": [
        "# pop() also gets an argument, in that case it will remove the the item from that index.\n",
        "poped_item = my_list.pop(0)\n",
        "print(poped_item)\n",
        "print(my_list)"
      ],
      "metadata": {
        "colab": {
          "base_uri": "https://localhost:8080/"
        },
        "id": "6fSSAgrxVNgA",
        "outputId": "2601bacb-1771-4b6b-fa27-a043be9984b5"
      },
      "execution_count": 14,
      "outputs": [
        {
          "output_type": "stream",
          "name": "stdout",
          "text": [
            "1\n",
            "[24, 2, 12.0, 'Falan Filan', True]\n"
          ]
        }
      ]
    },
    {
      "cell_type": "markdown",
      "source": [
        "### Remove"
      ],
      "metadata": {
        "id": "3iAPRs-qba5L"
      }
    },
    {
      "cell_type": "code",
      "source": [
        "# To delete an item we use remove()\n",
        "# we try to remove 12, is it even possible?\n",
        "my_list.remove(12)\n",
        "print(my_list)"
      ],
      "metadata": {
        "colab": {
          "base_uri": "https://localhost:8080/"
        },
        "id": "cZ-h6FO5Vczf",
        "outputId": "cc4b659f-6f70-4b7d-bc13-6717f15746c1"
      },
      "execution_count": 15,
      "outputs": [
        {
          "output_type": "stream",
          "name": "stdout",
          "text": [
            "[24, 2, 'Falan Filan', True]\n"
          ]
        }
      ]
    },
    {
      "cell_type": "markdown",
      "source": [
        "wanted to delete 12 not 12.0!\n",
        "\n",
        "**So in Python, 12 and 12.0 are equal!**\n",
        "\n",
        "But in general `remove()` method starts iterating on the list and checks if the item is what we want to remove or not.\n",
        "\n",
        "And if we have similar items in our list, \"remove\" method will delete the item that has the **lowest index**."
      ],
      "metadata": {
        "id": "FAQYVbD6WgRN"
      }
    },
    {
      "cell_type": "code",
      "source": [
        "tmp = [1, 2, 10, 20, 10.0]\n",
        "tmp.remove(10.0)\n",
        "print(tmp)"
      ],
      "metadata": {
        "colab": {
          "base_uri": "https://localhost:8080/"
        },
        "id": "oYfmE7sfWSuO",
        "outputId": "a7481a50-6abe-457d-b4f6-b1a5c6f42d18"
      },
      "execution_count": 16,
      "outputs": [
        {
          "output_type": "stream",
          "name": "stdout",
          "text": [
            "[1, 2, 20, 10.0]\n"
          ]
        }
      ]
    },
    {
      "cell_type": "markdown",
      "source": [
        "### Index access"
      ],
      "metadata": {
        "id": "WMxCJXnNbd6i"
      }
    },
    {
      "cell_type": "code",
      "source": [
        "# As we explained in the index section we can get access to them via []\n",
        "print(my_list)\n",
        "print(my_list[0])"
      ],
      "metadata": {
        "colab": {
          "base_uri": "https://localhost:8080/"
        },
        "id": "LDt-I06qXUhh",
        "outputId": "90920709-8311-4620-acd1-7da4880d5e88"
      },
      "execution_count": 17,
      "outputs": [
        {
          "output_type": "stream",
          "name": "stdout",
          "text": [
            "[24, 2, 'Falan Filan', True]\n",
            "24\n"
          ]
        }
      ]
    },
    {
      "cell_type": "markdown",
      "source": [
        "### Length"
      ],
      "metadata": {
        "id": "u75tMO14bhO7"
      }
    },
    {
      "cell_type": "code",
      "source": [
        "# To get the size of object we will use len()\n",
        "print(len(my_list))"
      ],
      "metadata": {
        "colab": {
          "base_uri": "https://localhost:8080/"
        },
        "id": "UEopJV7cYS_w",
        "outputId": "58e43864-10d0-488d-fdd5-eaa8b7e56304"
      },
      "execution_count": 18,
      "outputs": [
        {
          "output_type": "stream",
          "name": "stdout",
          "text": [
            "4\n"
          ]
        }
      ]
    },
    {
      "cell_type": "code",
      "source": [
        "# To get the last item?\n",
        "print(my_list[len(my_list) - 1])"
      ],
      "metadata": {
        "colab": {
          "base_uri": "https://localhost:8080/"
        },
        "id": "3BKVM2Z6ZKbN",
        "outputId": "d90f9af8-0468-408b-b269-717d7ae903bf"
      },
      "execution_count": 19,
      "outputs": [
        {
          "output_type": "stream",
          "name": "stdout",
          "text": [
            "True\n"
          ]
        }
      ]
    },
    {
      "cell_type": "code",
      "source": [
        "# But there is an easy way to do that\n",
        "print(my_list[-1])"
      ],
      "metadata": {
        "colab": {
          "base_uri": "https://localhost:8080/"
        },
        "id": "kFufRqzeZYBn",
        "outputId": "da4db5a7-2140-4e24-bccd-a0359b0eb838"
      },
      "execution_count": 20,
      "outputs": [
        {
          "output_type": "stream",
          "name": "stdout",
          "text": [
            "True\n"
          ]
        }
      ]
    },
    {
      "cell_type": "code",
      "source": [
        "print(my_list[-4])"
      ],
      "metadata": {
        "colab": {
          "base_uri": "https://localhost:8080/"
        },
        "id": "iMe9ea_fZz06",
        "outputId": "23c20297-3899-4bf5-d190-5f3c2cb2d12f"
      },
      "execution_count": 21,
      "outputs": [
        {
          "output_type": "stream",
          "name": "stdout",
          "text": [
            "24\n"
          ]
        }
      ]
    },
    {
      "cell_type": "code",
      "source": [
        "# But you should be careful with that.\n",
        "# For example:\n",
        "print(my_list[-5])"
      ],
      "metadata": {
        "colab": {
          "base_uri": "https://localhost:8080/",
          "height": 176
        },
        "id": "QXZ-nwl7ZftO",
        "outputId": "282c19e0-c4d7-454e-fede-d25d8c7ff9a7"
      },
      "execution_count": 22,
      "outputs": [
        {
          "output_type": "error",
          "ename": "IndexError",
          "evalue": "list index out of range",
          "traceback": [
            "\u001b[0;31m---------------------------------------------------------------------------\u001b[0m",
            "\u001b[0;31mIndexError\u001b[0m                                Traceback (most recent call last)",
            "\u001b[0;32m<ipython-input-22-1a276a109262>\u001b[0m in \u001b[0;36m<cell line: 3>\u001b[0;34m()\u001b[0m\n\u001b[1;32m      1\u001b[0m \u001b[0;31m# But you should be careful with that.\u001b[0m\u001b[0;34m\u001b[0m\u001b[0;34m\u001b[0m\u001b[0m\n\u001b[1;32m      2\u001b[0m \u001b[0;31m# For example:\u001b[0m\u001b[0;34m\u001b[0m\u001b[0;34m\u001b[0m\u001b[0m\n\u001b[0;32m----> 3\u001b[0;31m \u001b[0mprint\u001b[0m\u001b[0;34m(\u001b[0m\u001b[0mmy_list\u001b[0m\u001b[0;34m[\u001b[0m\u001b[0;34m-\u001b[0m\u001b[0;36m5\u001b[0m\u001b[0;34m]\u001b[0m\u001b[0;34m)\u001b[0m\u001b[0;34m\u001b[0m\u001b[0;34m\u001b[0m\u001b[0m\n\u001b[0m",
            "\u001b[0;31mIndexError\u001b[0m: list index out of range"
          ]
        }
      ]
    },
    {
      "cell_type": "markdown",
      "source": [
        "### List slicing\n",
        "We have a list like this:\n",
        "```python\n",
        "my_list = [1, 2, 4, 4, 3, 6, 8, 5,9]\n",
        "```\n",
        "And I want some part of it! for example from index 2 up to index 5.\n",
        "In other programming languages like C we do something like this:\n",
        "``` Java\n",
        "for(int i=2; i < 6; i++){\n",
        "   new_List[i-2] = my_list[i];\n",
        "}\n",
        "```\n",
        "But in python it is easier"
      ],
      "metadata": {
        "id": "XHPhW8qQZ5mt"
      }
    },
    {
      "cell_type": "code",
      "source": [
        "my_list = [1, 2, 4, 4, 3, 6, 8, 5,9]\n",
        "print(my_list[2:6])\n",
        "# From index \"i\" till index \"j-1\"(in this case i=2 and j=6)\n",
        "# We call this \"slicing\"!"
      ],
      "metadata": {
        "id": "mr4zb5aMZt97"
      },
      "execution_count": null,
      "outputs": []
    },
    {
      "cell_type": "code",
      "source": [
        "# There is also a third argument that defines step\n",
        "# For example I want to go from index 1 up to index 5 with step=2: [2, 4, 6]\n",
        "my_list[1:6:2]"
      ],
      "metadata": {
        "id": "9so2yPgYa54O"
      },
      "execution_count": null,
      "outputs": []
    },
    {
      "cell_type": "markdown",
      "source": [
        "### Sort"
      ],
      "metadata": {
        "id": "xQEbMdV3b9hu"
      }
    },
    {
      "cell_type": "code",
      "source": [
        "print('Not sorted list: ',my_list)\n",
        "my_list.sort()\n",
        "print('Sorted list: ', my_list)"
      ],
      "metadata": {
        "colab": {
          "base_uri": "https://localhost:8080/",
          "height": 193
        },
        "id": "JxiYAx8Ma_NS",
        "outputId": "aeb1ad3f-2d58-401c-9244-4c46e2324e29"
      },
      "execution_count": 23,
      "outputs": [
        {
          "output_type": "stream",
          "name": "stdout",
          "text": [
            "Not sorted list:  [24, 2, 'Falan Filan', True]\n"
          ]
        },
        {
          "output_type": "error",
          "ename": "TypeError",
          "evalue": "'<' not supported between instances of 'str' and 'int'",
          "traceback": [
            "\u001b[0;31m---------------------------------------------------------------------------\u001b[0m",
            "\u001b[0;31mTypeError\u001b[0m                                 Traceback (most recent call last)",
            "\u001b[0;32m<ipython-input-23-8d510f253293>\u001b[0m in \u001b[0;36m<cell line: 2>\u001b[0;34m()\u001b[0m\n\u001b[1;32m      1\u001b[0m \u001b[0mprint\u001b[0m\u001b[0;34m(\u001b[0m\u001b[0;34m'Not sorted list: '\u001b[0m\u001b[0;34m,\u001b[0m\u001b[0mmy_list\u001b[0m\u001b[0;34m)\u001b[0m\u001b[0;34m\u001b[0m\u001b[0;34m\u001b[0m\u001b[0m\n\u001b[0;32m----> 2\u001b[0;31m \u001b[0mmy_list\u001b[0m\u001b[0;34m.\u001b[0m\u001b[0msort\u001b[0m\u001b[0;34m(\u001b[0m\u001b[0;34m)\u001b[0m\u001b[0;34m\u001b[0m\u001b[0;34m\u001b[0m\u001b[0m\n\u001b[0m\u001b[1;32m      3\u001b[0m \u001b[0mprint\u001b[0m\u001b[0;34m(\u001b[0m\u001b[0;34m'Sorted list: '\u001b[0m\u001b[0;34m,\u001b[0m \u001b[0mmy_list\u001b[0m\u001b[0;34m)\u001b[0m\u001b[0;34m\u001b[0m\u001b[0;34m\u001b[0m\u001b[0m\n",
            "\u001b[0;31mTypeError\u001b[0m: '<' not supported between instances of 'str' and 'int'"
          ]
        }
      ]
    },
    {
      "cell_type": "markdown",
      "source": [
        "### Reverse"
      ],
      "metadata": {
        "id": "qPP5HRXncRKx"
      }
    },
    {
      "cell_type": "code",
      "source": [
        "print('Not reversed list: ',my_list)\n",
        "my_list.reverse()\n",
        "print('Reversed list: ', my_list)"
      ],
      "metadata": {
        "id": "aoa1g_vdcDIx"
      },
      "execution_count": null,
      "outputs": []
    },
    {
      "cell_type": "code",
      "source": [
        "# There is another way if you don't like to use that method\n",
        "'''\n",
        "Remember the slicing part?\n",
        "We can pass a step arg to list, right?\n",
        "What if I pass -1 for step?\n",
        "'''\n",
        "my_list = [1, 2, 3, 4, 4, 5, 6, 8, 9] # This is my_list before the reverse method, right?\n",
        "print(my_list[::-1]) # [9, 8, 6, 5, 4, 4, 3, 2, 1]"
      ],
      "metadata": {
        "id": "4lPB0yu9cTj_"
      },
      "execution_count": null,
      "outputs": []
    },
    {
      "cell_type": "markdown",
      "source": [
        "### Multidimensional lists"
      ],
      "metadata": {
        "id": "wPpwOipYdNiE"
      }
    },
    {
      "cell_type": "code",
      "source": [
        "# It can have different type  or length\n",
        "multidimenional_list = [[1,2,3],[4,5],[6]]\n",
        "print(multidimenional_list[0])\n",
        "print(multidimenional_list[0][2])"
      ],
      "metadata": {
        "colab": {
          "base_uri": "https://localhost:8080/"
        },
        "id": "KJ16RmD1dUrL",
        "outputId": "d717daed-d76b-464c-d9e2-7f925f04353f"
      },
      "execution_count": 24,
      "outputs": [
        {
          "output_type": "stream",
          "name": "stdout",
          "text": [
            "[1, 2, 3]\n",
            "3\n"
          ]
        }
      ]
    },
    {
      "cell_type": "markdown",
      "source": [
        "# Tuples"
      ],
      "metadata": {
        "id": "7ZY9Ar1Gc-ci"
      }
    },
    {
      "cell_type": "markdown",
      "source": [
        "Tuples are very similar to lists.\n",
        "You can use everything that we talked about in list, for tuples EXCEPT ONE THING!\n",
        "\n",
        "tuples are **immutable**!\n",
        "\n",
        "\n",
        "What does it mean?\n",
        "\n",
        "\n",
        "It means you **CAN NOT** change the data stored in tuples!"
      ],
      "metadata": {
        "id": "neejh8pSdw4A"
      }
    },
    {
      "cell_type": "code",
      "source": [
        "# You can define a tuple like a list\n",
        "my_tuple = tuple()\n",
        "# or\n",
        "my_tuple = (1, 2, 12.0, 'SOMETHING', True, [], ())\n",
        "print(my_tuple[0])\n",
        "print(my_tuple[::-1])"
      ],
      "metadata": {
        "colab": {
          "base_uri": "https://localhost:8080/"
        },
        "id": "zyrrYZ5KcsUl",
        "outputId": "2f6051d6-f964-491e-d4a1-da11f10982a7"
      },
      "execution_count": 25,
      "outputs": [
        {
          "output_type": "stream",
          "name": "stdout",
          "text": [
            "1\n",
            "((), [], True, 'SOMETHING', 12.0, 2, 1)\n"
          ]
        }
      ]
    },
    {
      "cell_type": "code",
      "source": [
        "my_tuple[0] = 2"
      ],
      "metadata": {
        "colab": {
          "base_uri": "https://localhost:8080/",
          "height": 141
        },
        "id": "MmnHFQh3eS6Z",
        "outputId": "5b71c43e-9b81-46b6-f9b0-8c010cfef7fc"
      },
      "execution_count": 26,
      "outputs": [
        {
          "output_type": "error",
          "ename": "TypeError",
          "evalue": "'tuple' object does not support item assignment",
          "traceback": [
            "\u001b[0;31m---------------------------------------------------------------------------\u001b[0m",
            "\u001b[0;31mTypeError\u001b[0m                                 Traceback (most recent call last)",
            "\u001b[0;32m<ipython-input-26-f9a0f5b18919>\u001b[0m in \u001b[0;36m<cell line: 1>\u001b[0;34m()\u001b[0m\n\u001b[0;32m----> 1\u001b[0;31m \u001b[0mmy_tuple\u001b[0m\u001b[0;34m[\u001b[0m\u001b[0;36m0\u001b[0m\u001b[0;34m]\u001b[0m \u001b[0;34m=\u001b[0m \u001b[0;36m2\u001b[0m\u001b[0;34m\u001b[0m\u001b[0;34m\u001b[0m\u001b[0m\n\u001b[0m",
            "\u001b[0;31mTypeError\u001b[0m: 'tuple' object does not support item assignment"
          ]
        }
      ]
    },
    {
      "cell_type": "code",
      "source": [
        "# Tuple with one item\n",
        "# Using the keyword\n",
        "my_tuple_with_one_item = tuple([1])\n",
        "# tuple() has one optional argument and it has to be an iterable object\n",
        "# Also I can get the same result:\n",
        "my_tuple_with_one_item = (1, )\n",
        "# What is that comma?\n",
        "# it has to be there for python to understand that this is a tuple, otherwise the python interpreter recognizes\n",
        "# this is a normal number and the perentesis as the operators\n",
        "print(my_tuple_with_one_item)"
      ],
      "metadata": {
        "id": "wJ23v5tneZ45"
      },
      "execution_count": null,
      "outputs": []
    },
    {
      "cell_type": "markdown",
      "source": [
        "# Set"
      ],
      "metadata": {
        "id": "7Xp5XJ_5e3y3"
      }
    },
    {
      "cell_type": "markdown",
      "source": [
        "Sets are collections which they are unordered, unchangeable, and unindexed.\n",
        "\n",
        "By unchangeable I mean we can add or remove but we can't change the item!"
      ],
      "metadata": {
        "id": "nnqV0k-3fIPW"
      }
    },
    {
      "cell_type": "code",
      "source": [
        "# Definition\n",
        "my_set = {} #Empty\n",
        "\n",
        "my_set = {1,2,3,4,5} # With intial value\n",
        "\n",
        "my_set.add(6)\n",
        "\n",
        "print(my_set)\n",
        "\n",
        "my_set.remove(1)\n",
        "\n",
        "print(my_set)"
      ],
      "metadata": {
        "colab": {
          "base_uri": "https://localhost:8080/"
        },
        "id": "Y3QWf0bUenuL",
        "outputId": "2690b420-a684-4b37-9462-206eabf8df9e"
      },
      "execution_count": 27,
      "outputs": [
        {
          "output_type": "stream",
          "name": "stdout",
          "text": [
            "{1, 2, 3, 4, 5, 6}\n",
            "{2, 3, 4, 5, 6}\n"
          ]
        }
      ]
    },
    {
      "cell_type": "code",
      "source": [
        "# As you know sets can't have duplicates. It is valid also here\n",
        "my_set = {1, 1, \"taxi\", \"some random data\"}\n",
        "print(my_set)"
      ],
      "metadata": {
        "colab": {
          "base_uri": "https://localhost:8080/"
        },
        "id": "KWVqpVO_fV4P",
        "outputId": "01ecadad-174e-4cc8-801c-e68b0a535aea"
      },
      "execution_count": 28,
      "outputs": [
        {
          "output_type": "stream",
          "name": "stdout",
          "text": [
            "{1, 'some random data', 'taxi'}\n"
          ]
        }
      ]
    },
    {
      "cell_type": "code",
      "source": [
        "# In sets 1 and True are the same and counts as a duplicate\n",
        "my_set = {1, 1, True, \"some random data\"}\n",
        "print(my_set)"
      ],
      "metadata": {
        "colab": {
          "base_uri": "https://localhost:8080/"
        },
        "id": "1guU2bmMfYUj",
        "outputId": "0aa14e87-e8cc-4baf-c97f-7d55d5e0b666"
      },
      "execution_count": 29,
      "outputs": [
        {
          "output_type": "stream",
          "name": "stdout",
          "text": [
            "{1, 'some random data'}\n"
          ]
        }
      ]
    },
    {
      "cell_type": "code",
      "source": [
        "# with this logic we can say that the 0 and False are counting as a duplicate as well.\n",
        "my_set = {1, 0, False, 1, 0}\n",
        "print(my_set)"
      ],
      "metadata": {
        "colab": {
          "base_uri": "https://localhost:8080/"
        },
        "id": "_vF9u0aNfbL0",
        "outputId": "028bd7c0-09bd-4552-e7d8-6323296b5a0c"
      },
      "execution_count": 30,
      "outputs": [
        {
          "output_type": "stream",
          "name": "stdout",
          "text": [
            "{0, 1}\n"
          ]
        }
      ]
    },
    {
      "cell_type": "markdown",
      "source": [
        "# Dictionary"
      ],
      "metadata": {
        "id": "cSBQQCOpfulu"
      }
    },
    {
      "cell_type": "markdown",
      "source": [
        "Dictionary is a non sequence datastructure with a \"key, value\" system.\n",
        "\n",
        "It means that you define a key and add a value for that specific key."
      ],
      "metadata": {
        "id": "8IQLsH3FfxX-"
      }
    },
    {
      "cell_type": "code",
      "source": [
        "# You can define an empty dictionary with the 'dict()' method.\n",
        "my_dict = dict()\n",
        "print(my_dict)"
      ],
      "metadata": {
        "colab": {
          "base_uri": "https://localhost:8080/"
        },
        "id": "QgZ_RhtCfoax",
        "outputId": "de52c0f6-615d-45c6-9181-685ba69d47df"
      },
      "execution_count": 31,
      "outputs": [
        {
          "output_type": "stream",
          "name": "stdout",
          "text": [
            "{}\n"
          ]
        }
      ]
    },
    {
      "cell_type": "code",
      "source": [
        "# key, and \":\" , value.\n",
        "my_dict = {\n",
        "    'key': 'value',\n",
        "    'key1': 'value1',\n",
        "    'key2': 'value2',\n",
        "}\n",
        "# There is no data type, so your key and value can be anything you want.\n",
        "# But keys are uniqe! Just try to keep your code clean xD\n",
        "print(my_dict)"
      ],
      "metadata": {
        "colab": {
          "base_uri": "https://localhost:8080/"
        },
        "id": "x2ULpQ68f1Zl",
        "outputId": "58c8d326-7b8a-4997-89b1-e2b4f086e3c4"
      },
      "execution_count": 32,
      "outputs": [
        {
          "output_type": "stream",
          "name": "stdout",
          "text": [
            "{'key': 'value', 'key1': 'value1', 'key2': 'value2'}\n"
          ]
        }
      ]
    },
    {
      "cell_type": "code",
      "source": [
        "# call a key and it will return the expected value.\n",
        "print(my_dict['key']) # Should be 'value'"
      ],
      "metadata": {
        "colab": {
          "base_uri": "https://localhost:8080/"
        },
        "id": "WPKJxJ30f6Qa",
        "outputId": "47fd62f3-dae8-45e0-b012-0b992d1fc093"
      },
      "execution_count": 33,
      "outputs": [
        {
          "output_type": "stream",
          "name": "stdout",
          "text": [
            "value\n"
          ]
        }
      ]
    },
    {
      "cell_type": "markdown",
      "source": [
        "### Add a pair"
      ],
      "metadata": {
        "id": "wpjx8llRgCIA"
      }
    },
    {
      "cell_type": "code",
      "source": [
        "# If you want to add a pair of <key, value> you can do this:\n",
        "# my_dict[<key>] = <value>\n",
        "# For example\n",
        "my_dict['key3'] = 'value3'\n",
        "print( my_dict)\n",
        "print(my_dict['key3'])"
      ],
      "metadata": {
        "colab": {
          "base_uri": "https://localhost:8080/"
        },
        "id": "7XOidYjwf_Yr",
        "outputId": "9e6f6e62-c323-481f-b632-e70bdfbc0e46"
      },
      "execution_count": 34,
      "outputs": [
        {
          "output_type": "stream",
          "name": "stdout",
          "text": [
            "{'key': 'value', 'key1': 'value1', 'key2': 'value2', 'key3': 'value3'}\n",
            "value3\n"
          ]
        }
      ]
    },
    {
      "cell_type": "markdown",
      "source": [
        "### Popitem"
      ],
      "metadata": {
        "id": "Je8vOYE5gMmn"
      }
    },
    {
      "cell_type": "code",
      "source": [
        "# Dictionary has a \"popitem()\" method.\n",
        "# It'll delete and return the last added \"key, value\".\n",
        "my_dict.popitem()"
      ],
      "metadata": {
        "colab": {
          "base_uri": "https://localhost:8080/"
        },
        "id": "O-KIyGX-gICH",
        "outputId": "f38939c8-0ff6-43a4-ed00-61b464d824b8"
      },
      "execution_count": 35,
      "outputs": [
        {
          "output_type": "execute_result",
          "data": {
            "text/plain": [
              "('key3', 'value3')"
            ]
          },
          "metadata": {},
          "execution_count": 35
        }
      ]
    },
    {
      "cell_type": "code",
      "source": [
        "# It also has an optional argument that using which you can pass a key and it'll delete the expected value and return it.\n",
        "my_dict.pop(\"key\")\n",
        "print(my_dict)"
      ],
      "metadata": {
        "colab": {
          "base_uri": "https://localhost:8080/"
        },
        "id": "_ETonlT-gOPJ",
        "outputId": "96302aeb-1d9e-4b81-a593-e9c564619bdd"
      },
      "execution_count": 36,
      "outputs": [
        {
          "output_type": "stream",
          "name": "stdout",
          "text": [
            "{'key1': 'value1', 'key2': 'value2'}\n"
          ]
        }
      ]
    },
    {
      "cell_type": "markdown",
      "source": [
        "---\n",
        "# Check point\n",
        "So as of now we saw 4 data collection types:\n",
        "- List is a collection which is ordered and changeable. Allows duplicate members.\n",
        "- Tuple is a collection which is ordered and unchangeable. Allows duplicate members.\n",
        "- Set is a collection which is unordered, unchangeable*, and unindexed. No duplicate members.\n",
        "- Dictionary is a collection which is ordered** and changeable. No duplicate members.\n",
        "\n",
        "*Set items are unchangeable, but you can remove items and add new items.\n",
        "\n",
        "**As of Python version 3.7, dictionaries are ordered. In Python 3.6 and earlier, dictionaries are unordered.\n",
        "\n",
        "---"
      ],
      "metadata": {
        "id": "YaxLAXL1gtFa"
      }
    },
    {
      "cell_type": "markdown",
      "source": [
        "# Comparison"
      ],
      "metadata": {
        "id": "J3llQ0l1h_pY"
      }
    },
    {
      "cell_type": "code",
      "source": [
        "# There are a few operators like '==', '!=', '>=', '<=' using which you can compare two objects.\n",
        "print(1 == 2)\n",
        "print(1 >= 2)\n",
        "print(1 <= 2)\n",
        "print(1 != 2)\n",
        "# You can also do chain operators\n",
        "print(1 < 2 < 3 < 10 > 5)\n",
        "# If one of them is false, the whole statement is false.\n",
        "print(1 < 2 < 3 > 10 > 5)"
      ],
      "metadata": {
        "colab": {
          "base_uri": "https://localhost:8080/"
        },
        "id": "eHAkHH4TgQao",
        "outputId": "95e028a2-86e2-4dc5-d8b1-9aa311b840da"
      },
      "execution_count": 37,
      "outputs": [
        {
          "output_type": "stream",
          "name": "stdout",
          "text": [
            "False\n",
            "False\n",
            "True\n",
            "True\n",
            "True\n",
            "False\n"
          ]
        }
      ]
    },
    {
      "cell_type": "markdown",
      "source": [
        "# If-Else"
      ],
      "metadata": {
        "id": "R1f9GEFXiHvT"
      }
    },
    {
      "cell_type": "code",
      "source": [
        "# For 'if' we do this:\n",
        "if 1 == 2:\n",
        "    print('blah blah blah')\n",
        "else:\n",
        "    print('blah blah blah 2')\n",
        "\n",
        "# There is also nested if.\n",
        "if 1 == 2:\n",
        "    print('1 == 2')\n",
        "else:\n",
        "    if 2 == 2:\n",
        "        print('2 == 2')\n",
        "    else:\n",
        "        print('blah blah blah 3')\n",
        "\n",
        "# 'elif' is else then if!\n",
        "if 1 == 2:\n",
        "    print('1 == 2')\n",
        "elif 2 == 2:\n",
        "    print('2 == 2')\n",
        "else:\n",
        "    print('blah blah blah 3')"
      ],
      "metadata": {
        "colab": {
          "base_uri": "https://localhost:8080/"
        },
        "id": "IQqp4TW6iF6R",
        "outputId": "c9a406ff-099b-4f08-b868-d8459b73c2ff"
      },
      "execution_count": 38,
      "outputs": [
        {
          "output_type": "stream",
          "name": "stdout",
          "text": [
            "blah blah blah 2\n",
            "2 == 2\n",
            "2 == 2\n"
          ]
        }
      ]
    },
    {
      "cell_type": "markdown",
      "source": [
        "in python a code block is shown with identation.\n",
        "\n",
        "```python\n",
        "something:\n",
        "→ → statement\n",
        "→ → statement\n",
        "→ → statement\n",
        "```\n",
        "In that code snippet each → is equal with 2 spaces\n",
        "\n",
        "you can have it in any format but it is important that all of the statements have the samme identation.\n",
        "\n",
        "For example this code will give you error\n",
        "\n",
        "```python\n",
        "if 1==2:\n",
        "  print(\"Something\")\n",
        "    print(\"something else\")\n",
        "else:\n",
        "  print(\"another thing\")\n",
        "```\n",
        "\n",
        "But this code will work\n",
        "```python\n",
        "if 1==2:\n",
        "    print(\"Something\")\n",
        "    print(\"something else\")\n",
        "else:\n",
        "  print(\"another thing\")\n",
        "  print(\"Also another thing\")\n",
        "```\n",
        "even tho the identation from `if` section and `else` section is different with eachother but each section is a different code block.\n",
        "\n",
        "So identation is matters!"
      ],
      "metadata": {
        "id": "cX6tRsnvmxkF"
      }
    },
    {
      "cell_type": "markdown",
      "source": [
        "# Match-Case"
      ],
      "metadata": {
        "id": "lNd2xSxXiUkp"
      }
    },
    {
      "cell_type": "markdown",
      "source": [
        "in the c/c++ we use switch case\n",
        "The switch case statement in a C/C++ program would look something like this\n",
        "``` C++\n",
        "switch (variable to be evaluated):\n",
        "{\n",
        "     case value1 : //statement 1\n",
        "                   break;\n",
        "\n",
        "     case value2 : //statement 2\n",
        "                   break;\n",
        "\n",
        "     case value_n : //statement n\n",
        "                    break;\n",
        "\n",
        "     default:  //default statement\n",
        "}\n",
        "```\n",
        "In Python 3.10 (2021) introduced the match-case statement\n",
        "Which provides a first-class implementation of a \"switch\" for Python\n",
        "The syntax looks something like this\n",
        "``` python\n",
        "match variable_name:\n",
        "            case ‘pattern1’ : //statement1\n",
        "            case ‘pattern2’ : //statement2\n",
        "            …            \n",
        "            case ‘pattern n’ : //statement n\n",
        "```"
      ],
      "metadata": {
        "id": "E4gdP8caigbs"
      }
    },
    {
      "cell_type": "code",
      "source": [
        "var = 2\n",
        "\n",
        "match var:\n",
        "    case 1: print(\"One\")\n",
        "    case 2:\n",
        "        print(\"another statement\")\n",
        "        print(\"Two\")\n",
        "    case 3:\n",
        "        print(\"Three\")\n",
        "    case _:\n",
        "        print(\"Default\")"
      ],
      "metadata": {
        "colab": {
          "base_uri": "https://localhost:8080/"
        },
        "id": "a5Y1F8RxkSUM",
        "outputId": "43bab9a6-c42e-4b51-eb41-726e46fbb3a5"
      },
      "execution_count": 39,
      "outputs": [
        {
          "output_type": "stream",
          "name": "stdout",
          "text": [
            "another statement\n",
            "Two\n"
          ]
        }
      ]
    },
    {
      "cell_type": "markdown",
      "source": [
        "If there is ony one statement you can write it right in front of the case, but if you have multiple statements for each case you need a code block and you have to go next line and make the necessary identation."
      ],
      "metadata": {
        "id": "WfYjLJTinisX"
      }
    },
    {
      "cell_type": "markdown",
      "source": [
        "# Loops"
      ],
      "metadata": {
        "id": "ZXcHuIZ0n79B"
      }
    },
    {
      "cell_type": "markdown",
      "source": [
        "## While"
      ],
      "metadata": {
        "id": "Lf80_SWIqG9J"
      }
    },
    {
      "cell_type": "markdown",
      "source": [
        "```python\n",
        "while condition:\n",
        "    statement1\n",
        "    statement2\n",
        "    statement3\n",
        "    ...\n",
        "```"
      ],
      "metadata": {
        "id": "n7rzAch2oEIH"
      }
    },
    {
      "cell_type": "code",
      "source": [
        "# Example:\n",
        "i = 0\n",
        "while i < 10:\n",
        "    print('I is: ', i)\n",
        "    i += 1"
      ],
      "metadata": {
        "colab": {
          "base_uri": "https://localhost:8080/"
        },
        "id": "TcTN6KQ-nh5Y",
        "outputId": "51f29b31-d346-4c25-bb9c-fabec8ebbe72"
      },
      "execution_count": 40,
      "outputs": [
        {
          "output_type": "stream",
          "name": "stdout",
          "text": [
            "I is:  0\n",
            "I is:  1\n",
            "I is:  2\n",
            "I is:  3\n",
            "I is:  4\n",
            "I is:  5\n",
            "I is:  6\n",
            "I is:  7\n",
            "I is:  8\n",
            "I is:  9\n"
          ]
        }
      ]
    },
    {
      "cell_type": "markdown",
      "source": [
        "### Break"
      ],
      "metadata": {
        "id": "LBfJgiM5oYzS"
      }
    },
    {
      "cell_type": "code",
      "source": [
        "i = 0\n",
        "while True:\n",
        "    i += 1\n",
        "    if i > 15:\n",
        "        break\n",
        "    print('I is: ', i)\n",
        "# 'break' will stop the while and moves on to the rest of the code"
      ],
      "metadata": {
        "colab": {
          "base_uri": "https://localhost:8080/"
        },
        "id": "LAAs42vIoUdu",
        "outputId": "a1ee1b81-38e7-4b82-e917-d8f6e780d1bd"
      },
      "execution_count": 41,
      "outputs": [
        {
          "output_type": "stream",
          "name": "stdout",
          "text": [
            "I is:  1\n",
            "I is:  2\n",
            "I is:  3\n",
            "I is:  4\n",
            "I is:  5\n",
            "I is:  6\n",
            "I is:  7\n",
            "I is:  8\n",
            "I is:  9\n",
            "I is:  10\n",
            "I is:  11\n",
            "I is:  12\n",
            "I is:  13\n",
            "I is:  14\n",
            "I is:  15\n"
          ]
        }
      ]
    },
    {
      "cell_type": "markdown",
      "source": [
        "### Continue"
      ],
      "metadata": {
        "id": "hWiTU0D6o1VN"
      }
    },
    {
      "cell_type": "code",
      "source": [
        "i = 0\n",
        "while i < 15:\n",
        "    i += 1\n",
        "    if i % 2 == 0:\n",
        "        continue\n",
        "    print('I is: ', i)\n",
        "# 'continue' will ignore the rest of the while and goes for the next iteration"
      ],
      "metadata": {
        "colab": {
          "base_uri": "https://localhost:8080/"
        },
        "id": "1aWAJz0hoa9R",
        "outputId": "1169eb24-3425-45a7-f844-a20ba920b5fc"
      },
      "execution_count": 42,
      "outputs": [
        {
          "output_type": "stream",
          "name": "stdout",
          "text": [
            "I is:  1\n",
            "I is:  3\n",
            "I is:  5\n",
            "I is:  7\n",
            "I is:  9\n",
            "I is:  11\n",
            "I is:  13\n",
            "I is:  15\n"
          ]
        }
      ]
    },
    {
      "cell_type": "markdown",
      "source": [
        "### Range"
      ],
      "metadata": {
        "id": "EzFUF8DTrAqR"
      }
    },
    {
      "cell_type": "markdown",
      "source": [
        "The range() function returns a sequence of numbers, starting from 0 by default, and increments by 1 (by default), and stops before a specified number"
      ],
      "metadata": {
        "id": "TWWuEe4jrWrV"
      }
    },
    {
      "cell_type": "code",
      "source": [
        "range(10)"
      ],
      "metadata": {
        "colab": {
          "base_uri": "https://localhost:8080/"
        },
        "id": "_qbrxmcZq-JJ",
        "outputId": "c6ba6391-97f0-4457-890a-b506ab520eb3"
      },
      "execution_count": 43,
      "outputs": [
        {
          "output_type": "execute_result",
          "data": {
            "text/plain": [
              "range(0, 10)"
            ]
          },
          "metadata": {},
          "execution_count": 43
        }
      ]
    },
    {
      "cell_type": "code",
      "source": [
        "print(list(range(10)))"
      ],
      "metadata": {
        "colab": {
          "base_uri": "https://localhost:8080/"
        },
        "id": "sTroBPpsr0Bq",
        "outputId": "27d5c19a-e15c-4a13-e2e4-a38dc24f8c76"
      },
      "execution_count": 44,
      "outputs": [
        {
          "output_type": "stream",
          "name": "stdout",
          "text": [
            "[0, 1, 2, 3, 4, 5, 6, 7, 8, 9]\n"
          ]
        }
      ]
    },
    {
      "cell_type": "code",
      "source": [
        "# range(start, stop, step)\n",
        "print(list(range(1, 10, 2)))"
      ],
      "metadata": {
        "colab": {
          "base_uri": "https://localhost:8080/"
        },
        "id": "Uf3C1HeOr3_c",
        "outputId": "b9333c8f-ea1e-4de9-8b38-ce8370e11baf"
      },
      "execution_count": 45,
      "outputs": [
        {
          "output_type": "stream",
          "name": "stdout",
          "text": [
            "[1, 3, 5, 7, 9]\n"
          ]
        }
      ]
    },
    {
      "cell_type": "code",
      "source": [],
      "metadata": {
        "id": "BvPrBj8FsARb"
      },
      "execution_count": 45,
      "outputs": []
    },
    {
      "cell_type": "markdown",
      "source": [
        "## For"
      ],
      "metadata": {
        "id": "Vb6SyHi_qAn-"
      }
    },
    {
      "cell_type": "markdown",
      "source": [
        "`for` In python is like `for each` in java\n",
        "\n",
        "In java we have:\n",
        "```java\n",
        "for (int i : int[]) {\n",
        "\n",
        "}\n",
        "```\n",
        "In python the foramt is like:\n",
        "```python\n",
        "for variable in itterable:\n",
        "  statement\n",
        "  statement\n",
        "  statement\n",
        "```"
      ],
      "metadata": {
        "id": "ZGUymYrdqKLX"
      }
    },
    {
      "cell_type": "code",
      "source": [
        "my_list = [1, 2, 3, 4]\n",
        "for item in my_list:\n",
        "    print('item is: ', item)"
      ],
      "metadata": {
        "colab": {
          "base_uri": "https://localhost:8080/"
        },
        "id": "kn783tWjp1Pl",
        "outputId": "73093834-0ab2-4fb5-afa9-241ccc212a5e"
      },
      "execution_count": 46,
      "outputs": [
        {
          "output_type": "stream",
          "name": "stdout",
          "text": [
            "item is:  1\n",
            "item is:  2\n",
            "item is:  3\n",
            "item is:  4\n"
          ]
        }
      ]
    },
    {
      "cell_type": "code",
      "source": [
        "for i in \"String\":\n",
        "    print(i)"
      ],
      "metadata": {
        "colab": {
          "base_uri": "https://localhost:8080/"
        },
        "id": "PjeRvxUAqrQF",
        "outputId": "a58def16-dbb0-49e6-f24e-9d3b6c75ba79"
      },
      "execution_count": 47,
      "outputs": [
        {
          "output_type": "stream",
          "name": "stdout",
          "text": [
            "S\n",
            "t\n",
            "r\n",
            "i\n",
            "n\n",
            "g\n"
          ]
        }
      ]
    },
    {
      "cell_type": "code",
      "source": [
        "for i in range(10):\n",
        "    print(i)"
      ],
      "metadata": {
        "colab": {
          "base_uri": "https://localhost:8080/"
        },
        "id": "a9yiqxT5sHzL",
        "outputId": "e6b3dd40-c544-4594-c509-5339f6122582"
      },
      "execution_count": 48,
      "outputs": [
        {
          "output_type": "stream",
          "name": "stdout",
          "text": [
            "0\n",
            "1\n",
            "2\n",
            "3\n",
            "4\n",
            "5\n",
            "6\n",
            "7\n",
            "8\n",
            "9\n"
          ]
        }
      ]
    },
    {
      "cell_type": "markdown",
      "source": [
        "# Exercise\n",
        "\n",
        "Using loops print the following:\n",
        "```\n",
        "     *\n",
        "    ***\n",
        "  *******\n",
        " *********\n",
        "    ||\n",
        "```"
      ],
      "metadata": {
        "id": "YQWT6R3csNhB"
      }
    },
    {
      "cell_type": "code",
      "source": [
        "for i in range(1, 6):\n",
        "  print(\" \"*(6-i)+ '*' * (2*i - 1))\n",
        "print(\" \"*4 + \"||\")\n",
        "print(\"Happy Christmass\")"
      ],
      "metadata": {
        "colab": {
          "base_uri": "https://localhost:8080/"
        },
        "id": "MhX16p51sJdM",
        "outputId": "42585986-18ea-4ae3-e9ff-abf259215b13"
      },
      "execution_count": 49,
      "outputs": [
        {
          "output_type": "stream",
          "name": "stdout",
          "text": [
            "     *\n",
            "    ***\n",
            "   *****\n",
            "  *******\n",
            " *********\n",
            "    ||\n",
            "Happy Christmass\n"
          ]
        }
      ]
    },
    {
      "cell_type": "markdown",
      "source": [
        "## For - continue"
      ],
      "metadata": {
        "id": "w-5UImj1smYM"
      }
    },
    {
      "cell_type": "code",
      "source": [
        "# You can put any iterable object after 'in' when using 'for':\n",
        "\n",
        "my_dict = {\n",
        "    'item 1': 'value 1',\n",
        "    'item 2': 'value 2',\n",
        "    'item 3': 'value 3',\n",
        "    'item 4': 'value 4'\n",
        "}\n",
        "for item in my_dict:\n",
        "    print(my_dict[item])"
      ],
      "metadata": {
        "colab": {
          "base_uri": "https://localhost:8080/"
        },
        "id": "crO5aRQXsiKh",
        "outputId": "365c61df-a46a-444e-8eda-e8269b7be766"
      },
      "execution_count": 50,
      "outputs": [
        {
          "output_type": "stream",
          "name": "stdout",
          "text": [
            "value 1\n",
            "value 2\n",
            "value 3\n",
            "value 4\n"
          ]
        }
      ]
    },
    {
      "cell_type": "code",
      "source": [
        "my_dict = {\n",
        "    'x': [10,20,30,40],\n",
        "    'y': [1,2,3,4]\n",
        "}\n",
        "\n",
        "for i in my_dict:\n",
        "    training_data = my_dict[i]\n",
        "    for j in training_data:\n",
        "        print(j)"
      ],
      "metadata": {
        "colab": {
          "base_uri": "https://localhost:8080/"
        },
        "id": "WP9KL2I7svqB",
        "outputId": "34682f17-5d02-46ef-ab41-494d6b7fb2de"
      },
      "execution_count": 51,
      "outputs": [
        {
          "output_type": "stream",
          "name": "stdout",
          "text": [
            "10\n",
            "20\n",
            "30\n",
            "40\n",
            "1\n",
            "2\n",
            "3\n",
            "4\n"
          ]
        }
      ]
    },
    {
      "cell_type": "code",
      "source": [
        "my_list =  [3,2,1,4,5]\n",
        "for i in range(len(my_list)-2):\n",
        "    print(my_list[i:i+2])"
      ],
      "metadata": {
        "colab": {
          "base_uri": "https://localhost:8080/"
        },
        "id": "DwgD6cassyc3",
        "outputId": "c9f7ef8d-a2e7-4120-dfe2-d2c7129f8cd1"
      },
      "execution_count": 52,
      "outputs": [
        {
          "output_type": "stream",
          "name": "stdout",
          "text": [
            "[3, 2]\n",
            "[2, 1]\n",
            "[1, 4]\n"
          ]
        }
      ]
    },
    {
      "cell_type": "markdown",
      "source": [
        "# Functions"
      ],
      "metadata": {
        "id": "0JR6i6M3s795"
      }
    },
    {
      "cell_type": "markdown",
      "source": [
        "```python\n",
        "def <function name>(<arguments>):\n",
        "    statement\n",
        "    statement\n",
        "    statement\n",
        "```\n",
        "\n",
        "In python we don't define if the function will return something or not."
      ],
      "metadata": {
        "id": "2fuQ3wP6tAqH"
      }
    },
    {
      "cell_type": "code",
      "source": [
        "def my_func():\n",
        "    print('Hi')\n",
        "\n",
        "my_func()"
      ],
      "metadata": {
        "colab": {
          "base_uri": "https://localhost:8080/"
        },
        "id": "Fp7e65Avs119",
        "outputId": "e1329a14-f202-41e5-fef6-743554c1fb8b"
      },
      "execution_count": 53,
      "outputs": [
        {
          "output_type": "stream",
          "name": "stdout",
          "text": [
            "Hi\n"
          ]
        }
      ]
    },
    {
      "cell_type": "markdown",
      "source": [
        "## arguments"
      ],
      "metadata": {
        "id": "Jr3TLCBytbJ5"
      }
    },
    {
      "cell_type": "code",
      "source": [
        "def my_func2(name, family, age):\n",
        "    print('Hi! my name is ' + name + ' ' + family + \". and I'm \" + age)\n",
        "\n",
        "my_func2('Ali', 'Daghighi', '27')"
      ],
      "metadata": {
        "colab": {
          "base_uri": "https://localhost:8080/"
        },
        "id": "re3arf09tWx3",
        "outputId": "779f20a9-967a-483b-8a2c-cbd798f84978"
      },
      "execution_count": 54,
      "outputs": [
        {
          "output_type": "stream",
          "name": "stdout",
          "text": [
            "Hi! my name is Ali Daghighi. and I'm 27\n"
          ]
        }
      ]
    },
    {
      "cell_type": "markdown",
      "source": [
        "### Default value"
      ],
      "metadata": {
        "id": "J0v4Bmj1tmVS"
      }
    },
    {
      "cell_type": "code",
      "source": [
        "def my_func3(name='Ali', family='Daghighi', age='27'):\n",
        "    print('Hi! my name is ' + name + ' ' + family + \". and I'm \" + age)\n",
        "\n",
        "my_func3()"
      ],
      "metadata": {
        "colab": {
          "base_uri": "https://localhost:8080/"
        },
        "id": "qRwfjwOftkJg",
        "outputId": "6ebb4d80-8bba-4eb5-c680-1b8e716e96be"
      },
      "execution_count": 55,
      "outputs": [
        {
          "output_type": "stream",
          "name": "stdout",
          "text": [
            "Hi! my name is Ali Daghighi. and I'm 27\n"
          ]
        }
      ]
    },
    {
      "cell_type": "markdown",
      "source": [
        "## Multiple args"
      ],
      "metadata": {
        "id": "ZJgXCJI7t6Wm"
      }
    },
    {
      "cell_type": "code",
      "source": [
        "def my_func4(name='Ali', *other_stuff):\n",
        "    print(\"Hi my name is \" + name + \" and some other stuff xD\")\n",
        "    for var in other_stuff:\n",
        "        print(var)\n",
        "\n",
        "my_func4('Ali', 'Some', 'Random', 'Other', 'Stuff')"
      ],
      "metadata": {
        "colab": {
          "base_uri": "https://localhost:8080/"
        },
        "id": "VzOJpXndtq5C",
        "outputId": "b1837e50-2423-40cd-df62-f37175870469"
      },
      "execution_count": 56,
      "outputs": [
        {
          "output_type": "stream",
          "name": "stdout",
          "text": [
            "Hi my name is Ali and some other stuff xD\n",
            "Some\n",
            "Random\n",
            "Other\n",
            "Stuff\n"
          ]
        }
      ]
    },
    {
      "cell_type": "markdown",
      "source": [
        "## return"
      ],
      "metadata": {
        "id": "h8J0d_iGuBTh"
      }
    },
    {
      "cell_type": "code",
      "source": [
        "def my_func5(*args):\n",
        "    resault = 0\n",
        "    for arg in args:\n",
        "        resault += arg\n",
        "    return resault\n",
        "\n",
        "print(my_func5(1 ,2, 3, 4))"
      ],
      "metadata": {
        "colab": {
          "base_uri": "https://localhost:8080/"
        },
        "id": "ln0i1gSXt_QL",
        "outputId": "44dae1bd-2820-4aba-fdf3-0d1810814841"
      },
      "execution_count": 57,
      "outputs": [
        {
          "output_type": "stream",
          "name": "stdout",
          "text": [
            "10\n"
          ]
        }
      ]
    },
    {
      "cell_type": "markdown",
      "source": [
        "## return multiple"
      ],
      "metadata": {
        "id": "jukc_gSTuK09"
      }
    },
    {
      "cell_type": "code",
      "source": [
        "def my_function(a=\"\", b=\"\", c=\"\"):\n",
        "    return \"Hi \" + a + b + c, b + c\n",
        "\n",
        "output = my_function(\"asdasdasd\", b='This is b ', c='This is c ')\n",
        "\n",
        "print(output)\n",
        "print(len(output))\n",
        "print(output[1])\n"
      ],
      "metadata": {
        "colab": {
          "base_uri": "https://localhost:8080/"
        },
        "id": "kcJX8QPJuGIP",
        "outputId": "bb9afdcb-3970-4a67-d261-7881561141d3"
      },
      "execution_count": 58,
      "outputs": [
        {
          "output_type": "stream",
          "name": "stdout",
          "text": [
            "('Hi asdasdasdThis is b This is c ', 'This is b This is c ')\n",
            "2\n",
            "This is b This is c \n"
          ]
        }
      ]
    },
    {
      "cell_type": "markdown",
      "source": [
        "## Unpacking"
      ],
      "metadata": {
        "id": "0RAbNHw6undr"
      }
    },
    {
      "cell_type": "code",
      "source": [
        "mylist = [1,2]\n",
        "first , second = mylist\n",
        "print(first, second)"
      ],
      "metadata": {
        "colab": {
          "base_uri": "https://localhost:8080/"
        },
        "id": "mP2AqP0luPTL",
        "outputId": "48109cf4-9d25-468a-c919-b0c16079535d"
      },
      "execution_count": 59,
      "outputs": [
        {
          "output_type": "stream",
          "name": "stdout",
          "text": [
            "1 2\n"
          ]
        }
      ]
    },
    {
      "cell_type": "markdown",
      "source": [
        "The line `first, second = mylist` unpacks the elements of the list into the variables `first` and `second`\n",
        "\n",
        "This approach works with any iterable (like lists, tuples, sets, etc.) as long as the number of variables on the left matches the number of elements in the iterable. If the numbers don't match, Python will give error"
      ],
      "metadata": {
        "id": "NoVqJjI9vBYz"
      }
    },
    {
      "cell_type": "markdown",
      "source": [
        "# Scope of variables"
      ],
      "metadata": {
        "id": "LxD0W5CMvhII"
      }
    },
    {
      "cell_type": "markdown",
      "source": [
        "All variables in a program may not be accessible at all locations in that program.\n",
        "\n",
        "What does it mean?\n",
        "\n",
        "That means \"where have you declared a variable?\"\n",
        "\n",
        "let me elaborate:\n",
        "\n",
        "In python we have \"Global variables\" and \"Local variables\""
      ],
      "metadata": {
        "id": "Wh6-QVyQvlbb"
      }
    },
    {
      "cell_type": "code",
      "source": [
        "total = 0; # This is a global variable.\n",
        "# Now we have this function:\n",
        "def my_sum( arg1, arg2 ):\n",
        "    # Add both parameters and return them.\"\n",
        "    total = arg1 + arg2; # the total is a local variable.\n",
        "    print(\"Inside the function local total : \", total)\n",
        "    return total;\n",
        "\n",
        "# Now you can call the \"sum\" function\n",
        "my_sum( 10, 20 );\n",
        "print(\"Outside the function global total : \", total)"
      ],
      "metadata": {
        "colab": {
          "base_uri": "https://localhost:8080/"
        },
        "id": "HmHLFoB8vEsU",
        "outputId": "842c579f-8416-4bc3-fabf-80424a61b1db"
      },
      "execution_count": 60,
      "outputs": [
        {
          "output_type": "stream",
          "name": "stdout",
          "text": [
            "Inside the function local total :  30\n",
            "Outside the function global total :  0\n"
          ]
        }
      ]
    },
    {
      "cell_type": "code",
      "source": [
        "# What if we needed access to the global variable?\n",
        "\n",
        "# Check this example:\n",
        "\n",
        "name = \"Bianca Peterson\"\n",
        "print(\"Before:\\t\", name)\n",
        "def setName():\n",
        "    global name\n",
        "    name = \"Bianca Lucinda Peterson\"\n",
        "\n",
        "setName()\n",
        "print(\"After:\\t\", name)\n",
        "\n",
        "# Using the keyword \"global\" you can access the outer scope"
      ],
      "metadata": {
        "colab": {
          "base_uri": "https://localhost:8080/"
        },
        "id": "rBMBDTmTvx_p",
        "outputId": "07de9308-f453-4316-fb4a-f1aeeafc27ba"
      },
      "execution_count": 61,
      "outputs": [
        {
          "output_type": "stream",
          "name": "stdout",
          "text": [
            "Before:\t Bianca Peterson\n",
            "After:\t Bianca Lucinda Peterson\n"
          ]
        }
      ]
    },
    {
      "cell_type": "markdown",
      "source": [
        "# Advent of Code 2024 Question 1 Part 1\n"
      ],
      "metadata": {
        "id": "WZ566Qmbv92X"
      }
    },
    {
      "cell_type": "markdown",
      "source": [
        "## Long Version\n",
        "\n",
        "The Chief Historian is always present for the big Christmas sleigh launch, but nobody has seen him in months! Last anyone heard, he was visiting locations that are historically significant to the North Pole; a group of Senior Historians has asked you to accompany them as they check the places they think he was most likely to visit.\n",
        "\n",
        "As each location is checked, they will mark it on their list with a star. They figure the Chief Historian must be in one of the first fifty places they'll look, so in order to save Christmas, you need to help them get fifty stars on their list before Santa takes off on December 25th.\n",
        "\n",
        "Collect stars by solving puzzles. Two puzzles will be made available on each day in the Advent calendar; the second puzzle is unlocked when you complete the first. Each puzzle grants one star. Good luck!\n",
        "\n",
        "You haven't even left yet and the group of Elvish Senior Historians has already hit a problem: their list of locations to check is currently empty. Eventually, someone decides that the best place to check first would be the Chief Historian's office.\n",
        "\n",
        "Upon pouring into the office, everyone confirms that the Chief Historian is indeed nowhere to be found. Instead, the Elves discover an assortment of notes and lists of historically significant locations! This seems to be the planning the Chief Historian was doing before he left. Perhaps these notes can be used to determine which locations to search?\n",
        "\n",
        "Throughout the Chief's office, the historically significant locations are listed not by name but by a unique number called the location ID. To make sure they don't miss anything, The Historians split into two groups, each searching the office and trying to create their own complete list of location IDs.\n",
        "\n",
        "There's just one problem: by holding the two lists up side by side (your puzzle input), it quickly becomes clear that the lists aren't very similar. Maybe you can help The Historians reconcile their lists?\n",
        "\n",
        "For example:\n",
        "```\n",
        "3   4\n",
        "4   3\n",
        "2   5\n",
        "1   3\n",
        "3   9\n",
        "3   3\n",
        "```\n",
        "Maybe the lists are only off by a small amount! To find out, pair up the numbers and measure how far apart they are. Pair up the smallest number in the left list with the smallest number in the right list, then the second-smallest left number with the second-smallest right number, and so on.\n",
        "\n",
        "Within each pair, figure out how far apart the two numbers are; you'll need to add up all of those distances. For example, if you pair up a 3 from the left list with a 7 from the right list, the distance apart is 4; if you pair up a 9 with a 3, the distance apart is 6.\n",
        "\n",
        "In the example list above, the pairs and distances would be as follows:\n",
        "\n",
        "In the example list above, the pairs and distances would be as follows:\n",
        "\n",
        "- The smallest number in the left list is 1, and the smallest number in the right list is 3. The distance between them is 2.\n",
        "- The second-smallest number in the left list is 2, and the second-smallest number in the right list is another 3. The distance between them is 1.\n",
        "- The third-smallest number in both lists is 3, so the distance between them is 0.\n",
        "- The next numbers to pair up are 3 and 4, a distance of 1.\n",
        "- The fifth-smallest numbers in each list are 3 and 5, a distance of 2.\n",
        "- Finally, the largest number in the left list is 4, while the largest number in the right list is 9; these are a distance 5 apart.\n",
        "\n",
        "To find the total distance between the left list and the right list, add up the distances between all of the pairs you found. In the example above, this is 2 + 1 + 0 + 1 + 2 + 5, a total distance of 11!\n",
        "\n",
        "Your actual left and right lists contain many location IDs. What is the total distance between your lists?"
      ],
      "metadata": {
        "id": "VFMEMLREwKZj"
      }
    },
    {
      "cell_type": "markdown",
      "source": [
        "## TL;DR version\n",
        "\n",
        "Find the total distance between the two lists by pairing the numbers in sorted order and summing their differences.\n",
        "\n",
        "For example:\n",
        "```\n",
        "3   4\n",
        "4   3\n",
        "2   5\n",
        "1   3\n",
        "3   9\n",
        "3   3\n",
        "```\n",
        "In the example list above, the pairs and distances would be as follows:\n",
        "\n",
        "- The smallest number in the left list is 1, and the smallest number in the right list is 3. The distance between them is 2.\n",
        "- The second-smallest number in the left list is 2, and the second-smallest number in the right list is another 3. The distance between them is 1.\n",
        "- The third-smallest number in both lists is 3, so the distance between them is 0.\n",
        "- The next numbers to pair up are 3 and 4, a distance of 1.\n",
        "- The fifth-smallest numbers in each list are 3 and 5, a distance of 2.\n",
        "- Finally, the largest number in the left list is 4, while the largest number in the right list is 9; these are a distance 5 apart.\n",
        "\n",
        "To find the total distance between the left list and the right list, add up the distances between all of the pairs you found. In the example above, this is 2 + 1 + 0 + 1 + 2 + 5, a total distance of 11!\n",
        "\n",
        "Your actual left and right lists contain many location IDs. What is the total distance between your lists?"
      ],
      "metadata": {
        "id": "24-P60-Awl4B"
      }
    },
    {
      "cell_type": "code",
      "source": [
        "lines = \"\"\"3   4\n",
        "4   3\n",
        "2   5\n",
        "1   3\n",
        "3   9\n",
        "3   3\"\"\".split('\\n')"
      ],
      "metadata": {
        "id": "j--5orH1x9PU"
      },
      "execution_count": 62,
      "outputs": []
    },
    {
      "cell_type": "code",
      "source": [
        "print(lines)"
      ],
      "metadata": {
        "colab": {
          "base_uri": "https://localhost:8080/"
        },
        "id": "xkbjTsflyGUD",
        "outputId": "255166e9-191f-405a-8963-31e8a8d87a68"
      },
      "execution_count": 63,
      "outputs": [
        {
          "output_type": "stream",
          "name": "stdout",
          "text": [
            "['3   4', '4   3', '2   5', '1   3', '3   9', '3   3']\n"
          ]
        }
      ]
    },
    {
      "cell_type": "code",
      "source": [
        "def fix_line(line):\n",
        "  return line.split()"
      ],
      "metadata": {
        "id": "0BIII78hv3Ue"
      },
      "execution_count": 64,
      "outputs": []
    },
    {
      "cell_type": "code",
      "source": [
        "L1 = []\n",
        "L2 = []\n",
        "L3 = []\n",
        "for line in lines:\n",
        "  line = fix_line(line)\n",
        "  L1.append(int(line[0]))\n",
        "  L2.append(int(line[1]))"
      ],
      "metadata": {
        "id": "FCsieWGyxlrP"
      },
      "execution_count": 65,
      "outputs": []
    },
    {
      "cell_type": "code",
      "source": [
        "L1.sort()\n",
        "L2.sort()"
      ],
      "metadata": {
        "id": "dYpdAFKZxsh0"
      },
      "execution_count": 66,
      "outputs": []
    },
    {
      "cell_type": "code",
      "source": [
        "for index in range(len(L1)):\n",
        "  a = L1[index]\n",
        "  b = L2[index]\n",
        "  L3.append(abs(a - b))"
      ],
      "metadata": {
        "id": "1WHzmB4wxvnJ"
      },
      "execution_count": 67,
      "outputs": []
    },
    {
      "cell_type": "code",
      "source": [
        "print(sum(L3))"
      ],
      "metadata": {
        "colab": {
          "base_uri": "https://localhost:8080/"
        },
        "id": "N--FaQmHxxfT",
        "outputId": "77b173a6-7989-4866-9cdd-09bc241056ea"
      },
      "execution_count": 68,
      "outputs": [
        {
          "output_type": "stream",
          "name": "stdout",
          "text": [
            "11\n"
          ]
        }
      ]
    },
    {
      "cell_type": "markdown",
      "source": [
        "---\n",
        "\n",
        "# END OF SESSION 1"
      ],
      "metadata": {
        "id": "g64vX_5-zSnD"
      }
    },
    {
      "cell_type": "code",
      "source": [],
      "metadata": {
        "id": "ki2YL1_5zVtf"
      },
      "execution_count": null,
      "outputs": []
    }
  ]
}