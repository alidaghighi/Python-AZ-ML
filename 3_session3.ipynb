{
 "cells": [
  {
   "cell_type": "markdown",
   "metadata": {
    "id": "rXOKDuuCJnF3"
   },
   "source": [
    "# Revision"
   ]
  },
  {
   "cell_type": "code",
   "execution_count": 3,
   "metadata": {
    "colab": {
     "base_uri": "https://localhost:8080/"
    },
    "id": "qUSn8x3O5Fee",
    "outputId": "1d678584-4886-4b7f-872e-0e8e74828d2f"
   },
   "outputs": [
    {
     "name": "stdout",
     "output_type": "stream",
     "text": [
      "0.008033990859985352\n"
     ]
    }
   ],
   "source": [
    "import time\n",
    "# List Comperhensions\n",
    "current = time.time()\n",
    "my_list = [i for i in range(100000)]\n",
    "finish = time.time()\n",
    "print(finish - current)\n",
    "# print(my_list)"
   ]
  },
  {
   "cell_type": "code",
   "execution_count": 4,
   "metadata": {
    "colab": {
     "base_uri": "https://localhost:8080/",
     "height": 293
    },
    "id": "vbliPKEU5IA-",
    "outputId": "1d902131-c137-431a-ab68-198ba8f14c06"
   },
   "outputs": [
    {
     "name": "stdout",
     "output_type": "stream",
     "text": [
      "range(0, 5)\n",
      "[0, 1, 2, 3, 4]\n",
      "h\n",
      "i\n"
     ]
    },
    {
     "ename": "StopIteration",
     "evalue": "",
     "output_type": "error",
     "traceback": [
      "\u001b[0;31m---------------------------------------------------------------------------\u001b[0m",
      "\u001b[0;31mStopIteration\u001b[0m                             Traceback (most recent call last)",
      "\u001b[0;32m<ipython-input-4-a46250c60fba>\u001b[0m in \u001b[0;36m<cell line: 7>\u001b[0;34m()\u001b[0m\n\u001b[1;32m      5\u001b[0m \u001b[0mprint\u001b[0m\u001b[0;34m(\u001b[0m\u001b[0mnext\u001b[0m\u001b[0;34m(\u001b[0m\u001b[0miterator\u001b[0m\u001b[0;34m)\u001b[0m\u001b[0;34m)\u001b[0m\u001b[0;34m\u001b[0m\u001b[0;34m\u001b[0m\u001b[0m\n\u001b[1;32m      6\u001b[0m \u001b[0mprint\u001b[0m\u001b[0;34m(\u001b[0m\u001b[0mnext\u001b[0m\u001b[0;34m(\u001b[0m\u001b[0miterator\u001b[0m\u001b[0;34m)\u001b[0m\u001b[0;34m)\u001b[0m\u001b[0;34m\u001b[0m\u001b[0;34m\u001b[0m\u001b[0m\n\u001b[0;32m----> 7\u001b[0;31m \u001b[0mprint\u001b[0m\u001b[0;34m(\u001b[0m\u001b[0mnext\u001b[0m\u001b[0;34m(\u001b[0m\u001b[0miterator\u001b[0m\u001b[0;34m)\u001b[0m\u001b[0;34m)\u001b[0m\u001b[0;34m\u001b[0m\u001b[0;34m\u001b[0m\u001b[0m\n\u001b[0m\u001b[1;32m      8\u001b[0m \u001b[0;31m####\u001b[0m\u001b[0;34m\u001b[0m\u001b[0;34m\u001b[0m\u001b[0m\n\u001b[1;32m      9\u001b[0m \u001b[0;32mdef\u001b[0m \u001b[0mmy_generator\u001b[0m\u001b[0;34m(\u001b[0m\u001b[0;34m)\u001b[0m\u001b[0;34m:\u001b[0m\u001b[0;34m\u001b[0m\u001b[0;34m\u001b[0m\u001b[0m\n",
      "\u001b[0;31mStopIteration\u001b[0m: "
     ]
    }
   ],
   "source": [
    "# Generators and iterators and range\n",
    "print(range(5))\n",
    "print(list(range(5)))\n",
    "iterator = iter('hi')\n",
    "print(next(iterator))\n",
    "print(next(iterator))\n",
    "print(next(iterator))\n",
    "####\n"
   ]
  },
  {
   "cell_type": "code",
   "execution_count": 5,
   "metadata": {
    "colab": {
     "base_uri": "https://localhost:8080/"
    },
    "id": "JQdOIzVErD5W",
    "outputId": "811899f0-06d0-4e2f-8e4b-235021ceb227"
   },
   "outputs": [
    {
     "name": "stdout",
     "output_type": "stream",
     "text": [
      "1\n",
      "2\n",
      "3\n"
     ]
    }
   ],
   "source": [
    "def my_generator():\n",
    "    yield 1\n",
    "    yield 2\n",
    "    yield 3\n",
    "\n",
    "# Using the generator\n",
    "gen = my_generator()\n",
    "print(next(gen))  # Output: 1\n",
    "print(next(gen))  # Output: 2\n",
    "print(next(gen))  # Output: 3\n",
    "# print(next(gen))  # Raises StopIteration"
   ]
  },
  {
   "cell_type": "code",
   "execution_count": 6,
   "metadata": {
    "colab": {
     "base_uri": "https://localhost:8080/"
    },
    "id": "8N_KtezIJ8rc",
    "outputId": "0a01608d-a47a-4f5f-a2f7-daa748cd62b5"
   },
   "outputs": [
    {
     "data": {
      "text/plain": [
       "3"
      ]
     },
     "execution_count": 6,
     "metadata": {},
     "output_type": "execute_result"
    }
   ],
   "source": [
    "# Lambda\n",
    "my_add = lambda x, y: x + y\n",
    "\n",
    "my_add(1, 2)"
   ]
  },
  {
   "cell_type": "code",
   "execution_count": 7,
   "metadata": {
    "colab": {
     "base_uri": "https://localhost:8080/"
    },
    "id": "7uskNkt5uyXN",
    "outputId": "16d4b561-4f19-4d41-d57f-b16381a447c1"
   },
   "outputs": [
    {
     "name": "stdout",
     "output_type": "stream",
     "text": [
      "1\n",
      "4\n",
      "9\n",
      "16\n",
      "1\n"
     ]
    }
   ],
   "source": [
    "# Map\n",
    "def power2(x):\n",
    "  return x ** 2\n",
    "\n",
    "l1 = [1, 2, 3, 4]\n",
    "for i in l1:\n",
    "    print(power2(i))\n",
    "\n",
    "m1 =map(power2, l1)\n",
    "print(next(m1))"
   ]
  },
  {
   "cell_type": "code",
   "execution_count": 8,
   "metadata": {
    "colab": {
     "base_uri": "https://localhost:8080/",
     "height": 311
    },
    "id": "qDeAhTjBKI3Z",
    "outputId": "5d314375-fad7-453f-8fa6-b8cc32a75be0"
   },
   "outputs": [
    {
     "name": "stdout",
     "output_type": "stream",
     "text": [
      "(1, '1')\n",
      "(2, '2')\n",
      "(3, '3')\n",
      "(4, '4')\n",
      "(5, '5')\n"
     ]
    },
    {
     "ename": "IndexError",
     "evalue": "list index out of range",
     "output_type": "error",
     "traceback": [
      "\u001b[0;31m---------------------------------------------------------------------------\u001b[0m",
      "\u001b[0;31mIndexError\u001b[0m                                Traceback (most recent call last)",
      "\u001b[0;32m<ipython-input-8-ddf193feac00>\u001b[0m in \u001b[0;36m<cell line: 5>\u001b[0;34m()\u001b[0m\n\u001b[1;32m      4\u001b[0m \u001b[0ml2\u001b[0m \u001b[0;34m=\u001b[0m \u001b[0;34m[\u001b[0m\u001b[0;34m'1'\u001b[0m\u001b[0;34m,\u001b[0m \u001b[0;34m'2'\u001b[0m\u001b[0;34m,\u001b[0m \u001b[0;34m'3'\u001b[0m\u001b[0;34m,\u001b[0m \u001b[0;34m'4'\u001b[0m\u001b[0;34m,\u001b[0m \u001b[0;34m'5'\u001b[0m\u001b[0;34m,\u001b[0m \u001b[0;34m'6'\u001b[0m\u001b[0;34m]\u001b[0m\u001b[0;34m\u001b[0m\u001b[0;34m\u001b[0m\u001b[0m\n\u001b[1;32m      5\u001b[0m \u001b[0;32mfor\u001b[0m \u001b[0mi\u001b[0m \u001b[0;32min\u001b[0m \u001b[0mrange\u001b[0m\u001b[0;34m(\u001b[0m\u001b[0mlen\u001b[0m\u001b[0;34m(\u001b[0m\u001b[0ml2\u001b[0m\u001b[0;34m)\u001b[0m\u001b[0;34m)\u001b[0m\u001b[0;34m:\u001b[0m\u001b[0;34m\u001b[0m\u001b[0;34m\u001b[0m\u001b[0m\n\u001b[0;32m----> 6\u001b[0;31m     \u001b[0mprint\u001b[0m\u001b[0;34m(\u001b[0m\u001b[0;34m(\u001b[0m\u001b[0ml1\u001b[0m\u001b[0;34m[\u001b[0m\u001b[0mi\u001b[0m\u001b[0;34m]\u001b[0m\u001b[0;34m,\u001b[0m \u001b[0ml2\u001b[0m\u001b[0;34m[\u001b[0m\u001b[0mi\u001b[0m\u001b[0;34m]\u001b[0m\u001b[0;34m)\u001b[0m\u001b[0;34m)\u001b[0m\u001b[0;34m\u001b[0m\u001b[0;34m\u001b[0m\u001b[0m\n\u001b[0m\u001b[1;32m      7\u001b[0m \u001b[0ml1\u001b[0m \u001b[0;34m=\u001b[0m \u001b[0;34m[\u001b[0m\u001b[0;36m1\u001b[0m\u001b[0;34m,\u001b[0m \u001b[0;36m2\u001b[0m\u001b[0;34m,\u001b[0m \u001b[0;36m3\u001b[0m\u001b[0;34m,\u001b[0m \u001b[0;36m4\u001b[0m\u001b[0;34m,\u001b[0m \u001b[0;36m5\u001b[0m\u001b[0;34m]\u001b[0m\u001b[0;34m\u001b[0m\u001b[0;34m\u001b[0m\u001b[0m\n\u001b[1;32m      8\u001b[0m \u001b[0ml2\u001b[0m \u001b[0;34m=\u001b[0m \u001b[0;34m[\u001b[0m\u001b[0;34m'1'\u001b[0m\u001b[0;34m,\u001b[0m \u001b[0;34m'2'\u001b[0m\u001b[0;34m,\u001b[0m \u001b[0;34m'3'\u001b[0m\u001b[0;34m,\u001b[0m \u001b[0;34m'4'\u001b[0m\u001b[0;34m]\u001b[0m\u001b[0;34m\u001b[0m\u001b[0;34m\u001b[0m\u001b[0m\n",
      "\u001b[0;31mIndexError\u001b[0m: list index out of range"
     ]
    }
   ],
   "source": [
    "# Zip\n",
    "\n",
    "l1 = [1, 2, 3, 4, 5]\n",
    "l2 = ['1', '2', '3', '4', '5', '6']\n",
    "for i in range(len(l2)):\n",
    "    print((l1[i], l2[i]))\n"
   ]
  },
  {
   "cell_type": "code",
   "execution_count": 9,
   "metadata": {
    "colab": {
     "base_uri": "https://localhost:8080/"
    },
    "id": "8Dau-Lo1rLRg",
    "outputId": "28ea9153-b814-4191-c852-877d0992d749"
   },
   "outputs": [
    {
     "name": "stdout",
     "output_type": "stream",
     "text": [
      "i:  1 , j:  1\n",
      "i:  2 , j:  2\n",
      "i:  3 , j:  3\n",
      "i:  4 , j:  4\n"
     ]
    }
   ],
   "source": [
    "l1 = [1, 2, 3, 4, 5]\n",
    "l2 = ['1', '2', '3', '4']\n",
    "\n",
    "# zipped = list(zip(l1, l2))\n",
    "# print(zipped)\n",
    "\n",
    "for i, j in zip(l1, l2):\n",
    "    print('i: ', i, ', j: ', j)"
   ]
  },
  {
   "cell_type": "code",
   "execution_count": 10,
   "metadata": {
    "colab": {
     "base_uri": "https://localhost:8080/",
     "height": 402
    },
    "id": "udIkalxIKSHs",
    "outputId": "72d5c530-591a-431e-8c57-7d64803a5034"
   },
   "outputs": [
    {
     "name": "stdout",
     "output_type": "stream",
     "text": [
      "0 1\n",
      "1 2\n",
      "2 3\n",
      "3 4\n",
      "4 5\n",
      "0 1\n",
      "1 2\n",
      "2 3\n",
      "3 4\n",
      "4 5\n"
     ]
    },
    {
     "ename": "TypeError",
     "evalue": "'set' object is not subscriptable",
     "output_type": "error",
     "traceback": [
      "\u001b[0;31m---------------------------------------------------------------------------\u001b[0m",
      "\u001b[0;31mTypeError\u001b[0m                                 Traceback (most recent call last)",
      "\u001b[0;32m<ipython-input-10-6c3f24ab8fc5>\u001b[0m in \u001b[0;36m<cell line: 11>\u001b[0;34m()\u001b[0m\n\u001b[1;32m     10\u001b[0m \u001b[0mmy_set\u001b[0m \u001b[0;34m=\u001b[0m \u001b[0;34m{\u001b[0m\u001b[0;36m1\u001b[0m\u001b[0;34m,\u001b[0m\u001b[0;36m2\u001b[0m\u001b[0;34m,\u001b[0m\u001b[0;36m3\u001b[0m\u001b[0;34m,\u001b[0m\u001b[0;36m4\u001b[0m\u001b[0;34m,\u001b[0m\u001b[0;36m5\u001b[0m\u001b[0;34m}\u001b[0m\u001b[0;34m\u001b[0m\u001b[0;34m\u001b[0m\u001b[0m\n\u001b[1;32m     11\u001b[0m \u001b[0;32mfor\u001b[0m \u001b[0mi\u001b[0m \u001b[0;32min\u001b[0m \u001b[0mrange\u001b[0m\u001b[0;34m(\u001b[0m\u001b[0mlen\u001b[0m\u001b[0;34m(\u001b[0m\u001b[0mmy_set\u001b[0m\u001b[0;34m)\u001b[0m\u001b[0;34m)\u001b[0m\u001b[0;34m:\u001b[0m\u001b[0;34m\u001b[0m\u001b[0;34m\u001b[0m\u001b[0m\n\u001b[0;32m---> 12\u001b[0;31m     \u001b[0mprint\u001b[0m\u001b[0;34m(\u001b[0m\u001b[0mi\u001b[0m\u001b[0;34m,\u001b[0m \u001b[0mmy_set\u001b[0m\u001b[0;34m[\u001b[0m\u001b[0mi\u001b[0m\u001b[0;34m]\u001b[0m\u001b[0;34m)\u001b[0m\u001b[0;34m\u001b[0m\u001b[0;34m\u001b[0m\u001b[0m\n\u001b[0m\u001b[1;32m     13\u001b[0m \u001b[0;34m\u001b[0m\u001b[0m\n\u001b[1;32m     14\u001b[0m \u001b[0;32mfor\u001b[0m \u001b[0mindex\u001b[0m\u001b[0;34m,\u001b[0m \u001b[0mvalue\u001b[0m \u001b[0;32min\u001b[0m \u001b[0menumerate\u001b[0m\u001b[0;34m(\u001b[0m\u001b[0mmy_set\u001b[0m\u001b[0;34m)\u001b[0m\u001b[0;34m:\u001b[0m\u001b[0;34m\u001b[0m\u001b[0;34m\u001b[0m\u001b[0m\n",
      "\u001b[0;31mTypeError\u001b[0m: 'set' object is not subscriptable"
     ]
    }
   ],
   "source": [
    "# Enumerate\n",
    "\n",
    "l1 = [1, 2, 3, 4, 5]\n",
    "for i in range(len(l1)):\n",
    "    print(i, l1[i])\n",
    "\n",
    "for index, value in enumerate(l1):\n",
    "    print(index, value)\n",
    "\n",
    "my_set = {1,2,3,4,5}\n",
    "for i in range(len(my_set)):\n",
    "    print(i, my_set[i])\n",
    "\n"
   ]
  },
  {
   "cell_type": "code",
   "execution_count": 11,
   "metadata": {
    "colab": {
     "base_uri": "https://localhost:8080/"
    },
    "id": "mCmPoGdmrN-p",
    "outputId": "7e29c293-8a87-4065-c5bd-a9a588a580a2"
   },
   "outputs": [
    {
     "name": "stdout",
     "output_type": "stream",
     "text": [
      "0 1\n",
      "1 2\n",
      "2 3\n",
      "3 4\n",
      "4 5\n"
     ]
    }
   ],
   "source": [
    "for index, value in enumerate(my_set):\n",
    "    print(index, value)"
   ]
  },
  {
   "cell_type": "code",
   "execution_count": 12,
   "metadata": {
    "colab": {
     "base_uri": "https://localhost:8080/"
    },
    "id": "9g0FweZ3K_AP",
    "outputId": "eb04bd58-1ba2-42e9-9e82-90721c96bd0a"
   },
   "outputs": [
    {
     "name": "stdout",
     "output_type": "stream",
     "text": [
      "Enter a number: 3\n",
      "0.3333333333333333\n",
      "No error\n",
      "Finally\n"
     ]
    }
   ],
   "source": [
    "# Errors\n",
    "\n",
    "try:\n",
    "    a = int(input(\"Enter a number: \"))\n",
    "    print(1/a)\n",
    "except:\n",
    "    print(\"Invalid input\")\n",
    "else:\n",
    "    print(\"No error\")\n",
    "finally:\n",
    "    print(\"Finally\")"
   ]
  },
  {
   "cell_type": "code",
   "execution_count": 13,
   "metadata": {
    "colab": {
     "base_uri": "https://localhost:8080/"
    },
    "id": "Jzaunc7ILC1J",
    "outputId": "8b605188-92df-4685-ab70-39726dcf0706"
   },
   "outputs": [
    {
     "name": "stdout",
     "output_type": "stream",
     "text": [
      "File not found\n",
      "File will be created\n"
     ]
    }
   ],
   "source": [
    "# Files\n",
    "try:\n",
    "\n",
    "  f = open(\"Q1.py\")    # open file in current directory\n",
    "  print(f.readline())      # read the entire file\n",
    "except:\n",
    "    print(\"File not found\")\n",
    "    print(\"File will be created\")\n",
    "    f = open(\"Q1.py\", \"w\")\n",
    "    f.write(\"print('Hello World')\")\n",
    "finally:\n",
    "  f.close()"
   ]
  },
  {
   "cell_type": "markdown",
   "metadata": {
    "id": "LDtKnUDRroiS"
   },
   "source": [
    "# Practice Time"
   ]
  },
  {
   "cell_type": "markdown",
   "metadata": {
    "id": "f2UJPsL9rrIf"
   },
   "source": [
    "## Question 1\n",
    "\n",
    "Cipher is a secret or disguised way of writing a text.\n",
    "In this question we have a cipher algorithm called **Nano Cipher**\n",
    "\n",
    "This algorithm encrypts the given text using a simple substitution cipher. It gets a plain text to encrypt and a single Integer which is the number of positions to shift each character.\n",
    "\n",
    "The mathematical formula for the encryption process is:\n",
    "\n",
    "$$\n",
    "E(x) = (x - \\text{offset} + \\text{shift}) \\mod 26 + \\text{offset}\n",
    "$$\n",
    "\n",
    "### Breakdown of the formula:\n",
    "1. **`x`**: The ASCII value of the current character (`ord(char)`).\n",
    "2. **`offset`**: A value to normalize the range for uppercase or lowercase letters:\n",
    "   - `65` for uppercase (`'A'` to `'Z'`).\n",
    "   - `97` for lowercase (`'a'` to `'z'`).\n",
    "3. **`shift`**: The number of positions to shift each character.\n",
    "4. **`% 26`**: Ensures the result wraps around the alphabet (e.g., `'Z'` shifted by 1 becomes `'A'`).\n",
    "5. **`+ offset`**: Converts the normalized value back to a valid ASCII code for the target case.\n",
    "\n",
    "The formula works only for alphabetic characters. Non-alphabetic characters are appended to the result unchanged.\n",
    "\n",
    "### Decryption Formula:\n",
    "For decryption, you reverse the shift:\n",
    "$$\n",
    "D(x) = (x - \\text{offset} - \\text{shift}) \\mod 26 + \\text{offset}\n",
    "$$\n",
    "\n",
    "This restores the original text.\n",
    "\n",
    "\n",
    "---\n",
    "***Example***\n",
    "\n",
    "Encrypted: Xibx\n",
    "\n",
    "Decrypted: Text"
   ]
  },
  {
   "cell_type": "code",
   "execution_count": null,
   "metadata": {},
   "outputs": [],
   "source": []
  },
  {
   "cell_type": "markdown",
   "metadata": {
    "id": "QRK1amub6aND"
   },
   "source": [
    "# OOP"
   ]
  },
  {
   "cell_type": "markdown",
   "metadata": {
    "id": "8inoIg876cJF"
   },
   "source": [
    "Object-Oriented Programming (OOP) is a programming paradigm that organizes and models code based on real-world entities using objects.\n",
    "\n",
    "Python is an object-oriented language and provides tools to implement OOP concepts:\n",
    "- classes\n",
    "- objects\n",
    "- inheritance\n",
    "- encapsulation\n",
    "- polymorphism\n",
    "- abstraction"
   ]
  },
  {
   "cell_type": "markdown",
   "metadata": {
    "id": "EI9hLYZk6sIG"
   },
   "source": [
    "## Class:\n",
    "\n",
    "- A blueprint for creating objects. It defines properties (attributes) and behaviors (methods)."
   ]
  },
  {
   "cell_type": "code",
   "execution_count": null,
   "metadata": {
    "id": "gCiifWvU33Xg"
   },
   "outputs": [],
   "source": []
  },
  {
   "cell_type": "markdown",
   "metadata": {
    "id": "cl80FqM67hcq"
   },
   "source": [
    "## Object:\n",
    "\n",
    "- An instance of a class. It contains data and methods defined in the class.\n"
   ]
  },
  {
   "cell_type": "code",
   "execution_count": null,
   "metadata": {
    "id": "xxW4eGgg7lEl"
   },
   "outputs": [],
   "source": []
  },
  {
   "cell_type": "markdown",
   "metadata": {
    "id": "QohTba4x7pbr"
   },
   "source": [
    "## OOP Principles"
   ]
  },
  {
   "cell_type": "markdown",
   "metadata": {
    "id": "N2MV_YX_7vEn"
   },
   "source": [
    "### Encapsulation:\n",
    "\n",
    "- Bundling data (attributes) and methods that operate on the data into a single unit (class).\n",
    "\n",
    "- Access control is provided using access modifiers:\n",
    "\n",
    "  - Public: `self.attribute`\n",
    "  - Private: `self.__attribute` (name mangling)"
   ]
  },
  {
   "cell_type": "code",
   "execution_count": null,
   "metadata": {
    "id": "QKoNf0l77rkx"
   },
   "outputs": [],
   "source": []
  },
  {
   "cell_type": "markdown",
   "metadata": {
    "id": "NHhbBEvY79dK"
   },
   "source": [
    "### Inheritance:\n",
    "\n",
    "- Mechanism to create a new class (child class) based on an existing class (parent class). The child class inherits attributes and methods of the parent class."
   ]
  },
  {
   "cell_type": "code",
   "execution_count": null,
   "metadata": {
    "id": "pb6N4tM18Ao9"
   },
   "outputs": [],
   "source": []
  },
  {
   "cell_type": "markdown",
   "metadata": {
    "id": "mXo7f4ud8BHI"
   },
   "source": [
    "### Polymorphism:\n",
    "\n",
    "- The ability of different objects to respond differently to the same method or function call.\n",
    "  - i.e. Method Overriding"
   ]
  },
  {
   "cell_type": "code",
   "execution_count": null,
   "metadata": {
    "id": "bcq90qhg8KCI"
   },
   "outputs": [],
   "source": []
  },
  {
   "cell_type": "markdown",
   "metadata": {
    "id": "Ehi1ZXxM8K16"
   },
   "source": [
    "### Abstraction:\n",
    "\n",
    "- Hiding implementation details and showing only essential features of an object. Python achieves abstraction using abstract classes and the `abc` module."
   ]
  },
  {
   "cell_type": "code",
   "execution_count": null,
   "metadata": {
    "id": "wK6ahgGH8Rfj"
   },
   "outputs": [],
   "source": []
  },
  {
   "cell_type": "markdown",
   "metadata": {
    "id": "29dEbM4n8VP3"
   },
   "source": [
    "## Why OOP?\n",
    "\n",
    "Advantages of OOP:\n",
    "\n",
    "- Reusability: Code can be reused via inheritance, reducing redundancy.\n",
    "\n",
    "- Scalability: Easy to manage and scale code by encapsulating logic in classes.\n",
    "\n",
    "- Modularity: Classes and objects make it easier to organize code into smaller, logical components.\n",
    "\n",
    "- Security: Encapsulation allows you to restrict access to sensitive data."
   ]
  },
  {
   "cell_type": "markdown",
   "metadata": {
    "id": "ZS31kBJT8gda"
   },
   "source": [
    "## Some real codes."
   ]
  },
  {
   "cell_type": "code",
   "execution_count": null,
   "metadata": {
    "id": "NLLOjvD88Uni"
   },
   "outputs": [],
   "source": []
  }
 ],
 "metadata": {
  "colab": {
   "provenance": []
  },
  "kernelspec": {
   "display_name": "Python 3",
   "name": "python3"
  },
  "language_info": {
   "name": "python"
  }
 },
 "nbformat": 4,
 "nbformat_minor": 0
}
