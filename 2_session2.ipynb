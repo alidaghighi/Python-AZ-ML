{
 "cells": [
  {
   "cell_type": "markdown",
   "metadata": {
    "id": "rXOKDuuCJnF3"
   },
   "source": [
    "# Revision"
   ]
  },
  {
   "cell_type": "code",
   "execution_count": null,
   "metadata": {
    "colab": {
     "base_uri": "https://localhost:8080/"
    },
    "id": "qUSn8x3O5Fee",
    "outputId": "a2026a6a-3adc-4073-a0ef-2054d2c037ed"
   },
   "outputs": [
    {
     "name": "stdout",
     "output_type": "stream",
     "text": [
      "Hello World!\n"
     ]
    }
   ],
   "source": [
    "# Hello World\n",
    "print(\"Hello World!\")"
   ]
  },
  {
   "cell_type": "code",
   "execution_count": null,
   "metadata": {
    "id": "vbliPKEU5IA-"
   },
   "outputs": [],
   "source": [
    "# Variables\n",
    "\"\"\"\n",
    "Variables can hold different data types like:\n",
    "int, float, bool, str\n",
    "\"\"\"\n",
    "my_var = 10\n",
    "my_var = \"string\"  # Changing type dynamically"
   ]
  },
  {
   "cell_type": "code",
   "execution_count": null,
   "metadata": {
    "colab": {
     "base_uri": "https://localhost:8080/"
    },
    "id": "8N_KtezIJ8rc",
    "outputId": "c5427837-8547-44a3-c179-9b1eed2edf7d"
   },
   "outputs": [
    {
     "name": "stdout",
     "output_type": "stream",
     "text": [
      "7 2 8\n"
     ]
    }
   ],
   "source": [
    "# Arithmetic Operations\n",
    "\"\"\"\n",
    "+ Addition\n",
    "- Subtraction\n",
    "* Multiplication\n",
    "/ Division (returns float)\n",
    "// Floor Division(returns int)\n",
    "** Exponentiation\n",
    "\"\"\"\n",
    "\n",
    "print(5 + 2, 5 // 2, 2 ** 3)"
   ]
  },
  {
   "cell_type": "code",
   "execution_count": null,
   "metadata": {
    "colab": {
     "base_uri": "https://localhost:8080/"
    },
    "id": "qDeAhTjBKI3Z",
    "outputId": "b864f3cc-4b94-491e-e5f3-5e6ad91ea5ee"
   },
   "outputs": [
    {
     "name": "stdout",
     "output_type": "stream",
     "text": [
      "[1, 3, 4]\n"
     ]
    }
   ],
   "source": [
    "# Lists\n",
    "\"\"\"\n",
    "Definition: Ordered, mutable, allows duplicates.\n",
    "Example: my_list = [1, \"two\", 3.0, True]\n",
    "Operations:\n",
    "Append: my_list.append(4)\n",
    "Remove: my_list.remove(1)\n",
    "Slicing: my_list[1:3]\n",
    "Sorting: my_list.sort()\n",
    "Reversing: my_list.reverse()\n",
    "\"\"\"\n",
    "\n",
    "my_list = [3, 1, 4]\n",
    "my_list.sort()\n",
    "print(my_list)  # [1, 3, 4]\n"
   ]
  },
  {
   "cell_type": "code",
   "execution_count": null,
   "metadata": {
    "colab": {
     "base_uri": "https://localhost:8080/"
    },
    "id": "udIkalxIKSHs",
    "outputId": "b5f9ff54-e073-4165-fb92-17a551dca6fe"
   },
   "outputs": [
    {
     "name": "stdout",
     "output_type": "stream",
     "text": [
      "2\n",
      "2\n",
      "('two', 3.0)\n"
     ]
    }
   ],
   "source": [
    "# Tuples\n",
    "\"\"\"\n",
    "Definition: Ordered, immutable, allows duplicates.\n",
    "Example: my_tuple = (1, \"two\", 3.0, True)\n",
    "Operations:\n",
    "count: my_tuple.count(1)\n",
    "index: my_tuple.index(3)\n",
    "Slicing: my_tuple[1:3]\n",
    "\"\"\"\n",
    "my_tuple = (1, \"two\", 3.0, True)\n",
    "print(my_tuple.count(1))\n",
    "print(my_tuple.index(3))\n",
    "print(my_tuple[1:3])"
   ]
  },
  {
   "cell_type": "code",
   "execution_count": null,
   "metadata": {
    "colab": {
     "base_uri": "https://localhost:8080/"
    },
    "id": "9g0FweZ3K_AP",
    "outputId": "6891928a-0d8d-451b-8f33-4297fedc7b13"
   },
   "outputs": [
    {
     "name": "stdout",
     "output_type": "stream",
     "text": [
      "{False, 1, 2, 3, 4}\n",
      "{False, 2, 3, 4}\n",
      "{False, 2, 3, 4, 5, 6}\n",
      "{4}\n",
      "{False, 2, 3}\n"
     ]
    }
   ],
   "source": [
    "# Sets\n",
    "\"\"\"\n",
    "Definition: Unordered, no duplicates.\n",
    "Example: my_set = {1, 2, 3, 3, True, False, 0}\n",
    "Operations:\n",
    "add: my_set.add(4)\n",
    "remove: my_set.remove(1)\n",
    "union: my_set.union({4, 5, 6})\n",
    "intersection: my_set.intersection({4, 5, 6, 7, 8})\n",
    "difference: my_set.difference({4, 5, 6})\n",
    "\"\"\"\n",
    "my_set = {1, 2, 3, 3, True, False, 0}\n",
    "my_set.add(4)\n",
    "print(my_set)\n",
    "my_set.remove(1)\n",
    "print(my_set)\n",
    "print(my_set.union({4, 5, 6}))\n",
    "print(my_set.intersection({4, 5, 6, 7, 8}))\n",
    "print(my_set.difference({4, 5, 6}))"
   ]
  },
  {
   "cell_type": "code",
   "execution_count": null,
   "metadata": {
    "colab": {
     "base_uri": "https://localhost:8080/"
    },
    "id": "Jzaunc7ILC1J",
    "outputId": "e8934c64-43c4-452e-c6c1-14525276c609"
   },
   "outputs": [
    {
     "name": "stdout",
     "output_type": "stream",
     "text": [
      "John\n",
      "{'name': 'John', 'age': 30, 'city': 'New York', 'country': 'USA'}\n",
      "{'name': 'John', 'age': 31, 'city': 'New York', 'country': 'USA'}\n",
      "{'name': 'John', 'age': 31, 'country': 'USA'}\n",
      "('country', 'USA')\n",
      "{'name': 'John', 'age': 31}\n",
      "dict_keys(['name', 'age'])\n",
      "dict_values(['John', 31])\n",
      "dict_items([('name', 'John'), ('age', 31)])\n"
     ]
    }
   ],
   "source": [
    "# Dictionaries\n",
    "\"\"\"\n",
    "Definition: Unordered, mutable, key-value pairs.\n",
    "Example: my_dict = {\"name\": \"John\", \"age\": 30, \"city\": \"New York\"}\n",
    "Operations:\n",
    "get: my_dict.get(\"name\") or my_dict[\"name\"]\n",
    "add: my_dict[\"country\"] = \"USA\"\n",
    "update: my_dict.update({\"age\": 31})\n",
    "pop: my_dict.pop(\"city\")\n",
    "popitem: my_dict.popitem()\n",
    "keys: my_dict.keys()\n",
    "values: my_dict.values()\n",
    "items: my_dict.items()\n",
    "\"\"\"\n",
    "my_dict = {\"name\": \"John\", \"age\": 30, \"city\": \"New York\"}\n",
    "print(my_dict.get(\"name\"))\n",
    "my_dict[\"country\"] = \"USA\"\n",
    "print(my_dict)\n",
    "my_dict.update({\"age\": 31})\n",
    "print(my_dict)\n",
    "my_dict.pop(\"city\")\n",
    "print(my_dict)\n",
    "print(my_dict.popitem())\n",
    "print(my_dict)\n",
    "print(my_dict.keys())\n",
    "print(my_dict.values())\n",
    "print(my_dict.items())"
   ]
  },
  {
   "cell_type": "code",
   "execution_count": null,
   "metadata": {
    "colab": {
     "base_uri": "https://localhost:8080/"
    },
    "id": "4y3G6dBsNqAl",
    "outputId": "2b79c615-7b1c-4182-eb9d-09f8baa893e8"
   },
   "outputs": [
    {
     "name": "stdout",
     "output_type": "stream",
     "text": [
      "Enter a number: 10\n",
      "Equal to 10\n"
     ]
    }
   ],
   "source": [
    "# Conditional Statements\n",
    "x = input(\"Enter a number: \")\n",
    "x = int(x)\n",
    "if x > 10:\n",
    "    print(\"Greater than 10\")\n",
    "elif x == 10:\n",
    "    print(\"Equal to 10\")\n",
    "else:\n",
    "    print(\"Less than 10\")\n"
   ]
  },
  {
   "cell_type": "code",
   "execution_count": null,
   "metadata": {
    "colab": {
     "base_uri": "https://localhost:8080/"
    },
    "id": "aI7qZV4dPp7w",
    "outputId": "26e87416-9917-4e37-8e92-81843db9122f"
   },
   "outputs": [
    {
     "name": "stdout",
     "output_type": "stream",
     "text": [
      "0\n",
      "1\n",
      "2\n",
      "3\n",
      "4\n",
      "###################\n",
      "0\n",
      "1\n",
      "2\n",
      "3\n",
      "4\n"
     ]
    }
   ],
   "source": [
    "# Loops\n",
    "\n",
    "# While\n",
    "i = 0\n",
    "while i < 5:\n",
    "    print(i)\n",
    "    i += 1\n",
    "print('###################')\n",
    "# For\n",
    "for x in range(5):\n",
    "    print(x)\n"
   ]
  },
  {
   "cell_type": "code",
   "execution_count": null,
   "metadata": {
    "colab": {
     "base_uri": "https://localhost:8080/"
    },
    "id": "JpckqMh3S5HO",
    "outputId": "df0175c9-5cdd-443e-c4af-a3c7341671b4"
   },
   "outputs": [
    {
     "name": "stdout",
     "output_type": "stream",
     "text": [
      "Hello, John!\n",
      "Hello, Doe!\n"
     ]
    }
   ],
   "source": [
    "# Function\n",
    "def greet(name, lastname=\"\"):\n",
    "    return f\"Hello, {name}!\", f\"Hello, {lastname}!\"\n",
    "\n",
    "first, second = greet(\"John\", \"Doe\")\n",
    "print(first)\n",
    "print(second)\n"
   ]
  },
  {
   "cell_type": "markdown",
   "metadata": {
    "id": "FgihqnSRVzkz"
   },
   "source": [
    "# Practice Time!\n",
    "Some Small Coding practice."
   ]
  },
  {
   "cell_type": "markdown",
   "metadata": {
    "id": "PRw8wocRU5FN"
   },
   "source": [
    "\n",
    "## Question 1\n",
    "\n",
    "A word or sentence in a given language is referred to as a pangram if it includes every letter of that language's alphabet at least once. Pangrams are commonly used to showcase fonts in printing or to test output devices.\n",
    "\n",
    "You are provided with a string containing both uppercase and lowercase Latin letters. Determine whether this string is a pangram. A string is considered to include a letter from the Latin alphabet if the letter appears in either uppercase or lowercase form.\n",
    "\n",
    "\n",
    "---\n",
    "**Input**\n",
    "\n",
    "The first line contains a single integer n (1 ≤ *n* ≤ 100) — the number of characters in the string.\n",
    "\n",
    "The second line contains the string. The string consists only of uppercase and lowercase Latin letters.\n",
    "\n",
    "---\n",
    "**Output**\n",
    "\n",
    "Output \"YES\", if the string is a pangram and \"NO\" otherwise.\n",
    "\n",
    "\n",
    "---\n",
    "**Examples**\n",
    "\n",
    "*input*\n",
    "```\n",
    "12\n",
    "toosmallword\n",
    "```\n",
    "*output*\n",
    "```\n",
    "NO\n",
    "```\n",
    "*input*\n",
    "```\n",
    "35\n",
    "TheQuickBrownFoxJumpsOverTheLazyDog\n",
    "```\n",
    "*output*\n",
    "```\n",
    "YES\n",
    "```\n",
    "\n"
   ]
  },
  {
   "cell_type": "code",
   "execution_count": null,
   "metadata": {
    "id": "l59JjcuriiLt"
   },
   "outputs": [],
   "source": []
  },
  {
   "cell_type": "markdown",
   "metadata": {
    "id": "QkfVDt8hV2VQ"
   },
   "source": [
    "## Question 2\n",
    "\n",
    "\n",
    "Petya has an array $a$ consisting of $n$ integers. He wants to remove duplicate (equal) elements.\n",
    "\n",
    "Petya wants to leave only the rightmost entry (occurrence) for each element of the array. The relative order of the remaining unique elements should not be changed.\n",
    "\n",
    "---\n",
    "**input**\n",
    "\n",
    "The first line contains a single integer $n$\n",
    "$(1 \\leq n \\leq 50)$ — the number of elements in Petya's array.\n",
    "\n",
    "The following line contains a sequence $a_1, a_2, …, a_n$  \n",
    "$(1 \\leq a_i \\leq 1000)$ — Petya's array.\n",
    "\n",
    "---\n",
    "**output**\n",
    "\n",
    "In the first line print integer $x$\n",
    " — the number of elements which will be left in Petya's array after he removed the duplicates.\n",
    "\n",
    "In the second line print $x$\n",
    " integers separated with a space — Petya's array after he removed the duplicates. For each unique element only the rightmost entry should be left.\n",
    "\n",
    "---\n",
    "\n",
    " **Examples**\n",
    "\n",
    "*input*\n",
    "```\n",
    "6\n",
    "1 5 5 1 6 1\n",
    "```\n",
    "*output*\n",
    "```\n",
    "3\n",
    "5 6 1\n",
    "```\n",
    "*input*\n",
    "```\n",
    "5\n",
    "2 4 2 4 4\n",
    "```\n",
    "*output*\n",
    "```\n",
    "2\n",
    "2 4\n",
    "```\n",
    "*input*\n",
    "```\n",
    "5\n",
    "6 6 6 6 6\n",
    "```\n",
    "*output*\n",
    "```\n",
    "1\n",
    "6\n",
    "```"
   ]
  },
  {
   "cell_type": "code",
   "execution_count": null,
   "metadata": {
    "id": "QbHxtzFjTNrI"
   },
   "outputs": [],
   "source": []
  },
  {
   "cell_type": "markdown",
   "metadata": {
    "id": "fsvNvpvqka0v"
   },
   "source": [
    "# List Comperhensions"
   ]
  },
  {
   "cell_type": "markdown",
   "metadata": {
    "id": "dT4-Y1PhgH9d"
   },
   "source": [
    "{x | 0 <= x < 5}"
   ]
  },
  {
   "cell_type": "code",
   "execution_count": null,
   "metadata": {},
   "outputs": [],
   "source": []
  },
  {
   "cell_type": "markdown",
   "metadata": {
    "id": "4NKLStkKgS0f"
   },
   "source": [
    "{x | 0 <= x < 7, x not mod 3}"
   ]
  },
  {
   "cell_type": "markdown",
   "metadata": {
    "id": "pR3j4Nn5kjFd"
   },
   "source": [
    "# Generators"
   ]
  },
  {
   "cell_type": "markdown",
   "metadata": {
    "id": "v75M1gOKk82x"
   },
   "source": [
    "## Iterate iterators and range"
   ]
  },
  {
   "cell_type": "markdown",
   "metadata": {
    "id": "L4uvMDllhbpl"
   },
   "source": [
    "In the Python world, an iterable is any object that you can loop over with a for loop.\n",
    "\n",
    "Iterables are not always indexable, they don’t always have lengths, and they’re not always finite."
   ]
  },
  {
   "cell_type": "code",
   "execution_count": 8,
   "metadata": {
    "colab": {
     "base_uri": "https://localhost:8080/"
    },
    "id": "9KulCSuKalpX",
    "outputId": "950d1293-4e75-44e5-ed61-a49a1bf8112c"
   },
   "outputs": [
    {
     "data": {
      "text/plain": [
       "range(0, 5)"
      ]
     },
     "execution_count": 8,
     "metadata": {},
     "output_type": "execute_result"
    }
   ],
   "source": [
    "range(5)"
   ]
  },
  {
   "cell_type": "code",
   "execution_count": 9,
   "metadata": {
    "colab": {
     "base_uri": "https://localhost:8080/"
    },
    "id": "IbJ7aSJ_g10V",
    "outputId": "956af926-e056-4132-8513-9706439045c5"
   },
   "outputs": [
    {
     "data": {
      "text/plain": [
       "[0, 1, 2, 3, 4]"
      ]
     },
     "execution_count": 9,
     "metadata": {},
     "output_type": "execute_result"
    }
   ],
   "source": [
    "list(range(5))"
   ]
  },
  {
   "cell_type": "code",
   "execution_count": null,
   "metadata": {
    "id": "58KUXneLlKy6"
   },
   "outputs": [],
   "source": [
    "iterator = iter('hi')\n",
    "next(iterator)\n",
    "next(iterator)\n",
    "next(iterator)"
   ]
  },
  {
   "cell_type": "code",
   "execution_count": 10,
   "metadata": {
    "colab": {
     "base_uri": "https://localhost:8080/"
    },
    "id": "UCE4YyNcg3fd",
    "outputId": "4417fcd5-72b8-41a9-e384-331d83a7feeb"
   },
   "outputs": [
    {
     "data": {
      "text/plain": [
       "[0, 2, 4, 6, 8]"
      ]
     },
     "execution_count": 10,
     "metadata": {},
     "output_type": "execute_result"
    }
   ],
   "source": [
    "def my_list(x):\n",
    "    l1 = list()\n",
    "    for i in range(x):\n",
    "        l1.append(i * 2)\n",
    "    return l1\n",
    "\n",
    "my_list(5)"
   ]
  },
  {
   "cell_type": "markdown",
   "metadata": {
    "id": "WHjMhxr6ldGD"
   },
   "source": [
    "In Python, the yield keyword is used in functions to create generators, which are a type of iterable. When a function contains the yield keyword, it becomes a generator function, which can be paused and resumed, allowing it to produce a sequence of values over time rather than computing them all at once and returning them.\n",
    "\n",
    "How yield Works:\n",
    "1. State Suspension:\n",
    "\n",
    "  - When yield is encountered, the function's state is saved (variables, control flow, etc.), and the value specified by yield is returned to the caller.\n",
    "  - The function pauses execution at that point and can be resumed from where it left off.\n",
    "2. Resume Execution:\n",
    "\n",
    "  - The next value in the sequence can be obtained by calling the generator's __next__() method (or using a for loop).\n",
    "\n",
    "3. Efficient Memory Use:\n",
    "\n",
    "  - Unlike returning a complete list, yield allows for on-demand value generation, which is more memory-efficient for large datasets."
   ]
  },
  {
   "cell_type": "code",
   "execution_count": null,
   "metadata": {
    "id": "CDwgn5xxlwLB"
   },
   "outputs": [],
   "source": [
    "def my_generator():\n",
    "    yield 1\n",
    "    yield 2\n",
    "    yield 3\n",
    "\n",
    "# Using the generator\n",
    "gen = my_generator()\n",
    "print(next(gen))  # Output: 1\n",
    "print(next(gen))  # Output: 2\n",
    "print(next(gen))  # Output: 3\n",
    "# print(next(gen))  # Raises StopIteration\n"
   ]
  },
  {
   "cell_type": "markdown",
   "metadata": {
    "id": "iN2wu3Tcl1iy"
   },
   "source": [
    "Key Differences Between return and yield:\n",
    "- return: Exits the function and sends a value back to the caller.\n",
    "- yield: Pauses the function, saves its state, and sends a value to the caller. The function can be resumed later."
   ]
  },
  {
   "cell_type": "markdown",
   "metadata": {
    "id": "uhlUr2NRl_9H"
   },
   "source": [
    "Here’s a real-life scenario where yield is especially useful: processing a large log file line by line.\n",
    "\n",
    "Imagine you are working with a massive server log file that doesn't fit into memory all at once. You want to filter out and process specific lines (e.g., error messages) without loading the entire file into memory. Using yield allows you to read and process the file lazily, one line at a time."
   ]
  },
  {
   "cell_type": "code",
   "execution_count": null,
   "metadata": {},
   "outputs": [],
   "source": []
  },
  {
   "cell_type": "markdown",
   "metadata": {
    "id": "q9G7V2iwlBmR"
   },
   "source": [
    "# Modules"
   ]
  },
  {
   "cell_type": "markdown",
   "metadata": {
    "id": "Hb_DyLdglFME"
   },
   "source": [
    "## Math"
   ]
  },
  {
   "cell_type": "code",
   "execution_count": null,
   "metadata": {
    "id": "XUooDvBSanrD"
   },
   "outputs": [],
   "source": [
    "import math"
   ]
  },
  {
   "cell_type": "code",
   "execution_count": null,
   "metadata": {
    "id": "tnDbWWJ-hrK3"
   },
   "outputs": [],
   "source": [
    "from math import pi"
   ]
  },
  {
   "cell_type": "code",
   "execution_count": null,
   "metadata": {
    "id": "5Fk3viU5hueH"
   },
   "outputs": [],
   "source": [
    "pi"
   ]
  },
  {
   "cell_type": "code",
   "execution_count": null,
   "metadata": {
    "id": "V02dLkthhs0r"
   },
   "outputs": [],
   "source": [
    "pi = 'PI'"
   ]
  },
  {
   "cell_type": "code",
   "execution_count": null,
   "metadata": {
    "id": "D9mAX2qNhv-a"
   },
   "outputs": [],
   "source": [
    "pi"
   ]
  },
  {
   "cell_type": "code",
   "execution_count": 15,
   "metadata": {
    "colab": {
     "base_uri": "https://localhost:8080/"
    },
    "id": "LL9GcLM3iWlJ",
    "outputId": "e7621224-0b61-4ee5-8199-e05f41e9a37c"
   },
   "outputs": [
    {
     "data": {
      "text/plain": [
       "1.0"
      ]
     },
     "execution_count": 15,
     "metadata": {},
     "output_type": "execute_result"
    }
   ],
   "source": [
    "import math\n",
    "math.cos(0)"
   ]
  },
  {
   "cell_type": "code",
   "execution_count": 16,
   "metadata": {
    "colab": {
     "base_uri": "https://localhost:8080/"
    },
    "id": "jZ6Els9phy_E",
    "outputId": "74cd57ef-a9b4-4bd0-bb26-48eb37249b44"
   },
   "outputs": [
    {
     "data": {
      "text/plain": [
       "1.0"
      ]
     },
     "execution_count": 16,
     "metadata": {},
     "output_type": "execute_result"
    }
   ],
   "source": [
    "from math import *\n",
    "cos(0)"
   ]
  },
  {
   "cell_type": "code",
   "execution_count": 17,
   "metadata": {
    "colab": {
     "base_uri": "https://localhost:8080/"
    },
    "id": "TF4m0UzDihSq",
    "outputId": "e0fd9c17-3bef-4a63-e03a-55eeb3431baa"
   },
   "outputs": [
    {
     "data": {
      "text/plain": [
       "1.0"
      ]
     },
     "execution_count": 17,
     "metadata": {},
     "output_type": "execute_result"
    }
   ],
   "source": [
    "import math as m\n",
    "m.cos(0)"
   ]
  },
  {
   "cell_type": "markdown",
   "metadata": {
    "id": "2D1rHqEdlG2m"
   },
   "source": [
    "## Random"
   ]
  },
  {
   "cell_type": "code",
   "execution_count": null,
   "metadata": {
    "id": "RiNnq5pDaoPC"
   },
   "outputs": [],
   "source": [
    "import random"
   ]
  },
  {
   "cell_type": "code",
   "execution_count": null,
   "metadata": {
    "id": "AaNhXFFQimVY"
   },
   "outputs": [],
   "source": [
    "print(random.random())\n",
    "print(random.random())\n",
    "print(random.random())\n",
    "print(random.random())"
   ]
  },
  {
   "cell_type": "code",
   "execution_count": null,
   "metadata": {
    "id": "NEwb5Rw4ioQH"
   },
   "outputs": [],
   "source": [
    "random.seed(31066)\n",
    "print(random.random())\n",
    "print(random.random())\n",
    "print(random.random())\n",
    "print(random.random())"
   ]
  },
  {
   "cell_type": "code",
   "execution_count": null,
   "metadata": {
    "id": "5zmDwqTOip_N"
   },
   "outputs": [],
   "source": [
    "print(random.randint(0, 5))\n",
    "print(random.randint(0, 5))\n",
    "print(random.randint(0, 5))\n",
    "print(random.randint(0, 5))"
   ]
  },
  {
   "cell_type": "markdown",
   "metadata": {
    "id": "NJ1Orb4Nkpyn"
   },
   "source": [
    "# Lambda"
   ]
  },
  {
   "cell_type": "code",
   "execution_count": null,
   "metadata": {
    "id": "45vN2WVOksIO"
   },
   "outputs": [],
   "source": [
    "def my_add8(x, y):\n",
    "    return x + y\n",
    "\n",
    "my_add8(1, 2)"
   ]
  },
  {
   "cell_type": "code",
   "execution_count": null,
   "metadata": {
    "id": "phhgO3uViyGL"
   },
   "outputs": [],
   "source": [
    "my_add9 = lambda x, y: x + y\n",
    "\n",
    "my_add9(1, 2)"
   ]
  },
  {
   "cell_type": "markdown",
   "metadata": {
    "id": "TCheKqTZksjV"
   },
   "source": [
    "# Map"
   ]
  },
  {
   "cell_type": "code",
   "execution_count": null,
   "metadata": {
    "id": "6D1jI37IkvZR"
   },
   "outputs": [],
   "source": [
    "l1 = [1, 2, 3, 4]\n",
    "\n",
    "[i for i in map(lambda x: x ** 2, l1)]"
   ]
  },
  {
   "cell_type": "code",
   "execution_count": null,
   "metadata": {
    "id": "e71oL4Q-i4b4"
   },
   "outputs": [],
   "source": [
    "l1 = [1, 2, 3, 4]\n",
    "\n",
    "def my_pow(x):\n",
    "    return x ** 2\n",
    "\n",
    "[i for i in map(my_pow, l1)]"
   ]
  },
  {
   "cell_type": "code",
   "execution_count": null,
   "metadata": {
    "id": "wQVRm_hxi52w"
   },
   "outputs": [],
   "source": [
    "l1 = [1, 2, 3, 4]\n",
    "\n",
    "def my_pow2(x, y):\n",
    "    return x ** y\n",
    "\n",
    "for i in map(\n",
    "    lambda x: [(x, i, my_pow2(x, i)) for i in range(2, 4)],\n",
    "    l1\n",
    "):\n",
    "    print(i)"
   ]
  },
  {
   "cell_type": "code",
   "execution_count": null,
   "metadata": {
    "id": "C66LH4RUi7ON"
   },
   "outputs": [],
   "source": [
    "l1 = [i for i in range(100)]\n",
    "m1 = map(lambda x: x ** 2, l1)"
   ]
  },
  {
   "cell_type": "markdown",
   "metadata": {
    "id": "M4NlbjX_kv0I"
   },
   "source": [
    "# Zip"
   ]
  },
  {
   "cell_type": "code",
   "execution_count": null,
   "metadata": {
    "id": "YPw8Qt-PkxY9"
   },
   "outputs": [],
   "source": [
    "l1 = [1, 2, 3, 4, 5]\n",
    "l2 = ['1', '2', '3', '4']\n",
    "\n",
    "zipped = list(zip(l1, l2))\n",
    "zipped\n",
    "\n",
    "# for i, j in zip(l1, l2):\n",
    "#     print('i: ', i, ', j: ', j)"
   ]
  },
  {
   "cell_type": "markdown",
   "metadata": {
    "id": "1snUpTitZ9XH"
   },
   "source": [
    "# Enumerate"
   ]
  },
  {
   "cell_type": "code",
   "execution_count": null,
   "metadata": {
    "id": "TgAaPJfbaALv"
   },
   "outputs": [],
   "source": [
    "for i in range(len(l1)):\n",
    "    print(i, l1[i])"
   ]
  },
  {
   "cell_type": "code",
   "execution_count": null,
   "metadata": {
    "id": "Yaj2Z42djOPU"
   },
   "outputs": [],
   "source": [
    "for index, value in enumerate(l1):\n",
    "    print(index, value)"
   ]
  },
  {
   "cell_type": "code",
   "execution_count": null,
   "metadata": {
    "id": "nrZmjRDkjPz7"
   },
   "outputs": [],
   "source": [
    "for index, _ in enumerate(l1):\n",
    "    print(index, l1[index])"
   ]
  },
  {
   "cell_type": "code",
   "execution_count": null,
   "metadata": {
    "id": "Ns2m31DAjSPn"
   },
   "outputs": [],
   "source": [
    "l1 = [1, 2, 3, 4]\n",
    "for i, _ in enumerate(l1):\n",
    "    l1[i] = None\n",
    "    print(i)\n",
    "print(l1)"
   ]
  },
  {
   "cell_type": "markdown",
   "metadata": {
    "id": "uvZFi34VjU-F"
   },
   "source": [
    "## Comlex"
   ]
  },
  {
   "cell_type": "code",
   "execution_count": null,
   "metadata": {
    "id": "fhA5vXSujW3v"
   },
   "outputs": [],
   "source": [
    "complex(1, 2)"
   ]
  },
  {
   "cell_type": "code",
   "execution_count": null,
   "metadata": {
    "id": "aAbp5u-ejYi9"
   },
   "outputs": [],
   "source": [
    "complex('1+2j')"
   ]
  },
  {
   "cell_type": "markdown",
   "metadata": {
    "id": "lAFrfbTikyvA"
   },
   "source": [
    "# Errors and Exceptions"
   ]
  },
  {
   "cell_type": "code",
   "execution_count": null,
   "metadata": {
    "id": "RuR8qAGxk459"
   },
   "outputs": [],
   "source": [
    "try:\n",
    "    a = int(input(\"Enter a number: \"))\n",
    "\n",
    "except Exception:\n",
    "    print(\"Wrong input!\")"
   ]
  },
  {
   "cell_type": "markdown",
   "metadata": {
    "id": "6Gve3zLnlQPZ"
   },
   "source": [
    "# Files"
   ]
  },
  {
   "cell_type": "code",
   "execution_count": null,
   "metadata": {
    "id": "j36NgYfikGXb"
   },
   "outputs": [],
   "source": [
    "# Python has a built-in \"open()\" function for opening a file.\n",
    "# This function returns a file object, also called a handle,\n",
    "# as it is used to read or modify the file accordingly\n",
    "\n",
    "f = open(\"test.txt\")    # open file in current directory\n",
    "\n",
    "#                       \"OR\"\n",
    "\n",
    "f = open(\"C:/Python38/README.txt\")  # specifying full path"
   ]
  },
  {
   "cell_type": "code",
   "execution_count": null,
   "metadata": {
    "id": "D5-2Fd-6kdNL"
   },
   "outputs": [],
   "source": [
    "# The default is reading in text mode\n",
    "# On the other hand, binary mode returns bytes and this is the mode to be used when dealing with -\n",
    "# non-text files like images or executable files\n",
    "\n",
    "# There are a few modes that you can use to open a file:\n",
    "\n",
    "# r : Opens a file for reading. (default)\n",
    "\n",
    "# w : Opens a file for writing. Creates a new file if it does not exist\n",
    "#     or truncates the file if it exists.\n",
    "\n",
    "# x : Opens a file for exclusive creation.\n",
    "#     But if the file already exists, the operation fails.\n",
    "\n",
    "# a : Opens a file for appending at the end of the file without truncating it.\n",
    "#     Creates a new file if it does not exist\n",
    "\n",
    "# t : Opens in text mode. (default)\n",
    "\n",
    "# b : Opens in binary mode.\n",
    "\n",
    "# + : Opens a file for updating (reading and writing)\n",
    "\n"
   ]
  }
 ],
 "metadata": {
  "colab": {
   "provenance": []
  },
  "kernelspec": {
   "display_name": "Python 3",
   "name": "python3"
  },
  "language_info": {
   "name": "python"
  }
 },
 "nbformat": 4,
 "nbformat_minor": 0
}
